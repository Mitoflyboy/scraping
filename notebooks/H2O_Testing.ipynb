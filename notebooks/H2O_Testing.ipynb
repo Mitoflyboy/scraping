{
 "cells": [
  {
   "cell_type": "code",
   "execution_count": 1,
   "metadata": {},
   "outputs": [],
   "source": [
    "import h2o\n",
    "from h2o.estimators.deeplearning import H2ODeepLearningEstimator\n",
    "import pandas as pd\n",
    "import datetime"
   ]
  },
  {
   "cell_type": "code",
   "execution_count": 2,
   "metadata": {},
   "outputs": [
    {
     "name": "stdout",
     "output_type": "stream",
     "text": [
      "Date: 2018-05-20\n"
     ]
    }
   ],
   "source": [
    "date_str = datetime.datetime.now().strftime(\"%Y-%m-%d\")\n",
    "\n",
    "date_str = '2018-05-20'\n",
    "\n",
    "print(\"Date: \" + date_str)"
   ]
  },
  {
   "cell_type": "code",
   "execution_count": 3,
   "metadata": {},
   "outputs": [
    {
     "name": "stdout",
     "output_type": "stream",
     "text": [
      "Checking whether there is an H2O instance running at http://localhost:54321..... not found.\n",
      "Attempting to start a local H2O server...\n",
      "  Java Version: java version \"1.7.0_75\"; Java(TM) SE Runtime Environment (build 1.7.0_75-b13); Java HotSpot(TM) 64-Bit Server VM (build 24.75-b04, mixed mode)\n",
      "  Starting server from /Users/taj/anaconda3/lib/python3.6/site-packages/h2o/backend/bin/h2o.jar\n",
      "  Ice root: /var/folders/4p/wz6bkm9n4gv881hh50tvj8k80000gn/T/tmpme3ehxp6\n",
      "  JVM stdout: /var/folders/4p/wz6bkm9n4gv881hh50tvj8k80000gn/T/tmpme3ehxp6/h2o_taj_started_from_python.out\n",
      "  JVM stderr: /var/folders/4p/wz6bkm9n4gv881hh50tvj8k80000gn/T/tmpme3ehxp6/h2o_taj_started_from_python.err\n",
      "  Server is running at http://127.0.0.1:54321\n",
      "Connecting to H2O server at http://127.0.0.1:54321... successful.\n"
     ]
    },
    {
     "data": {
      "text/html": [
       "<div style=\"overflow:auto\"><table style=\"width:50%\"><tr><td>H2O cluster uptime:</td>\n",
       "<td>03 secs</td></tr>\n",
       "<tr><td>H2O cluster timezone:</td>\n",
       "<td>Australia/Sydney</td></tr>\n",
       "<tr><td>H2O data parsing timezone:</td>\n",
       "<td>UTC</td></tr>\n",
       "<tr><td>H2O cluster version:</td>\n",
       "<td>3.18.0.8</td></tr>\n",
       "<tr><td>H2O cluster version age:</td>\n",
       "<td>1 month and 3 days </td></tr>\n",
       "<tr><td>H2O cluster name:</td>\n",
       "<td>H2O_from_python_taj_260q1z</td></tr>\n",
       "<tr><td>H2O cluster total nodes:</td>\n",
       "<td>1</td></tr>\n",
       "<tr><td>H2O cluster free memory:</td>\n",
       "<td>1.778 Gb</td></tr>\n",
       "<tr><td>H2O cluster total cores:</td>\n",
       "<td>4</td></tr>\n",
       "<tr><td>H2O cluster allowed cores:</td>\n",
       "<td>4</td></tr>\n",
       "<tr><td>H2O cluster status:</td>\n",
       "<td>accepting new members, healthy</td></tr>\n",
       "<tr><td>H2O connection url:</td>\n",
       "<td>http://127.0.0.1:54321</td></tr>\n",
       "<tr><td>H2O connection proxy:</td>\n",
       "<td>None</td></tr>\n",
       "<tr><td>H2O internal security:</td>\n",
       "<td>False</td></tr>\n",
       "<tr><td>H2O API Extensions:</td>\n",
       "<td>AutoML, XGBoost, Algos, Core V3, Core V4</td></tr>\n",
       "<tr><td>Python version:</td>\n",
       "<td>3.6.5 final</td></tr></table></div>"
      ],
      "text/plain": [
       "--------------------------  ----------------------------------------\n",
       "H2O cluster uptime:         03 secs\n",
       "H2O cluster timezone:       Australia/Sydney\n",
       "H2O data parsing timezone:  UTC\n",
       "H2O cluster version:        3.18.0.8\n",
       "H2O cluster version age:    1 month and 3 days\n",
       "H2O cluster name:           H2O_from_python_taj_260q1z\n",
       "H2O cluster total nodes:    1\n",
       "H2O cluster free memory:    1.778 Gb\n",
       "H2O cluster total cores:    4\n",
       "H2O cluster allowed cores:  4\n",
       "H2O cluster status:         accepting new members, healthy\n",
       "H2O connection url:         http://127.0.0.1:54321\n",
       "H2O connection proxy:\n",
       "H2O internal security:      False\n",
       "H2O API Extensions:         AutoML, XGBoost, Algos, Core V3, Core V4\n",
       "Python version:             3.6.5 final\n",
       "--------------------------  ----------------------------------------"
      ]
     },
     "metadata": {},
     "output_type": "display_data"
    }
   ],
   "source": [
    "h2o.init()"
   ]
  },
  {
   "cell_type": "code",
   "execution_count": 14,
   "metadata": {},
   "outputs": [
    {
     "name": "stdout",
     "output_type": "stream",
     "text": [
      "Parse progress: |█████████████████████████████████████████████████████████| 100%\n",
      "Rows:14969\n",
      "Cols:76\n",
      "\n",
      "\n"
     ]
    },
    {
     "data": {
      "text/html": [
       "<table>\n",
       "<thead>\n",
       "<tr><th>       </th><th>bathrooms         </th><th>bedrooms          </th><th>beds              </th><th>description_wc   </th><th>guests           </th><th>init_price        </th><th>syd_brg_deg       </th><th>syd_dist_km       </th><th>suburb_id         </th><th>photos            </th><th>review_count     </th><th>review_value      </th><th>f_air_conditioning  </th><th>f_balcony         </th><th>f_books           </th><th>f_child_s_high_chair  </th><th>f_children_welcome  </th><th>f_coffee_maker    </th><th>f_dining          </th><th>f_dishes_and_utensils  </th><th>f_dishwasher      </th><th>f_games            </th><th>f_garage           </th><th>f_internet_access  </th><th>f_iron_and_board   </th><th>f_kitchen          </th><th>f_lawn_garden     </th><th>f_linens_provided  </th><th>f_living_room      </th><th>f_microwave        </th><th>f_non_smoking      </th><th>f_outdoor_grill   </th><th>f_oven             </th><th>f_parking         </th><th>f_private_pool     </th><th>f_refrigerator    </th><th>f_satellite_cable  </th><th>f_stove           </th><th>f_toaster         </th><th>f_towels_provided  </th><th>f_washing_machine  </th><th>f_clothes_dryer    </th><th>f_deck_patio       </th><th>f_dvd_player       </th><th>f_hair_dryer       </th><th>f_heating          </th><th>f_hot_tub          </th><th>f_pets_allowed     </th><th>f_telephone        </th><th>f_television       </th><th>f_toys             </th><th>f_wood_stove        </th><th>f_stereo          </th><th>f_tennis           </th><th>f_video_library    </th><th>f_fireplace        </th><th>f_wheelchair_accessible  </th><th>f_games_room       </th><th>f_video_games     </th><th>f_long_term_renters_welcome  </th><th>f_fitness_room_equipment  </th><th>f_heated_pool       </th><th>f_events_allowed   </th><th>f_communal_pool     </th><th>f_ceiling_fan      </th><th>f_indoor_pool       </th><th>f_sauna             </th><th>f_pantry_items     </th><th>f_cot               </th><th>f_eco_friendly      </th><th>f_free_wifi         </th><th>f_free_fixed_line_internet  </th><th>prop_type_id      </th><th>page_nbr          </th><th>page_pos          </th><th>days_booked_bucket  </th></tr>\n",
       "</thead>\n",
       "<tbody>\n",
       "<tr><td>type   </td><td>int               </td><td>int               </td><td>int               </td><td>int              </td><td>int              </td><td>int               </td><td>int               </td><td>int               </td><td>int               </td><td>int               </td><td>int              </td><td>real              </td><td>int                 </td><td>int               </td><td>int               </td><td>int                   </td><td>int                 </td><td>int               </td><td>int               </td><td>int                    </td><td>int               </td><td>int                </td><td>int                </td><td>int                </td><td>int                </td><td>int                </td><td>int               </td><td>int                </td><td>int                </td><td>int                </td><td>int                </td><td>int               </td><td>int                </td><td>int               </td><td>int                </td><td>int               </td><td>int                </td><td>int               </td><td>int               </td><td>int                </td><td>int                </td><td>int                </td><td>int                </td><td>int                </td><td>int                </td><td>int                </td><td>int                </td><td>int                </td><td>int                </td><td>int                </td><td>int                </td><td>int                 </td><td>int               </td><td>int                </td><td>int                </td><td>int                </td><td>int                      </td><td>int                </td><td>int               </td><td>int                          </td><td>int                       </td><td>int                 </td><td>int                </td><td>int                 </td><td>int                </td><td>int                 </td><td>int                 </td><td>int                </td><td>int                 </td><td>int                 </td><td>int                 </td><td>int                         </td><td>int               </td><td>int               </td><td>int               </td><td>int                 </td></tr>\n",
       "<tr><td>mins   </td><td>0.0               </td><td>0.0               </td><td>0.0               </td><td>0.0              </td><td>1.0              </td><td>8.0               </td><td>1.0               </td><td>51.0              </td><td>0.0               </td><td>0.0               </td><td>0.0              </td><td>0.0               </td><td>0.0                 </td><td>0.0               </td><td>0.0               </td><td>0.0                   </td><td>0.0                 </td><td>0.0               </td><td>0.0               </td><td>0.0                    </td><td>0.0               </td><td>0.0                </td><td>0.0                </td><td>0.0                </td><td>0.0                </td><td>0.0                </td><td>0.0               </td><td>0.0                </td><td>0.0                </td><td>0.0                </td><td>0.0                </td><td>0.0               </td><td>0.0                </td><td>0.0               </td><td>0.0                </td><td>0.0               </td><td>0.0                </td><td>0.0               </td><td>0.0               </td><td>0.0                </td><td>0.0                </td><td>0.0                </td><td>0.0                </td><td>0.0                </td><td>0.0                </td><td>0.0                </td><td>0.0                </td><td>0.0                </td><td>0.0                </td><td>0.0                </td><td>0.0                </td><td>0.0                 </td><td>0.0               </td><td>0.0                </td><td>0.0                </td><td>0.0                </td><td>0.0                      </td><td>0.0                </td><td>0.0               </td><td>0.0                          </td><td>0.0                       </td><td>0.0                 </td><td>0.0                </td><td>0.0                 </td><td>0.0                </td><td>0.0                 </td><td>0.0                 </td><td>0.0                </td><td>0.0                 </td><td>0.0                 </td><td>0.0                 </td><td>0.0                         </td><td>0.0               </td><td>1.0               </td><td>1.0               </td><td>0.0                 </td></tr>\n",
       "<tr><td>mean   </td><td>1.7832854566103264</td><td>2.9191662769724096</td><td>4.1734918832253225</td><td>192.6343777139422</td><td>6.565902865922902</td><td>252.75943616808146</td><td>115.07261674126522</td><td>265.51920635980935</td><td>234.18712004809885</td><td>15.816420602578665</td><td>6.207428685950954</td><td>2.8994254793239342</td><td>0.4768521611330082  </td><td>0.4009619881087581</td><td>0.2348854298884361</td><td>0.16073217983833255   </td><td>0.49435500033402363 </td><td>0.3033602779076759</td><td>0.6170752889304563</td><td>0.5845413855300955     </td><td>0.6347117375910214</td><td>0.21404235419867726</td><td>0.26441312044892773</td><td>0.29607856236221525</td><td>0.5513394348319861 </td><td>0.8019239762175162 </td><td>0.4902799118177567</td><td>0.5669049368695304 </td><td>0.6041151713541318 </td><td>0.7965127931057518 </td><td>0.557485469971274  </td><td>0.6919633910080834</td><td>0.4109826975749883 </td><td>0.7430022045560826</td><td>0.12138419400093527</td><td>0.5947625091856503</td><td>0.14503306834123855</td><td>0.5176698510254526</td><td>0.5513394348319861</td><td>0.3750417529561093 </td><td>0.7540917896987107 </td><td>0.4064399759502973 </td><td>0.5312980158995256 </td><td>0.6816754626227537 </td><td>0.32680873805865457</td><td>0.4922172489812279 </td><td>0.05097200881822433</td><td>0.19567105351058856</td><td>0.03867993853964861</td><td>0.7553610795644332 </td><td>0.08003206627029194</td><td>0.041418932460418195</td><td>0.3010221123655555</td><td>0.05858774801255929</td><td>0.18504910147638454</td><td>0.18224330282584006</td><td>0.07121384194000935      </td><td>0.0715478655888837 </td><td>0.0368094061059523</td><td>0.11216514129200347          </td><td>0.02304763177232948       </td><td>0.021778341906606987</td><td>0.02832520542454406</td><td>0.059389404769857705</td><td>0.15779277172823836</td><td>0.016968401362816486</td><td>0.009152247979156924</td><td>0.03173224664306233</td><td>0.030195737858240364</td><td>0.009085443249382057</td><td>0.002137751352795778</td><td>0.0003340236488743403       </td><td>2.0827710601910683</td><td>1.7652158527954673</td><td>19.385704175513037</td><td>0.016099939875743194</td></tr>\n",
       "<tr><td>maxs   </td><td>25.0              </td><td>14.0              </td><td>20.0              </td><td>784.0            </td><td>14.0             </td><td>3614.0            </td><td>359.0             </td><td>935.0             </td><td>1391.0            </td><td>24.0              </td><td>195.0            </td><td>5.0               </td><td>1.0                 </td><td>1.0               </td><td>1.0               </td><td>1.0                   </td><td>1.0                 </td><td>1.0               </td><td>1.0               </td><td>1.0                    </td><td>1.0               </td><td>1.0                </td><td>1.0                </td><td>1.0                </td><td>1.0                </td><td>1.0                </td><td>1.0               </td><td>1.0                </td><td>1.0                </td><td>1.0                </td><td>1.0                </td><td>1.0               </td><td>1.0                </td><td>1.0               </td><td>1.0                </td><td>1.0               </td><td>1.0                </td><td>1.0               </td><td>1.0               </td><td>1.0                </td><td>1.0                </td><td>1.0                </td><td>1.0                </td><td>1.0                </td><td>1.0                </td><td>1.0                </td><td>1.0                </td><td>1.0                </td><td>1.0                </td><td>1.0                </td><td>1.0                </td><td>1.0                 </td><td>1.0               </td><td>1.0                </td><td>1.0                </td><td>1.0                </td><td>1.0                      </td><td>1.0                </td><td>1.0               </td><td>1.0                          </td><td>1.0                       </td><td>1.0                 </td><td>1.0                </td><td>1.0                 </td><td>1.0                </td><td>1.0                 </td><td>1.0                 </td><td>1.0                </td><td>1.0                 </td><td>1.0                 </td><td>1.0                 </td><td>1.0                         </td><td>12.0              </td><td>13.0              </td><td>50.0              </td><td>2.0                 </td></tr>\n",
       "<tr><td>sigma  </td><td>0.8509661414811687</td><td>1.13435348534418  </td><td>1.9747612751294612</td><td>109.8490759094889</td><td>2.532171893146974</td><td>202.48611982862445</td><td>103.7038030115553 </td><td>188.43462920096897</td><td>253.68153146517565</td><td>5.404357194399082 </td><td>12.80930766158927</td><td>2.2388409522343307</td><td>0.4994805742530523  </td><td>0.4901097011884586</td><td>0.4239413535850766</td><td>0.36729600948768926   </td><td>0.4999848339180542  </td><td>0.4597248510474284</td><td>0.4861164091980924</td><td>0.4928173890287962     </td><td>0.4815269853810556</td><td>0.41017004278676333</td><td>0.44103493795018944</td><td>0.45654131398993236</td><td>0.49737389219566874</td><td>0.39856307491410986</td><td>0.4999222098205135</td><td>0.49552006282762734</td><td>0.48905624337346093</td><td>0.40260525576492795</td><td>0.49670101898843005</td><td>0.4616971917782579</td><td>0.49202854873046936</td><td>0.4369927754454359</td><td>0.32658413411076714</td><td>0.4909543453407756</td><td>0.3521459380242339 </td><td>0.499704370406709 </td><td>0.4973738921956688</td><td>0.4841498689430457 </td><td>0.4306387712784701 </td><td>0.49118493399660373</td><td>0.49903614203280783</td><td>0.46584173651206706</td><td>0.4690623467401893 </td><td>0.49995612511309645</td><td>0.21994793691693243</td><td>0.39672963970375835</td><td>0.19283745775638605</td><td>0.42988726983069675</td><td>0.27135189992863834</td><td>0.19926378759490884 </td><td>0.4587176227352261</td><td>0.2348593380544291 </td><td>0.38835036596061473</td><td>0.38605781694005065</td><td>0.2571902983756663       </td><td>0.25774639972455826</td><td>0.1882998736400411</td><td>0.31558006195860044          </td><td>0.15005979723795743       </td><td>0.14596393060104823 </td><td>0.1659057773079258 </td><td>0.23635997014372795 </td><td>0.36455876271689125</td><td>0.12915722638343044 </td><td>0.09523177092863847 </td><td>0.1752922242978512 </td><td>0.17113127040624354 </td><td>0.09488677171603994 </td><td>0.04618791928713896 </td><td>0.01827387166072688         </td><td>1.8794588290623795</td><td>1.82288583167308  </td><td>14.595287342688927</td><td>0.12692134134978422 </td></tr>\n",
       "<tr><td>zeros  </td><td>1                 </td><td>1                 </td><td>27                </td><td>4                </td><td>0                </td><td>0                 </td><td>0                 </td><td>0                 </td><td>621               </td><td>26                </td><td>5331             </td><td>5413              </td><td>7831                </td><td>8967              </td><td>11453             </td><td>12563                 </td><td>7569                </td><td>10428             </td><td>5732              </td><td>6219                   </td><td>5468              </td><td>11765              </td><td>11011              </td><td>10537              </td><td>6716               </td><td>2965               </td><td>7630              </td><td>6483               </td><td>5926               </td><td>3046               </td><td>6624               </td><td>4611              </td><td>8817               </td><td>3847              </td><td>13152              </td><td>6066              </td><td>12798              </td><td>7220              </td><td>6716              </td><td>9355               </td><td>3681               </td><td>8885               </td><td>7016               </td><td>4765               </td><td>10077              </td><td>7601               </td><td>14206              </td><td>12040              </td><td>14390              </td><td>3662               </td><td>13771              </td><td>14349               </td><td>10463             </td><td>14092              </td><td>12199              </td><td>12241              </td><td>13903                    </td><td>13898              </td><td>14418             </td><td>13290                        </td><td>14624                     </td><td>14643               </td><td>14545              </td><td>14080               </td><td>12607              </td><td>14715               </td><td>14832               </td><td>14494              </td><td>14517               </td><td>14833               </td><td>14937               </td><td>14964                       </td><td>1022              </td><td>0                 </td><td>0                 </td><td>14730               </td></tr>\n",
       "<tr><td>missing</td><td>0                 </td><td>0                 </td><td>0                 </td><td>0                </td><td>0                </td><td>0                 </td><td>0                 </td><td>0                 </td><td>0                 </td><td>0                 </td><td>0                </td><td>0                 </td><td>0                   </td><td>0                 </td><td>0                 </td><td>0                     </td><td>0                   </td><td>0                 </td><td>0                 </td><td>0                      </td><td>0                 </td><td>0                  </td><td>0                  </td><td>0                  </td><td>0                  </td><td>0                  </td><td>0                 </td><td>0                  </td><td>0                  </td><td>0                  </td><td>0                  </td><td>0                 </td><td>0                  </td><td>0                 </td><td>0                  </td><td>0                 </td><td>0                  </td><td>0                 </td><td>0                 </td><td>0                  </td><td>0                  </td><td>0                  </td><td>0                  </td><td>0                  </td><td>0                  </td><td>0                  </td><td>0                  </td><td>0                  </td><td>0                  </td><td>0                  </td><td>0                  </td><td>0                   </td><td>0                 </td><td>0                  </td><td>0                  </td><td>0                  </td><td>0                        </td><td>0                  </td><td>0                 </td><td>0                            </td><td>0                         </td><td>0                   </td><td>0                  </td><td>0                   </td><td>0                  </td><td>0                   </td><td>0                   </td><td>0                  </td><td>0                   </td><td>0                   </td><td>0                   </td><td>0                           </td><td>0                 </td><td>3665              </td><td>3665              </td><td>0                   </td></tr>\n",
       "<tr><td>0      </td><td>3.0               </td><td>6.0               </td><td>8.0               </td><td>135.0            </td><td>13.0             </td><td>561.0             </td><td>201.0             </td><td>128.0             </td><td>3.0               </td><td>22.0              </td><td>29.0             </td><td>4.4               </td><td>1.0                 </td><td>0.0               </td><td>0.0               </td><td>1.0                   </td><td>0.0                 </td><td>0.0               </td><td>0.0               </td><td>0.0                    </td><td>1.0               </td><td>0.0                </td><td>0.0                </td><td>0.0                </td><td>1.0                </td><td>1.0                </td><td>0.0               </td><td>0.0                </td><td>0.0                </td><td>1.0                </td><td>1.0                </td><td>1.0               </td><td>0.0                </td><td>1.0               </td><td>0.0                </td><td>0.0               </td><td>1.0                </td><td>0.0               </td><td>0.0               </td><td>0.0                </td><td>1.0                </td><td>1.0                </td><td>0.0                </td><td>1.0                </td><td>0.0                </td><td>1.0                </td><td>1.0                </td><td>0.0                </td><td>0.0                </td><td>0.0                </td><td>0.0                </td><td>0.0                 </td><td>1.0               </td><td>0.0                </td><td>1.0                </td><td>0.0                </td><td>0.0                      </td><td>1.0                </td><td>0.0               </td><td>0.0                          </td><td>0.0                       </td><td>0.0                 </td><td>0.0                </td><td>0.0                 </td><td>0.0                </td><td>0.0                 </td><td>0.0                 </td><td>0.0                </td><td>0.0                 </td><td>0.0                 </td><td>0.0                 </td><td>0.0                         </td><td>0.0               </td><td>2.0               </td><td>44.0              </td><td>0.0                 </td></tr>\n",
       "<tr><td>1      </td><td>1.0               </td><td>2.0               </td><td>6.0               </td><td>138.0            </td><td>2.0              </td><td>148.0             </td><td>278.0             </td><td>110.0             </td><td>7.0               </td><td>11.0              </td><td>8.0              </td><td>4.1               </td><td>0.0                 </td><td>0.0               </td><td>0.0               </td><td>0.0                   </td><td>0.0                 </td><td>0.0               </td><td>0.0               </td><td>0.0                    </td><td>0.0               </td><td>0.0                </td><td>0.0                </td><td>0.0                </td><td>1.0                </td><td>1.0                </td><td>0.0               </td><td>1.0                </td><td>0.0                </td><td>1.0                </td><td>1.0                </td><td>1.0               </td><td>0.0                </td><td>1.0               </td><td>0.0                </td><td>0.0               </td><td>0.0                </td><td>0.0               </td><td>0.0               </td><td>0.0                </td><td>1.0                </td><td>1.0                </td><td>0.0                </td><td>1.0                </td><td>0.0                </td><td>0.0                </td><td>0.0                </td><td>0.0                </td><td>0.0                </td><td>0.0                </td><td>0.0                </td><td>1.0                 </td><td>0.0               </td><td>0.0                </td><td>0.0                </td><td>0.0                </td><td>1.0                      </td><td>0.0                </td><td>0.0               </td><td>0.0                          </td><td>0.0                       </td><td>0.0                 </td><td>0.0                </td><td>0.0                 </td><td>0.0                </td><td>0.0                 </td><td>0.0                 </td><td>0.0                </td><td>1.0                 </td><td>0.0                 </td><td>0.0                 </td><td>0.0                         </td><td>0.0               </td><td>1.0               </td><td>3.0               </td><td>0.0                 </td></tr>\n",
       "<tr><td>2      </td><td>1.0               </td><td>2.0               </td><td>6.0               </td><td>138.0            </td><td>2.0              </td><td>148.0             </td><td>278.0             </td><td>110.0             </td><td>7.0               </td><td>11.0              </td><td>8.0              </td><td>4.1               </td><td>0.0                 </td><td>0.0               </td><td>0.0               </td><td>0.0                   </td><td>0.0                 </td><td>0.0               </td><td>0.0               </td><td>0.0                    </td><td>0.0               </td><td>0.0                </td><td>0.0                </td><td>0.0                </td><td>1.0                </td><td>1.0                </td><td>0.0               </td><td>1.0                </td><td>0.0                </td><td>1.0                </td><td>1.0                </td><td>1.0               </td><td>0.0                </td><td>1.0               </td><td>0.0                </td><td>0.0               </td><td>0.0                </td><td>0.0               </td><td>0.0               </td><td>0.0                </td><td>1.0                </td><td>1.0                </td><td>0.0                </td><td>1.0                </td><td>0.0                </td><td>0.0                </td><td>0.0                </td><td>0.0                </td><td>0.0                </td><td>0.0                </td><td>0.0                </td><td>1.0                 </td><td>0.0               </td><td>0.0                </td><td>0.0                </td><td>0.0                </td><td>1.0                      </td><td>0.0                </td><td>0.0               </td><td>0.0                          </td><td>0.0                       </td><td>0.0                 </td><td>0.0                </td><td>0.0                 </td><td>0.0                </td><td>0.0                 </td><td>0.0                 </td><td>0.0                </td><td>1.0                 </td><td>0.0                 </td><td>0.0                 </td><td>0.0                         </td><td>0.0               </td><td>1.0               </td><td>3.0               </td><td>0.0                 </td></tr>\n",
       "<tr><td>3      </td><td>3.0               </td><td>4.0               </td><td>5.0               </td><td>352.0            </td><td>8.0              </td><td>694.0             </td><td>195.0             </td><td>118.0             </td><td>8.0               </td><td>23.0              </td><td>27.0             </td><td>5.0               </td><td>0.0                 </td><td>0.0               </td><td>0.0               </td><td>0.0                   </td><td>0.0                 </td><td>0.0               </td><td>0.0               </td><td>0.0                    </td><td>1.0               </td><td>1.0                </td><td>0.0                </td><td>0.0                </td><td>1.0                </td><td>1.0                </td><td>0.0               </td><td>1.0                </td><td>0.0                </td><td>1.0                </td><td>1.0                </td><td>1.0               </td><td>0.0                </td><td>1.0               </td><td>0.0                </td><td>0.0               </td><td>0.0                </td><td>0.0               </td><td>0.0               </td><td>1.0                </td><td>1.0                </td><td>1.0                </td><td>0.0                </td><td>1.0                </td><td>0.0                </td><td>1.0                </td><td>0.0                </td><td>1.0                </td><td>0.0                </td><td>0.0                </td><td>0.0                </td><td>0.0                 </td><td>1.0               </td><td>1.0                </td><td>0.0                </td><td>0.0                </td><td>1.0                      </td><td>0.0                </td><td>0.0               </td><td>0.0                          </td><td>0.0                       </td><td>0.0                 </td><td>0.0                </td><td>0.0                 </td><td>0.0                </td><td>0.0                 </td><td>0.0                 </td><td>0.0                </td><td>0.0                 </td><td>0.0                 </td><td>0.0                 </td><td>0.0                         </td><td>1.0               </td><td>2.0               </td><td>34.0              </td><td>0.0                 </td></tr>\n",
       "<tr><td>4      </td><td>2.0               </td><td>2.0               </td><td>3.0               </td><td>411.0            </td><td>6.0              </td><td>165.0             </td><td>200.0             </td><td>110.0             </td><td>14.0              </td><td>21.0              </td><td>23.0             </td><td>4.7               </td><td>0.0                 </td><td>1.0               </td><td>0.0               </td><td>0.0                   </td><td>1.0                 </td><td>0.0               </td><td>0.0               </td><td>1.0                    </td><td>0.0               </td><td>1.0                </td><td>0.0                </td><td>0.0                </td><td>1.0                </td><td>1.0                </td><td>0.0               </td><td>0.0                </td><td>0.0                </td><td>1.0                </td><td>0.0                </td><td>1.0               </td><td>0.0                </td><td>0.0               </td><td>0.0                </td><td>1.0               </td><td>0.0                </td><td>1.0               </td><td>1.0               </td><td>0.0                </td><td>1.0                </td><td>1.0                </td><td>1.0                </td><td>1.0                </td><td>0.0                </td><td>1.0                </td><td>0.0                </td><td>0.0                </td><td>0.0                </td><td>1.0                </td><td>1.0                </td><td>0.0                 </td><td>0.0               </td><td>0.0                </td><td>0.0                </td><td>0.0                </td><td>0.0                      </td><td>0.0                </td><td>0.0               </td><td>0.0                          </td><td>0.0                       </td><td>0.0                 </td><td>0.0                </td><td>0.0                 </td><td>0.0                </td><td>0.0                 </td><td>0.0                 </td><td>0.0                </td><td>0.0                 </td><td>0.0                 </td><td>0.0                 </td><td>0.0                         </td><td>1.0               </td><td>2.0               </td><td>48.0              </td><td>0.0                 </td></tr>\n",
       "<tr><td>5      </td><td>2.0               </td><td>3.0               </td><td>4.0               </td><td>76.0             </td><td>6.0              </td><td>126.0             </td><td>31.0              </td><td>248.0             </td><td>16.0              </td><td>9.0               </td><td>0.0              </td><td>0.0               </td><td>0.0                 </td><td>1.0               </td><td>0.0               </td><td>0.0                   </td><td>0.0                 </td><td>0.0               </td><td>1.0               </td><td>1.0                    </td><td>1.0               </td><td>0.0                </td><td>0.0                </td><td>0.0                </td><td>0.0                </td><td>1.0                </td><td>0.0               </td><td>0.0                </td><td>0.0                </td><td>1.0                </td><td>0.0                </td><td>0.0               </td><td>0.0                </td><td>0.0               </td><td>0.0                </td><td>1.0               </td><td>0.0                </td><td>1.0               </td><td>1.0               </td><td>0.0                </td><td>1.0                </td><td>0.0                </td><td>1.0                </td><td>0.0                </td><td>0.0                </td><td>0.0                </td><td>0.0                </td><td>0.0                </td><td>0.0                </td><td>1.0                </td><td>0.0                </td><td>0.0                 </td><td>0.0               </td><td>0.0                </td><td>0.0                </td><td>0.0                </td><td>0.0                      </td><td>0.0                </td><td>0.0               </td><td>0.0                          </td><td>0.0                       </td><td>0.0                 </td><td>0.0                </td><td>0.0                 </td><td>0.0                </td><td>0.0                 </td><td>0.0                 </td><td>0.0                </td><td>0.0                 </td><td>0.0                 </td><td>0.0                 </td><td>0.0                         </td><td>1.0               </td><td>1.0               </td><td>9.0               </td><td>0.0                 </td></tr>\n",
       "<tr><td>6      </td><td>1.0               </td><td>1.0               </td><td>1.0               </td><td>251.0            </td><td>2.0              </td><td>204.0             </td><td>18.0              </td><td>664.0             </td><td>19.0              </td><td>20.0              </td><td>2.0              </td><td>5.0               </td><td>1.0                 </td><td>0.0               </td><td>0.0               </td><td>0.0                   </td><td>0.0                 </td><td>0.0               </td><td>1.0               </td><td>1.0                    </td><td>0.0               </td><td>0.0                </td><td>0.0                </td><td>1.0                </td><td>1.0                </td><td>1.0                </td><td>0.0               </td><td>1.0                </td><td>0.0                </td><td>1.0                </td><td>1.0                </td><td>1.0               </td><td>1.0                </td><td>1.0               </td><td>0.0                </td><td>1.0               </td><td>0.0                </td><td>1.0               </td><td>1.0               </td><td>1.0                </td><td>0.0                </td><td>0.0                </td><td>1.0                </td><td>1.0                </td><td>1.0                </td><td>1.0                </td><td>1.0                </td><td>1.0                </td><td>0.0                </td><td>1.0                </td><td>0.0                </td><td>0.0                 </td><td>1.0               </td><td>0.0                </td><td>1.0                </td><td>1.0                </td><td>0.0                      </td><td>0.0                </td><td>0.0               </td><td>1.0                          </td><td>0.0                       </td><td>0.0                 </td><td>0.0                </td><td>1.0                 </td><td>1.0                </td><td>0.0                 </td><td>0.0                 </td><td>0.0                </td><td>0.0                 </td><td>0.0                 </td><td>0.0                 </td><td>0.0                         </td><td>0.0               </td><td>1.0               </td><td>5.0               </td><td>0.0                 </td></tr>\n",
       "<tr><td>7      </td><td>1.0               </td><td>2.0               </td><td>3.0               </td><td>271.0            </td><td>4.0              </td><td>114.0             </td><td>33.0              </td><td>166.0             </td><td>21.0              </td><td>20.0              </td><td>54.0             </td><td>4.4               </td><td>1.0                 </td><td>1.0               </td><td>0.0               </td><td>0.0                   </td><td>1.0                 </td><td>0.0               </td><td>1.0               </td><td>1.0                    </td><td>1.0               </td><td>0.0                </td><td>0.0                </td><td>0.0                </td><td>1.0                </td><td>1.0                </td><td>0.0               </td><td>0.0                </td><td>1.0                </td><td>1.0                </td><td>0.0                </td><td>1.0               </td><td>0.0                </td><td>1.0               </td><td>0.0                </td><td>1.0               </td><td>0.0                </td><td>0.0               </td><td>1.0               </td><td>0.0                </td><td>1.0                </td><td>0.0                </td><td>1.0                </td><td>1.0                </td><td>0.0                </td><td>0.0                </td><td>0.0                </td><td>0.0                </td><td>0.0                </td><td>1.0                </td><td>0.0                </td><td>0.0                 </td><td>0.0               </td><td>0.0                </td><td>0.0                </td><td>0.0                </td><td>0.0                      </td><td>0.0                </td><td>0.0               </td><td>0.0                          </td><td>0.0                       </td><td>0.0                 </td><td>0.0                </td><td>0.0                 </td><td>1.0                </td><td>0.0                 </td><td>0.0                 </td><td>0.0                </td><td>0.0                 </td><td>0.0                 </td><td>0.0                 </td><td>0.0                         </td><td>3.0               </td><td>1.0               </td><td>50.0              </td><td>0.0                 </td></tr>\n",
       "<tr><td>8      </td><td>2.0               </td><td>2.0               </td><td>2.0               </td><td>220.0            </td><td>4.0              </td><td>193.0             </td><td>214.0             </td><td>104.0             </td><td>25.0              </td><td>9.0               </td><td>18.0             </td><td>4.7               </td><td>1.0                 </td><td>1.0               </td><td>0.0               </td><td>0.0                   </td><td>0.0                 </td><td>0.0               </td><td>0.0               </td><td>1.0                    </td><td>1.0               </td><td>0.0                </td><td>0.0                </td><td>0.0                </td><td>0.0                </td><td>0.0                </td><td>0.0               </td><td>1.0                </td><td>0.0                </td><td>1.0                </td><td>0.0                </td><td>1.0               </td><td>0.0                </td><td>1.0               </td><td>0.0                </td><td>1.0               </td><td>0.0                </td><td>0.0               </td><td>1.0               </td><td>0.0                </td><td>0.0                </td><td>0.0                </td><td>1.0                </td><td>1.0                </td><td>0.0                </td><td>1.0                </td><td>0.0                </td><td>0.0                </td><td>0.0                </td><td>1.0                </td><td>0.0                </td><td>0.0                 </td><td>0.0               </td><td>0.0                </td><td>0.0                </td><td>1.0                </td><td>0.0                      </td><td>0.0                </td><td>0.0               </td><td>0.0                          </td><td>0.0                       </td><td>0.0                 </td><td>0.0                </td><td>0.0                 </td><td>0.0                </td><td>0.0                 </td><td>0.0                 </td><td>0.0                </td><td>0.0                 </td><td>0.0                 </td><td>0.0                 </td><td>0.0                         </td><td>1.0               </td><td>4.0               </td><td>28.0              </td><td>0.0                 </td></tr>\n",
       "<tr><td>9      </td><td>3.0               </td><td>6.0               </td><td>9.0               </td><td>400.0            </td><td>12.0             </td><td>153.0             </td><td>222.0             </td><td>382.0             </td><td>28.0              </td><td>17.0              </td><td>7.0              </td><td>4.3               </td><td>0.0                 </td><td>1.0               </td><td>0.0               </td><td>0.0                   </td><td>1.0                 </td><td>0.0               </td><td>1.0               </td><td>1.0                    </td><td>1.0               </td><td>0.0                </td><td>0.0                </td><td>0.0                </td><td>1.0                </td><td>1.0                </td><td>0.0               </td><td>0.0                </td><td>1.0                </td><td>1.0                </td><td>1.0                </td><td>0.0               </td><td>1.0                </td><td>1.0               </td><td>0.0                </td><td>1.0               </td><td>0.0                </td><td>1.0               </td><td>1.0               </td><td>0.0                </td><td>1.0                </td><td>1.0                </td><td>0.0                </td><td>1.0                </td><td>0.0                </td><td>1.0                </td><td>0.0                </td><td>0.0                </td><td>0.0                </td><td>1.0                </td><td>0.0                </td><td>0.0                 </td><td>1.0               </td><td>1.0                </td><td>0.0                </td><td>1.0                </td><td>0.0                      </td><td>0.0                </td><td>0.0               </td><td>0.0                          </td><td>0.0                       </td><td>0.0                 </td><td>0.0                </td><td>0.0                 </td><td>0.0                </td><td>0.0                 </td><td>1.0                 </td><td>0.0                </td><td>0.0                 </td><td>0.0                 </td><td>0.0                 </td><td>0.0                         </td><td>3.0               </td><td>1.0               </td><td>40.0              </td><td>0.0                 </td></tr>\n",
       "</tbody>\n",
       "</table>"
      ]
     },
     "metadata": {},
     "output_type": "display_data"
    }
   ],
   "source": [
    "\n",
    "df_1 = pd.read_csv('/Users/taj/GitHub/scraping/stayz/WebData/nsw_fulldata/stayz_nsw_fulldata_' + date_str + '.csv')\n",
    "\n",
    "\n",
    "# Drop Property_ID and Postcode and Extracted_At date, Reviews and Review_Count are duplicates drop one\n",
    "# Drop the council ID, the postcode should be enough identifier\n",
    "\n",
    "#df_2 = df_1.drop(['property_id','postcode','ext_at','reviews','council_id'],axis=1)\n",
    "\n",
    "\n",
    "\n",
    "df_3 = h2o.H2OFrame(df_2)\n",
    "#df_3.summary()\n",
    "\n",
    "\n",
    "df = df_3\n",
    "\n",
    "\n",
    "df.describe()\n",
    "#df_2[['review_count','review_value']].head()"
   ]
  },
  {
   "cell_type": "code",
   "execution_count": 15,
   "metadata": {},
   "outputs": [
    {
     "ename": "ValueError",
     "evalue": "list.remove(x): x not in list",
     "output_type": "error",
     "traceback": [
      "\u001b[0;31m---------------------------------------------------------------------------\u001b[0m",
      "\u001b[0;31mValueError\u001b[0m                                Traceback (most recent call last)",
      "\u001b[0;32m<ipython-input-15-7dde5f5a61bb>\u001b[0m in \u001b[0;36m<module>\u001b[0;34m()\u001b[0m\n\u001b[1;32m      4\u001b[0m \u001b[0;34m\u001b[0m\u001b[0m\n\u001b[1;32m      5\u001b[0m \u001b[0mx\u001b[0m \u001b[0;34m=\u001b[0m \u001b[0mdf\u001b[0m\u001b[0;34m.\u001b[0m\u001b[0mcol_names\u001b[0m\u001b[0;34m\u001b[0m\u001b[0m\n\u001b[0;32m----> 6\u001b[0;31m \u001b[0mx\u001b[0m\u001b[0;34m.\u001b[0m\u001b[0mremove\u001b[0m\u001b[0;34m(\u001b[0m\u001b[0my\u001b[0m\u001b[0;34m)\u001b[0m\u001b[0;34m\u001b[0m\u001b[0m\n\u001b[0m\u001b[1;32m      7\u001b[0m \u001b[0mprint\u001b[0m\u001b[0;34m(\u001b[0m\u001b[0;34m\"Response = \"\u001b[0m \u001b[0;34m+\u001b[0m \u001b[0my\u001b[0m\u001b[0;34m)\u001b[0m\u001b[0;34m\u001b[0m\u001b[0m\n\u001b[1;32m      8\u001b[0m \u001b[0mprint\u001b[0m\u001b[0;34m(\u001b[0m\u001b[0;34m\"Predictors = \"\u001b[0m \u001b[0;34m+\u001b[0m \u001b[0mstr\u001b[0m\u001b[0;34m(\u001b[0m\u001b[0mx\u001b[0m\u001b[0;34m)\u001b[0m\u001b[0;34m)\u001b[0m\u001b[0;34m\u001b[0m\u001b[0m\n",
      "\u001b[0;31mValueError\u001b[0m: list.remove(x): x not in list"
     ]
    }
   ],
   "source": [
    "# Change to test for buckets, not exact days\n",
    "#y = 'days_booked_bucket'\n",
    "y = 'total_booked_days'\n",
    "\n",
    "x = df.col_names\n",
    "x.remove(y)\n",
    "print(\"Response = \" + y)\n",
    "print(\"Predictors = \" + str(x))"
   ]
  },
  {
   "cell_type": "code",
   "execution_count": null,
   "metadata": {},
   "outputs": [],
   "source": [
    "# Now using buckets instead\n",
    "df['total_booked_days'] = df['total_booked_days'].asfactor()\n",
    "\n",
    "#df['days_booked_bucket'] = df['days_booked_bucket'].asfactor()"
   ]
  },
  {
   "cell_type": "code",
   "execution_count": null,
   "metadata": {},
   "outputs": [],
   "source": [
    "#df['total_booked_days'].levels()\n",
    "#[['0', '1']]"
   ]
  },
  {
   "cell_type": "code",
   "execution_count": null,
   "metadata": {},
   "outputs": [],
   "source": [
    "train, valid, test = df.split_frame(ratios=[.8, .1])\n",
    "print(df.shape)\n",
    "print(train.shape)\n",
    "print(valid.shape)\n",
    "print(test.shape)"
   ]
  },
  {
   "cell_type": "code",
   "execution_count": null,
   "metadata": {},
   "outputs": [],
   "source": [
    "#from h2o.estimators.gbm import H2OGradientBoostingEstimator\n",
    "#gbm = H2OGradientBoostingEstimator()\n",
    "#gbm.train(x=x, y =y, training_frame=train, validation_frame=valid)"
   ]
  },
  {
   "cell_type": "code",
   "execution_count": null,
   "metadata": {},
   "outputs": [],
   "source": [
    "#gbm.confusion_matrix(valid)"
   ]
  },
  {
   "cell_type": "code",
   "execution_count": null,
   "metadata": {},
   "outputs": [],
   "source": [
    "#gbm.varimp_plot()"
   ]
  },
  {
   "cell_type": "code",
   "execution_count": null,
   "metadata": {},
   "outputs": [],
   "source": [
    "#gbm.varimp()"
   ]
  },
  {
   "cell_type": "code",
   "execution_count": null,
   "metadata": {},
   "outputs": [],
   "source": []
  },
  {
   "cell_type": "code",
   "execution_count": null,
   "metadata": {},
   "outputs": [],
   "source": [
    "from h2o.estimators.random_forest import H2ORandomForestEstimator\n",
    "\n",
    "from h2o.estimators import H2OGradientBoostingEstimator \n",
    "drf = H2ORandomForestEstimator()\n",
    "#drf = H2ODeepLearningEstimator()\n",
    "#drf = H2OGradientBoostingEstimator()\n",
    "\n",
    "drf.train(x=x, y = y, training_frame=train, validation_frame=valid)"
   ]
  },
  {
   "cell_type": "code",
   "execution_count": null,
   "metadata": {},
   "outputs": [],
   "source": [
    "#drf.confusion_matrix()"
   ]
  },
  {
   "cell_type": "code",
   "execution_count": null,
   "metadata": {},
   "outputs": [],
   "source": [
    "drf"
   ]
  },
  {
   "cell_type": "code",
   "execution_count": null,
   "metadata": {},
   "outputs": [],
   "source": [
    "import matplotlib.pyplot as plt\n",
    "import numpy as np\n",
    "\n",
    "plt.rcdefaults()\n",
    "fig, ax = plt.subplots()\n",
    "variables = drf._model_json['output']['variable_importances']['variable'][0:10]\n",
    "y_pos = np.arange(len(variables))\n",
    "scaled_importance = drf._model_json['output']['variable_importances']['scaled_importance'][0:10]\n",
    "ax.barh(y_pos, scaled_importance, align='center', color='lightblue', ecolor='black')\n",
    "ax.set_yticks(y_pos)\n",
    "ax.set_yticklabels(variables)\n",
    "ax.invert_yaxis()\n",
    "#ax.set_xlabel('Scaled Importance')\n",
    "ax.set_title('Top 10 Most Important Features')\n",
    "plt.show()"
   ]
  },
  {
   "cell_type": "code",
   "execution_count": null,
   "metadata": {},
   "outputs": [],
   "source": [
    "drf._model_json['output']['variable_importances'].as_data_frame()"
   ]
  },
  {
   "cell_type": "code",
   "execution_count": null,
   "metadata": {},
   "outputs": [],
   "source": [
    "# Model performance\n",
    "performance = drf.model_performance(test_data=test)\n",
    "\n",
    "drf.model_performance(test_data=test)"
   ]
  },
  {
   "cell_type": "code",
   "execution_count": null,
   "metadata": {},
   "outputs": [],
   "source": [
    "print(type(drf.confusion_matrix(test).as_data_frame()))\n",
    "\n",
    "conf_matr = drf.confusion_matrix(test).as_data_frame()\n",
    "\n",
    "\n",
    "conf_matr.to_csv('/Users/taj/GitHub/scraping/stayz/WebData/nsw_fulldata/stayz_nsw_confmatr_' + date_str + '.csv')"
   ]
  },
  {
   "cell_type": "code",
   "execution_count": null,
   "metadata": {},
   "outputs": [],
   "source": [
    "drf.plot(server=False)"
   ]
  },
  {
   "cell_type": "code",
   "execution_count": null,
   "metadata": {},
   "outputs": [],
   "source": [
    "h2o.cluster().shutdown(prompt=False)"
   ]
  }
 ],
 "metadata": {
  "kernelspec": {
   "display_name": "Python 3",
   "language": "python",
   "name": "python3"
  },
  "language_info": {
   "codemirror_mode": {
    "name": "ipython",
    "version": 3
   },
   "file_extension": ".py",
   "mimetype": "text/x-python",
   "name": "python",
   "nbconvert_exporter": "python",
   "pygments_lexer": "ipython3",
   "version": "3.6.5"
  }
 },
 "nbformat": 4,
 "nbformat_minor": 2
}
