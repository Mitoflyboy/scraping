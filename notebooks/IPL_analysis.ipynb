{
 "cells": [
  {
   "cell_type": "markdown",
   "metadata": {
    "_cell_guid": "329fc75c-0d9f-4739-a25b-0bb7b5125cb7",
    "_uuid": "1d408ddd07743d2884cf3d1a1443386801d0d464"
   },
   "source": [
    "# Cricket Exploration  -  IPL Analysis\n",
    "### - Ashwin"
   ]
  },
  {
   "cell_type": "markdown",
   "metadata": {
    "_cell_guid": "fa74753c-b73c-7ec6-f11d-7440cf1b61e7",
    "_uuid": "96887e6c4aabbbc091adf1762cd90894a9248fc9"
   },
   "source": [
    "Anybody who is a cricket Fan should surely try to analyse this dataset as it would help you in learning with a fun factor. I have tried my best to keep this notebook as simple as possible so that even a beginner can understand it easily. At the same time I have made efforts to analyse the dataset in different aspects effectively. I will keep updating the notebook as and when I come up with new things. Hope you like it!!!\n",
    "\n",
    "The notebook contains:\n",
    " - Basic Analysis like Teams with maximum matches, wins,etc\n",
    " - Batsman Analysis\n",
    " - Bowler Analysis\n",
    " - 200+ scores analysis\n",
    "\n",
    "If you like the notebook, **Please Upvote** as it will keep me motivated in doing great things ahead. Thanks!!\n",
    "\n",
    "I have used the following packages for visualisations:\n",
    "\n",
    " 1. Matplotlib\n",
    " 2. Seaborn\n",
    " 3. Plotly\n",
    "\n",
    "Not all the visuals are interactive as Plotly is not useful everywhere. I have mentioned **INTERACTIVE** at places where the visuals are inteactive.\n",
    "\n",
    "Following is a **Tableau Dashboard**. DO have a look at it."
   ]
  },
  {
   "cell_type": "markdown",
   "metadata": {
    "_cell_guid": "95946204-9f12-45fe-b84b-a40e6138e642",
    "_uuid": "83bb50e549c59be8fa610cafe186e00f6a87bce7"
   },
   "source": [
    "## Tableau Dashboard"
   ]
  },
  {
   "cell_type": "code",
   "execution_count": 1,
   "metadata": {
    "_cell_guid": "976772e5-340b-465e-a43d-1718c2d70159",
    "_kg_hide-input": true,
    "_uuid": "3b90661837016791cc2f15934218658d1b767266"
   },
   "outputs": [
    {
     "data": {
      "text/html": [
       "\n",
       "<div class='tableauPlaceholder' id='viz1512062244547' style='position: relative'><noscript><a href='#'><img alt='Dashboard 1 ' src='https:&#47;&#47;public.tableau.com&#47;static&#47;images&#47;IP&#47;IPLDashboard_0&#47;Dashboard1&#47;1_rss.png' style='border: none' /></a></noscript><object class='tableauViz'  style='display:none;'><param name='host_url' value='https%3A%2F%2Fpublic.tableau.com%2F' /> <param name='embed_code_version' value='3' /> <param name='site_root' value='' /><param name='name' value='IPLDashboard_0&#47;Dashboard1' /><param name='tabs' value='no' /><param name='toolbar' value='yes' /><param name='static_image' value='https:&#47;&#47;public.tableau.com&#47;static&#47;images&#47;IP&#47;IPLDashboard_0&#47;Dashboard1&#47;1.png' /> <param name='animate_transition' value='yes' /><param name='display_static_image' value='yes' /><param name='display_spinner' value='yes' /><param name='display_overlay' value='yes' /><param name='display_count' value='yes' /></object></div>                <script type='text/javascript'>                    var divElement = document.getElementById('viz1512062244547');                    var vizElement = divElement.getElementsByTagName('object')[0];                    vizElement.style.width='1520px';vizElement.style.height='1787px';                    var scriptElement = document.createElement('script');                    scriptElement.src = 'https://public.tableau.com/javascripts/api/viz_v1.js';                    vizElement.parentNode.insertBefore(scriptElement, vizElement);                </script>"
      ],
      "text/plain": [
       "<IPython.core.display.HTML object>"
      ]
     },
     "metadata": {},
     "output_type": "display_data"
    }
   ],
   "source": [
    "%%HTML\n",
    "\n",
    "<div class='tableauPlaceholder' id='viz1512062244547' style='position: relative'><noscript><a href='#'><img alt='Dashboard 1 ' src='https:&#47;&#47;public.tableau.com&#47;static&#47;images&#47;IP&#47;IPLDashboard_0&#47;Dashboard1&#47;1_rss.png' style='border: none' /></a></noscript><object class='tableauViz'  style='display:none;'><param name='host_url' value='https%3A%2F%2Fpublic.tableau.com%2F' /> <param name='embed_code_version' value='3' /> <param name='site_root' value='' /><param name='name' value='IPLDashboard_0&#47;Dashboard1' /><param name='tabs' value='no' /><param name='toolbar' value='yes' /><param name='static_image' value='https:&#47;&#47;public.tableau.com&#47;static&#47;images&#47;IP&#47;IPLDashboard_0&#47;Dashboard1&#47;1.png' /> <param name='animate_transition' value='yes' /><param name='display_static_image' value='yes' /><param name='display_spinner' value='yes' /><param name='display_overlay' value='yes' /><param name='display_count' value='yes' /></object></div>                <script type='text/javascript'>                    var divElement = document.getElementById('viz1512062244547');                    var vizElement = divElement.getElementsByTagName('object')[0];                    vizElement.style.width='1520px';vizElement.style.height='1787px';                    var scriptElement = document.createElement('script');                    scriptElement.src = 'https://public.tableau.com/javascripts/api/viz_v1.js';                    vizElement.parentNode.insertBefore(scriptElement, vizElement);                </script>"
   ]
  },
  {
   "cell_type": "code",
   "execution_count": 2,
   "metadata": {},
   "outputs": [
    {
     "name": "stdout",
     "output_type": "stream",
     "text": [
      "Requirement already satisfied: plotly in /home/ec2-user/anaconda3/envs/python3/lib/python3.6/site-packages\n",
      "Requirement already satisfied: six in /home/ec2-user/anaconda3/envs/python3/lib/python3.6/site-packages (from plotly)\n",
      "Requirement already satisfied: pytz in /home/ec2-user/anaconda3/envs/python3/lib/python3.6/site-packages (from plotly)\n",
      "Requirement already satisfied: requests in /home/ec2-user/anaconda3/envs/python3/lib/python3.6/site-packages (from plotly)\n",
      "Requirement already satisfied: decorator>=4.0.6 in /home/ec2-user/anaconda3/envs/python3/lib/python3.6/site-packages (from plotly)\n",
      "Requirement already satisfied: nbformat>=4.2 in /home/ec2-user/anaconda3/envs/python3/lib/python3.6/site-packages (from plotly)\n",
      "Requirement already satisfied: chardet<3.1.0,>=3.0.2 in /home/ec2-user/anaconda3/envs/python3/lib/python3.6/site-packages (from requests->plotly)\n",
      "Requirement already satisfied: idna<2.7,>=2.5 in /home/ec2-user/anaconda3/envs/python3/lib/python3.6/site-packages (from requests->plotly)\n",
      "Requirement already satisfied: urllib3<1.23,>=1.21.1 in /home/ec2-user/anaconda3/envs/python3/lib/python3.6/site-packages (from requests->plotly)\n",
      "Requirement already satisfied: certifi>=2017.4.17 in /home/ec2-user/anaconda3/envs/python3/lib/python3.6/site-packages (from requests->plotly)\n",
      "Requirement already satisfied: ipython_genutils in /home/ec2-user/anaconda3/envs/python3/lib/python3.6/site-packages (from nbformat>=4.2->plotly)\n",
      "Requirement already satisfied: traitlets>=4.1 in /home/ec2-user/anaconda3/envs/python3/lib/python3.6/site-packages (from nbformat>=4.2->plotly)\n",
      "Requirement already satisfied: jsonschema!=2.5.0,>=2.4 in /home/ec2-user/anaconda3/envs/python3/lib/python3.6/site-packages (from nbformat>=4.2->plotly)\n",
      "Requirement already satisfied: jupyter_core in /home/ec2-user/anaconda3/envs/python3/lib/python3.6/site-packages (from nbformat>=4.2->plotly)\n",
      "\u001b[33mYou are using pip version 9.0.1, however version 10.0.1 is available.\n",
      "You should consider upgrading via the 'pip install --upgrade pip' command.\u001b[0m\n"
     ]
    }
   ],
   "source": [
    "!pip install plotly"
   ]
  },
  {
   "cell_type": "code",
   "execution_count": 3,
   "metadata": {
    "_cell_guid": "f9eab5ae-3958-dab6-3a6e-86e16ea322d9",
    "_execution_state": "idle",
    "_uuid": "867eb569a8c6ea56b00f4102222535efd0f90f87"
   },
   "outputs": [
    {
     "data": {
      "text/html": [
       "<script>requirejs.config({paths: { 'plotly': ['https://cdn.plot.ly/plotly-latest.min']},});if(!window.Plotly) {{require(['plotly'],function(plotly) {window.Plotly=plotly;});}}</script>"
      ],
      "text/vnd.plotly.v1+html": [
       "<script>requirejs.config({paths: { 'plotly': ['https://cdn.plot.ly/plotly-latest.min']},});if(!window.Plotly) {{require(['plotly'],function(plotly) {window.Plotly=plotly;});}}</script>"
      ]
     },
     "metadata": {},
     "output_type": "display_data"
    }
   ],
   "source": [
    "# This Python 3 environment comes with many helpful analytics libraries installed\n",
    "# It is defined by the kaggle/python docker image: https://github.com/kaggle/docker-python\n",
    "# For example, here's several helpful packages to load in \n",
    "\n",
    "import numpy as np # linear algebra\n",
    "import pandas as pd # data processing, CSV file I/O (e.g. pd.read_csv)\n",
    "import matplotlib.pyplot as mlt\n",
    "import seaborn as sns\n",
    "mlt.style.use('fivethirtyeight')\n",
    "import plotly.offline as py\n",
    "py.init_notebook_mode(connected=True)\n",
    "import plotly.graph_objs as go\n",
    "import plotly.tools as tls\n",
    "# Input data files are available in the \"../input/\" directory.\n",
    "# For example, running this (by clicking run or pressing Shift+Enter) will list the files in the input directory\n",
    "\n",
    "from subprocess import check_output\n",
    "#print(check_output([\"ls\", \"../input\"]).decode(\"utf8\"))\n",
    "\n",
    "# Any results you write to the current directory are saved as output."
   ]
  },
  {
   "cell_type": "code",
   "execution_count": 4,
   "metadata": {
    "_cell_guid": "923bd093-35ef-63a5-d60f-980fc8e6a3bc",
    "_execution_state": "idle",
    "_uuid": "9e6bfb9ea12e4ee79a2c393ce3e3d33a268baef0"
   },
   "outputs": [
    {
     "data": {
      "text/html": [
       "<div>\n",
       "<style scoped>\n",
       "    .dataframe tbody tr th:only-of-type {\n",
       "        vertical-align: middle;\n",
       "    }\n",
       "\n",
       "    .dataframe tbody tr th {\n",
       "        vertical-align: top;\n",
       "    }\n",
       "\n",
       "    .dataframe thead th {\n",
       "        text-align: right;\n",
       "    }\n",
       "</style>\n",
       "<table border=\"1\" class=\"dataframe\">\n",
       "  <thead>\n",
       "    <tr style=\"text-align: right;\">\n",
       "      <th></th>\n",
       "      <th>id</th>\n",
       "      <th>season</th>\n",
       "      <th>city</th>\n",
       "      <th>date</th>\n",
       "      <th>team1</th>\n",
       "      <th>team2</th>\n",
       "      <th>toss_winner</th>\n",
       "      <th>toss_decision</th>\n",
       "      <th>result</th>\n",
       "      <th>dl_applied</th>\n",
       "      <th>winner</th>\n",
       "      <th>win_by_runs</th>\n",
       "      <th>win_by_wickets</th>\n",
       "      <th>player_of_match</th>\n",
       "      <th>venue</th>\n",
       "      <th>umpire1</th>\n",
       "      <th>umpire2</th>\n",
       "      <th>umpire3</th>\n",
       "    </tr>\n",
       "  </thead>\n",
       "  <tbody>\n",
       "    <tr>\n",
       "      <th>0</th>\n",
       "      <td>1</td>\n",
       "      <td>2017</td>\n",
       "      <td>Hyderabad</td>\n",
       "      <td>2017-04-05</td>\n",
       "      <td>Sunrisers Hyderabad</td>\n",
       "      <td>Royal Challengers Bangalore</td>\n",
       "      <td>Royal Challengers Bangalore</td>\n",
       "      <td>field</td>\n",
       "      <td>normal</td>\n",
       "      <td>0</td>\n",
       "      <td>Sunrisers Hyderabad</td>\n",
       "      <td>35</td>\n",
       "      <td>0</td>\n",
       "      <td>Yuvraj Singh</td>\n",
       "      <td>Rajiv Gandhi International Stadium, Uppal</td>\n",
       "      <td>AY Dandekar</td>\n",
       "      <td>NJ Llong</td>\n",
       "      <td>NaN</td>\n",
       "    </tr>\n",
       "    <tr>\n",
       "      <th>1</th>\n",
       "      <td>2</td>\n",
       "      <td>2017</td>\n",
       "      <td>Pune</td>\n",
       "      <td>2017-04-06</td>\n",
       "      <td>Mumbai Indians</td>\n",
       "      <td>Rising Pune Supergiant</td>\n",
       "      <td>Rising Pune Supergiant</td>\n",
       "      <td>field</td>\n",
       "      <td>normal</td>\n",
       "      <td>0</td>\n",
       "      <td>Rising Pune Supergiant</td>\n",
       "      <td>0</td>\n",
       "      <td>7</td>\n",
       "      <td>SPD Smith</td>\n",
       "      <td>Maharashtra Cricket Association Stadium</td>\n",
       "      <td>A Nand Kishore</td>\n",
       "      <td>S Ravi</td>\n",
       "      <td>NaN</td>\n",
       "    </tr>\n",
       "  </tbody>\n",
       "</table>\n",
       "</div>"
      ],
      "text/plain": [
       "   id  season       city        date                team1  \\\n",
       "0   1    2017  Hyderabad  2017-04-05  Sunrisers Hyderabad   \n",
       "1   2    2017       Pune  2017-04-06       Mumbai Indians   \n",
       "\n",
       "                         team2                  toss_winner toss_decision  \\\n",
       "0  Royal Challengers Bangalore  Royal Challengers Bangalore         field   \n",
       "1       Rising Pune Supergiant       Rising Pune Supergiant         field   \n",
       "\n",
       "   result  dl_applied                  winner  win_by_runs  win_by_wickets  \\\n",
       "0  normal           0     Sunrisers Hyderabad           35               0   \n",
       "1  normal           0  Rising Pune Supergiant            0               7   \n",
       "\n",
       "  player_of_match                                      venue         umpire1  \\\n",
       "0    Yuvraj Singh  Rajiv Gandhi International Stadium, Uppal     AY Dandekar   \n",
       "1       SPD Smith    Maharashtra Cricket Association Stadium  A Nand Kishore   \n",
       "\n",
       "    umpire2  umpire3  \n",
       "0  NJ Llong      NaN  \n",
       "1    S Ravi      NaN  "
      ]
     },
     "execution_count": 4,
     "metadata": {},
     "output_type": "execute_result"
    }
   ],
   "source": [
    "matches=pd.read_csv('IPL_matches.csv')   \n",
    "delivery=pd.read_csv('IPL_deliveries.csv.zip')\n",
    "matches.head(2)"
   ]
  },
  {
   "cell_type": "code",
   "execution_count": 5,
   "metadata": {
    "_cell_guid": "6afe57b5-f075-b1a6-5197-d3ca8ea1c758",
    "_execution_state": "idle",
    "_uuid": "e0797abf2e24e6ade6a126a9ceba4da610e1b522"
   },
   "outputs": [
    {
     "data": {
      "text/html": [
       "<div>\n",
       "<style scoped>\n",
       "    .dataframe tbody tr th:only-of-type {\n",
       "        vertical-align: middle;\n",
       "    }\n",
       "\n",
       "    .dataframe tbody tr th {\n",
       "        vertical-align: top;\n",
       "    }\n",
       "\n",
       "    .dataframe thead th {\n",
       "        text-align: right;\n",
       "    }\n",
       "</style>\n",
       "<table border=\"1\" class=\"dataframe\">\n",
       "  <thead>\n",
       "    <tr style=\"text-align: right;\">\n",
       "      <th></th>\n",
       "      <th>match_id</th>\n",
       "      <th>inning</th>\n",
       "      <th>batting_team</th>\n",
       "      <th>bowling_team</th>\n",
       "      <th>over</th>\n",
       "      <th>ball</th>\n",
       "      <th>batsman</th>\n",
       "      <th>non_striker</th>\n",
       "      <th>bowler</th>\n",
       "      <th>is_super_over</th>\n",
       "      <th>...</th>\n",
       "      <th>bye_runs</th>\n",
       "      <th>legbye_runs</th>\n",
       "      <th>noball_runs</th>\n",
       "      <th>penalty_runs</th>\n",
       "      <th>batsman_runs</th>\n",
       "      <th>extra_runs</th>\n",
       "      <th>total_runs</th>\n",
       "      <th>player_dismissed</th>\n",
       "      <th>dismissal_kind</th>\n",
       "      <th>fielder</th>\n",
       "    </tr>\n",
       "  </thead>\n",
       "  <tbody>\n",
       "    <tr>\n",
       "      <th>0</th>\n",
       "      <td>1</td>\n",
       "      <td>1</td>\n",
       "      <td>Sunrisers Hyderabad</td>\n",
       "      <td>Royal Challengers Bangalore</td>\n",
       "      <td>1</td>\n",
       "      <td>1</td>\n",
       "      <td>DA Warner</td>\n",
       "      <td>S Dhawan</td>\n",
       "      <td>TS Mills</td>\n",
       "      <td>0</td>\n",
       "      <td>...</td>\n",
       "      <td>0</td>\n",
       "      <td>0</td>\n",
       "      <td>0</td>\n",
       "      <td>0</td>\n",
       "      <td>0</td>\n",
       "      <td>0</td>\n",
       "      <td>0</td>\n",
       "      <td>NaN</td>\n",
       "      <td>NaN</td>\n",
       "      <td>NaN</td>\n",
       "    </tr>\n",
       "    <tr>\n",
       "      <th>1</th>\n",
       "      <td>1</td>\n",
       "      <td>1</td>\n",
       "      <td>Sunrisers Hyderabad</td>\n",
       "      <td>Royal Challengers Bangalore</td>\n",
       "      <td>1</td>\n",
       "      <td>2</td>\n",
       "      <td>DA Warner</td>\n",
       "      <td>S Dhawan</td>\n",
       "      <td>TS Mills</td>\n",
       "      <td>0</td>\n",
       "      <td>...</td>\n",
       "      <td>0</td>\n",
       "      <td>0</td>\n",
       "      <td>0</td>\n",
       "      <td>0</td>\n",
       "      <td>0</td>\n",
       "      <td>0</td>\n",
       "      <td>0</td>\n",
       "      <td>NaN</td>\n",
       "      <td>NaN</td>\n",
       "      <td>NaN</td>\n",
       "    </tr>\n",
       "  </tbody>\n",
       "</table>\n",
       "<p>2 rows × 21 columns</p>\n",
       "</div>"
      ],
      "text/plain": [
       "   match_id  inning         batting_team                 bowling_team  over  \\\n",
       "0         1       1  Sunrisers Hyderabad  Royal Challengers Bangalore     1   \n",
       "1         1       1  Sunrisers Hyderabad  Royal Challengers Bangalore     1   \n",
       "\n",
       "   ball    batsman non_striker    bowler  is_super_over   ...    bye_runs  \\\n",
       "0     1  DA Warner    S Dhawan  TS Mills              0   ...           0   \n",
       "1     2  DA Warner    S Dhawan  TS Mills              0   ...           0   \n",
       "\n",
       "   legbye_runs  noball_runs  penalty_runs  batsman_runs  extra_runs  \\\n",
       "0            0            0             0             0           0   \n",
       "1            0            0             0             0           0   \n",
       "\n",
       "   total_runs  player_dismissed dismissal_kind fielder  \n",
       "0           0               NaN            NaN     NaN  \n",
       "1           0               NaN            NaN     NaN  \n",
       "\n",
       "[2 rows x 21 columns]"
      ]
     },
     "execution_count": 5,
     "metadata": {},
     "output_type": "execute_result"
    }
   ],
   "source": [
    "delivery.head(2)"
   ]
  },
  {
   "cell_type": "markdown",
   "metadata": {
    "_cell_guid": "7a3109b5-64b4-657f-2c3b-b5582c2c8d4e",
    "_uuid": "2073dbc4e0ada4e25eb4839b33159c3990cd54a2"
   },
   "source": [
    "## Some Cleaning And Transformation"
   ]
  },
  {
   "cell_type": "code",
   "execution_count": 6,
   "metadata": {
    "_cell_guid": "98d8cba5-dd21-0eb1-fb0a-1d846c508448",
    "_execution_state": "idle",
    "_uuid": "9a7cc6e2b4313b4695da6b947705652d8457ee00"
   },
   "outputs": [],
   "source": [
    "matches.drop(['umpire3'],axis=1,inplace=True)  #since all the values are NaN\n",
    "delivery.fillna(0,inplace=True)     #filling all the NaN values with 0"
   ]
  },
  {
   "cell_type": "code",
   "execution_count": 7,
   "metadata": {
    "_cell_guid": "779dee58-ab7a-4c0f-b3ab-6154a6273250",
    "_uuid": "3b4832280e26ac6709021f823b880cbdb2fd71fb"
   },
   "outputs": [
    {
     "data": {
      "text/plain": [
       "array(['Sunrisers Hyderabad', 'Mumbai Indians', 'Gujarat Lions',\n",
       "       'Rising Pune Supergiant', 'Royal Challengers Bangalore',\n",
       "       'Kolkata Knight Riders', 'Delhi Daredevils', 'Kings XI Punjab',\n",
       "       'Chennai Super Kings', 'Rajasthan Royals', 'Deccan Chargers',\n",
       "       'Kochi Tuskers Kerala', 'Pune Warriors', 'Rising Pune Supergiants'],\n",
       "      dtype=object)"
      ]
     },
     "execution_count": 7,
     "metadata": {},
     "output_type": "execute_result"
    }
   ],
   "source": [
    "matches['team1'].unique()"
   ]
  },
  {
   "cell_type": "code",
   "execution_count": 8,
   "metadata": {
    "_cell_guid": "89a106c2-32f5-2432-f8ba-e8ef0d93eddf",
    "_execution_state": "idle",
    "_uuid": "dc410f319df82c9abbe69a56080ff24cb56f5fcc"
   },
   "outputs": [],
   "source": [
    "#Replacing the Team Names with their abbreviations\n",
    "\n",
    "matches.replace(['Mumbai Indians','Kolkata Knight Riders','Royal Challengers Bangalore','Deccan Chargers','Chennai Super Kings',\n",
    "                 'Rajasthan Royals','Delhi Daredevils','Gujarat Lions','Kings XI Punjab',\n",
    "                 'Sunrisers Hyderabad','Rising Pune Supergiants','Kochi Tuskers Kerala','Pune Warriors','Rising Pune Supergiant']\n",
    "                ,['MI','KKR','RCB','DC','CSK','RR','DD','GL','KXIP','SRH','RPS','KTK','PW','RPS'],inplace=True)\n",
    "\n",
    "delivery.replace(['Mumbai Indians','Kolkata Knight Riders','Royal Challengers Bangalore','Deccan Chargers','Chennai Super Kings',\n",
    "                 'Rajasthan Royals','Delhi Daredevils','Gujarat Lions','Kings XI Punjab',\n",
    "                 'Sunrisers Hyderabad','Rising Pune Supergiants','Kochi Tuskers Kerala','Pune Warriors','Rising Pune Supergiant']\n",
    "                ,['MI','KKR','RCB','DC','CSK','RR','DD','GL','KXIP','SRH','RPS','KTK','PW','RPS'],inplace=True)"
   ]
  },
  {
   "cell_type": "markdown",
   "metadata": {
    "_cell_guid": "281aa670-33f0-6403-22ad-57e252d8c939",
    "_uuid": "9600a75753cc5629e9fa6d2546e8db289d1fb667"
   },
   "source": [
    "## Some Basic Analysis"
   ]
  },
  {
   "cell_type": "code",
   "execution_count": 9,
   "metadata": {
    "_cell_guid": "cdaef786-1b3c-1609-de32-1f7a740036b3",
    "_execution_state": "idle",
    "_uuid": "2c5246adfd3cacf4d8024e714d7be38690e74de6"
   },
   "outputs": [
    {
     "name": "stdout",
     "output_type": "stream",
     "text": [
      "Total Matches Played: 636\n",
      " \n",
      " Venues Played At: ['Hyderabad' 'Pune' 'Rajkot' 'Indore' 'Bangalore' 'Mumbai' 'Kolkata'\n",
      " 'Delhi' 'Chandigarh' 'Kanpur' 'Jaipur' 'Chennai' 'Cape Town'\n",
      " 'Port Elizabeth' 'Durban' 'Centurion' 'East London' 'Johannesburg'\n",
      " 'Kimberley' 'Bloemfontein' 'Ahmedabad' 'Cuttack' 'Nagpur' 'Dharamsala'\n",
      " 'Kochi' 'Visakhapatnam' 'Raipur' 'Ranchi' 'Abu Dhabi' 'Sharjah' nan]\n",
      " \n",
      " Teams : ['SRH' 'MI' 'GL' 'RPS' 'RCB' 'KKR' 'DD' 'KXIP' 'CSK' 'RR' 'DC' 'KTK' 'PW']\n"
     ]
    }
   ],
   "source": [
    "print('Total Matches Played:',matches.shape[0])\n",
    "print(' \\n Venues Played At:',matches['city'].unique())     \n",
    "print(' \\n Teams :',matches['team1'].unique())"
   ]
  },
  {
   "cell_type": "code",
   "execution_count": 10,
   "metadata": {
    "_cell_guid": "6f69e14b-8553-ee5a-0529-945191c73e0b",
    "_execution_state": "idle",
    "_uuid": "55b38a6c19ac21da84fc7a963f161ecb17b81c32"
   },
   "outputs": [
    {
     "name": "stdout",
     "output_type": "stream",
     "text": [
      "Total venues played at: 30\n",
      "\n",
      "Total umpires  44\n"
     ]
    }
   ],
   "source": [
    "print('Total venues played at:',matches['city'].nunique())\n",
    "print('\\nTotal umpires ',matches['umpire1'].nunique())"
   ]
  },
  {
   "cell_type": "code",
   "execution_count": 11,
   "metadata": {
    "_cell_guid": "b8730bf7-7538-6839-b47c-081ad4280fb1",
    "_execution_state": "idle",
    "_uuid": "997aa1ecbe666042cb6c1c51b59941f56502bbe0"
   },
   "outputs": [
    {
     "name": "stdout",
     "output_type": "stream",
     "text": [
      "CH Gayle  : has most man of the match awards\n",
      "MI : has the highest number of match wins\n"
     ]
    }
   ],
   "source": [
    "print((matches['player_of_match'].value_counts()).idxmax(),' : has most man of the match awards')\n",
    "print(((matches['winner']).value_counts()).idxmax(),': has the highest number of match wins')"
   ]
  },
  {
   "cell_type": "code",
   "execution_count": 12,
   "metadata": {
    "_cell_guid": "7f8ea23e-bcc2-9c22-b8a5-afd21affe478",
    "_execution_state": "idle",
    "_uuid": "3a3875b84705213debd26ec1b3f00a8c7bd1e894"
   },
   "outputs": [
    {
     "data": {
      "text/html": [
       "<div>\n",
       "<style scoped>\n",
       "    .dataframe tbody tr th:only-of-type {\n",
       "        vertical-align: middle;\n",
       "    }\n",
       "\n",
       "    .dataframe tbody tr th {\n",
       "        vertical-align: top;\n",
       "    }\n",
       "\n",
       "    .dataframe thead th {\n",
       "        text-align: right;\n",
       "    }\n",
       "</style>\n",
       "<table border=\"1\" class=\"dataframe\">\n",
       "  <thead>\n",
       "    <tr style=\"text-align: right;\">\n",
       "      <th></th>\n",
       "      <th>season</th>\n",
       "      <th>team1</th>\n",
       "      <th>team2</th>\n",
       "      <th>winner</th>\n",
       "      <th>win_by_runs</th>\n",
       "    </tr>\n",
       "  </thead>\n",
       "  <tbody>\n",
       "    <tr>\n",
       "      <th>43</th>\n",
       "      <td>2017</td>\n",
       "      <td>MI</td>\n",
       "      <td>DD</td>\n",
       "      <td>MI</td>\n",
       "      <td>146</td>\n",
       "    </tr>\n",
       "  </tbody>\n",
       "</table>\n",
       "</div>"
      ],
      "text/plain": [
       "    season team1 team2 winner  win_by_runs\n",
       "43    2017    MI    DD     MI          146"
      ]
     },
     "execution_count": 12,
     "metadata": {},
     "output_type": "execute_result"
    }
   ],
   "source": [
    "df=matches.iloc[[matches['win_by_runs'].idxmax()]]\n",
    "df[['season','team1','team2','winner','win_by_runs']]"
   ]
  },
  {
   "cell_type": "markdown",
   "metadata": {
    "_cell_guid": "a1cd4535-70a5-d85c-d7b8-89a0ce25336b",
    "_uuid": "ec085108e02bbd43d4a9f12bae8f771382c7b4f2"
   },
   "source": [
    "Mumbai Indians(MI) defeated Delhi Daredevils(DD) with the highest run difference"
   ]
  },
  {
   "cell_type": "code",
   "execution_count": 13,
   "metadata": {
    "_cell_guid": "7627d019-f10b-c14c-2284-3227dba41144",
    "_execution_state": "idle",
    "_uuid": "cee147b0eb86a8e4ae8222890c85f620438ef8c7"
   },
   "outputs": [
    {
     "data": {
      "text/html": [
       "<div>\n",
       "<style scoped>\n",
       "    .dataframe tbody tr th:only-of-type {\n",
       "        vertical-align: middle;\n",
       "    }\n",
       "\n",
       "    .dataframe tbody tr th {\n",
       "        vertical-align: top;\n",
       "    }\n",
       "\n",
       "    .dataframe thead th {\n",
       "        text-align: right;\n",
       "    }\n",
       "</style>\n",
       "<table border=\"1\" class=\"dataframe\">\n",
       "  <thead>\n",
       "    <tr style=\"text-align: right;\">\n",
       "      <th></th>\n",
       "      <th>season</th>\n",
       "      <th>team1</th>\n",
       "      <th>team2</th>\n",
       "      <th>winner</th>\n",
       "      <th>win_by_wickets</th>\n",
       "    </tr>\n",
       "  </thead>\n",
       "  <tbody>\n",
       "    <tr>\n",
       "      <th>2</th>\n",
       "      <td>2017</td>\n",
       "      <td>GL</td>\n",
       "      <td>KKR</td>\n",
       "      <td>KKR</td>\n",
       "      <td>10</td>\n",
       "    </tr>\n",
       "  </tbody>\n",
       "</table>\n",
       "</div>"
      ],
      "text/plain": [
       "   season team1 team2 winner  win_by_wickets\n",
       "2    2017    GL   KKR    KKR              10"
      ]
     },
     "execution_count": 13,
     "metadata": {},
     "output_type": "execute_result"
    }
   ],
   "source": [
    "df=matches.iloc[[matches['win_by_wickets'].idxmax()]]\n",
    "df[['season','team1','team2','winner','win_by_wickets']]"
   ]
  },
  {
   "cell_type": "markdown",
   "metadata": {
    "_cell_guid": "54fcc902-f0d2-ad4e-18e0-9599bf9a87f4",
    "_uuid": "598d9df0e0b239e04d1bb643a02456e6a1d62bb8"
   },
   "source": [
    "Kolkata Knight Riders(KKR) defeated Gujrat Lions(GL) with the highest wins by wickets"
   ]
  },
  {
   "cell_type": "markdown",
   "metadata": {
    "_cell_guid": "8bd22340-6c9b-1e44-26a9-47763da81342",
    "_uuid": "695d21b80b0b51ec036da918f269eb6c2d35681e"
   },
   "source": [
    "## Toss Decisions"
   ]
  },
  {
   "cell_type": "code",
   "execution_count": 14,
   "metadata": {
    "_cell_guid": "28426aab-897d-be25-08a8-009cc3aa6585",
    "_execution_state": "idle",
    "_uuid": "4e55305ff6e1af3aa25dc6c644a716ccb88bfe0f"
   },
   "outputs": [
    {
     "name": "stdout",
     "output_type": "stream",
     "text": [
      "Toss Decisions in %\n",
      " field    62.911612\n",
      "bat      47.313692\n",
      "Name: toss_decision, dtype: float64\n"
     ]
    }
   ],
   "source": [
    "print('Toss Decisions in %\\n',((matches['toss_decision']).value_counts())/577*100)"
   ]
  },
  {
   "cell_type": "markdown",
   "metadata": {
    "_cell_guid": "720ce068-72b3-f0c0-b0d6-2a60c6b55f63",
    "_uuid": "1be885e97597a57c0416952cb4c4972bc3093db1"
   },
   "source": [
    "### Toss Decisions across Seasons"
   ]
  },
  {
   "cell_type": "code",
   "execution_count": 15,
   "metadata": {
    "_cell_guid": "1883324b-47d6-c11e-e8a3-945e4d0b22f7",
    "_execution_state": "idle",
    "_uuid": "18ec0edc7e9e18caa9634c2f4a72f7c66d2c0cf6"
   },
   "outputs": [
    {
     "data": {
      "image/png": "[encoded data removed]",
      "text/plain": [
       "<matplotlib.figure.Figure at 0x7f28e84f41d0>"
      ]
     },
     "metadata": {},
     "output_type": "display_data"
    }
   ],
   "source": [
    "mlt.subplots(figsize=(10,6))\n",
    "sns.countplot(x='season',hue='toss_decision',data=matches)\n",
    "mlt.show()"
   ]
  },
  {
   "cell_type": "markdown",
   "metadata": {
    "_cell_guid": "fdbfc0e2-b25b-2b5f-8075-c098c8958e49",
    "_uuid": "3e3d7dc236c7c6538a356817df83f4ec4c0380ef"
   },
   "source": [
    "The decision for batting or fielding varies largely across the seasons. In some seasons, the probablity that toss winners opt for batting is high, while it is not the case in other seasons. In 2016 though, the majority of toss winners opted for batting. "
   ]
  },
  {
   "cell_type": "markdown",
   "metadata": {
    "_cell_guid": "049ccca9-ee76-69c3-296b-00d3a6da3f2d",
    "_uuid": "e661e32ff7fce2f29a26eccba1554f6dedde0568"
   },
   "source": [
    "### Maximum Toss Winners"
   ]
  },
  {
   "cell_type": "code",
   "execution_count": 16,
   "metadata": {
    "_cell_guid": "ba5b3cc4-d985-3389-72a4-bac838153e59",
    "_execution_state": "idle",
    "_uuid": "721806aba5c904c84d56d9208827ee55c4f42c41"
   },
   "outputs": [
    {
     "data": {
      "image/png": "[encoded data removed]",
      "text/plain": [
       "<matplotlib.figure.Figure at 0x7f28e8210cc0>"
      ]
     },
     "metadata": {},
     "output_type": "display_data"
    }
   ],
   "source": [
    "mlt.subplots(figsize=(10,6))\n",
    "ax=matches['toss_winner'].value_counts().plot.bar(width=0.8)\n",
    "for p in ax.patches:\n",
    "    ax.annotate(format(p.get_height()), (p.get_x()+0.15, p.get_height()+1))\n",
    "mlt.show()"
   ]
  },
  {
   "cell_type": "markdown",
   "metadata": {
    "_cell_guid": "7806e0bb-9de6-b9b3-7b35-f9a058f46ea0",
    "_uuid": "05570ea6405df5f90776cb10f1cd81aa5019f895"
   },
   "source": [
    "Mumbai Indians seem to be very lucky having the higest win in tosses follwed by Kolkata Knight Riders. Pune Supergiants have the lowest wins as they have played the lowest matches also. This does not show the higher chances of winning the toss as the number of matches played by each team is uneven."
   ]
  },
  {
   "cell_type": "markdown",
   "metadata": {
    "_cell_guid": "15f3f4c2-1c45-6f39-a0c4-ccbcc55184b5",
    "_uuid": "32351adf5ca1d8be9e9bbbb7acd22aafb6ac12c4"
   },
   "source": [
    "### Total Matches vs Wins for Teams (INTERACTIVE)"
   ]
  },
  {
   "cell_type": "code",
   "execution_count": 17,
   "metadata": {
    "_cell_guid": "7fa8d493-5dc4-ce19-9ebe-9bf43505d00b",
    "_execution_state": "idle",
    "_uuid": "a28b7adc3aba91d87c7f090bd42ce0186d6f7173"
   },
   "outputs": [
    {
     "data": {
      "application/vnd.plotly.v1+json": {
       "data": [
        {
         "name": "Total Matches",
         "type": "bar",
         "x": [
          "MI",
          "RCB",
          "KXIP",
          "KKR",
          "DD",
          "CSK",
          "RR",
          "SRH",
          "DC",
          "PW",
          "RPS",
          "GL",
          "KTK"
         ],
         "y": [
          157,
          152,
          148,
          148,
          147,
          131,
          118,
          76,
          75,
          46,
          30,
          30,
          14
         ]
        },
        {
         "name": "Matches Won",
         "type": "bar",
         "x": [
          "MI",
          "RCB",
          "KXIP",
          "KKR",
          "DD",
          "CSK",
          "RR",
          "SRH",
          "DC",
          "PW",
          "RPS",
          "GL",
          "KTK"
         ],
         "y": [
          92,
          79,
          77,
          73,
          70,
          63,
          62,
          42,
          29,
          15,
          13,
          12,
          6
         ]
        }
       ],
       "layout": {
        "barmode": "stack"
       }
      },
      "text/html": [
       "<div id=\"9e511a7c-9860-423d-b712-96dd10ab8eca\" style=\"height: 525px; width: 100%;\" class=\"plotly-graph-div\"></div><script type=\"text/javascript\">require([\"plotly\"], function(Plotly) { window.PLOTLYENV=window.PLOTLYENV || {};window.PLOTLYENV.BASE_URL=\"https://plot.ly\";Plotly.newPlot(\"9e511a7c-9860-423d-b712-96dd10ab8eca\", [{\"type\": \"bar\", \"x\": [\"MI\", \"RCB\", \"KXIP\", \"KKR\", \"DD\", \"CSK\", \"RR\", \"SRH\", \"DC\", \"PW\", \"RPS\", \"GL\", \"KTK\"], \"y\": [157, 152, 148, 148, 147, 131, 118, 76, 75, 46, 30, 30, 14], \"name\": \"Total Matches\"}, {\"type\": \"bar\", \"x\": [\"MI\", \"RCB\", \"KXIP\", \"KKR\", \"DD\", \"CSK\", \"RR\", \"SRH\", \"DC\", \"PW\", \"RPS\", \"GL\", \"KTK\"], \"y\": [92, 79, 77, 73, 70, 63, 62, 42, 29, 15, 13, 12, 6], \"name\": \"Matches Won\"}], {\"barmode\": \"stack\"}, {\"showLink\": true, \"linkText\": \"Export to plot.ly\"})});</script>"
      ],
      "text/vnd.plotly.v1+html": [
       "<div id=\"9e511a7c-9860-423d-b712-96dd10ab8eca\" style=\"height: 525px; width: 100%;\" class=\"plotly-graph-div\"></div><script type=\"text/javascript\">require([\"plotly\"], function(Plotly) { window.PLOTLYENV=window.PLOTLYENV || {};window.PLOTLYENV.BASE_URL=\"https://plot.ly\";Plotly.newPlot(\"9e511a7c-9860-423d-b712-96dd10ab8eca\", [{\"type\": \"bar\", \"x\": [\"MI\", \"RCB\", \"KXIP\", \"KKR\", \"DD\", \"CSK\", \"RR\", \"SRH\", \"DC\", \"PW\", \"RPS\", \"GL\", \"KTK\"], \"y\": [157, 152, 148, 148, 147, 131, 118, 76, 75, 46, 30, 30, 14], \"name\": \"Total Matches\"}, {\"type\": \"bar\", \"x\": [\"MI\", \"RCB\", \"KXIP\", \"KKR\", \"DD\", \"CSK\", \"RR\", \"SRH\", \"DC\", \"PW\", \"RPS\", \"GL\", \"KTK\"], \"y\": [92, 79, 77, 73, 70, 63, 62, 42, 29, 15, 13, 12, 6], \"name\": \"Matches Won\"}], {\"barmode\": \"stack\"}, {\"showLink\": true, \"linkText\": \"Export to plot.ly\"})});</script>"
      ]
     },
     "metadata": {},
     "output_type": "display_data"
    }
   ],
   "source": [
    "matches_played_byteams=pd.concat([matches['team1'],matches['team2']])\n",
    "matches_played_byteams=matches_played_byteams.value_counts().reset_index()\n",
    "matches_played_byteams.columns=['Team','Total Matches']\n",
    "matches_played_byteams['wins']=matches['winner'].value_counts().reset_index()['winner']\n",
    "matches_played_byteams.set_index('Team',inplace=True)\n",
    "\n",
    "trace1 = go.Bar(\n",
    "    x=matches_played_byteams.index,\n",
    "    y=matches_played_byteams['Total Matches'],\n",
    "    name='Total Matches'\n",
    ")\n",
    "trace2 = go.Bar(\n",
    "    x=matches_played_byteams.index,\n",
    "    y=matches_played_byteams['wins'],\n",
    "    name='Matches Won'\n",
    ")\n",
    "\n",
    "data = [trace1, trace2]\n",
    "layout = go.Layout(\n",
    "    barmode='stack'\n",
    ")\n",
    "\n",
    "fig = go.Figure(data=data, layout=layout)\n",
    "py.iplot(fig, filename='stacked-bar')"
   ]
  },
  {
   "cell_type": "markdown",
   "metadata": {
    "_cell_guid": "c24a49d0-541b-807e-7b2b-94715d347c18",
    "_uuid": "44d1087295a28374a2f18209bed05c4b5319687c"
   },
   "source": [
    "### Is Toss Winner Also the Match Winner?"
   ]
  },
  {
   "cell_type": "code",
   "execution_count": 18,
   "metadata": {
    "_cell_guid": "0680c363-b932-a4f8-b0f7-960d7411c2fa",
    "_execution_state": "idle",
    "_uuid": "cb6479a3e56fca71d75f984192bc5e91a820239a"
   },
   "outputs": [
    {
     "data": {
      "image/png": "[encoded data removed]",
      "text/plain": [
       "<matplotlib.figure.Figure at 0x7f28e852f7f0>"
      ]
     },
     "metadata": {},
     "output_type": "display_data"
    }
   ],
   "source": [
    "df=matches[matches['toss_winner']==matches['winner']]\n",
    "slices=[len(df),(577-len(df))]\n",
    "labels=['yes','no']\n",
    "mlt.pie(slices,labels=labels,startangle=90,shadow=True,explode=(0,0),autopct='%1.1f%%',colors=['r','g'])\n",
    "fig = mlt.gcf()\n",
    "fig.set_size_inches(6,6)\n",
    "mlt.show()"
   ]
  },
  {
   "cell_type": "markdown",
   "metadata": {
    "_cell_guid": "0becec06-ea01-d719-eb50-374e8ecb0f92",
    "_uuid": "9567fd97af0bcc90251e0a391e06892e7c87a3b7"
   },
   "source": [
    "Thus the toss winner is not necessarily the match winner. The match winning probablity for toss winnong team is about 50%-50%"
   ]
  },
  {
   "cell_type": "markdown",
   "metadata": {
    "_cell_guid": "c786681e-df39-497d-70fc-17b2ddd77540",
    "_uuid": "2011ada9d493032dc5719a7dc304724aeef7a067"
   },
   "source": [
    "##  Matches played across each season"
   ]
  },
  {
   "cell_type": "code",
   "execution_count": 19,
   "metadata": {
    "_cell_guid": "1ce186dc-0290-6f5c-11af-5a44d1f8bd0e",
    "_execution_state": "idle",
    "_uuid": "d04a12ca3aa70874c0d8f8e6b41f493566af8ac4"
   },
   "outputs": [
    {
     "data": {
      "image/png": "[encoded data removed]",
      "text/plain": [
       "<matplotlib.figure.Figure at 0x7f28e81e8da0>"
      ]
     },
     "metadata": {},
     "output_type": "display_data"
    }
   ],
   "source": [
    "mlt.subplots(figsize=(10,6))\n",
    "sns.countplot(x='season',data=matches,palette=\"Set1\")  #countplot automatically counts the frequency of an item\n",
    "mlt.show()"
   ]
  },
  {
   "cell_type": "markdown",
   "metadata": {
    "_cell_guid": "97cb179d-3f41-ba1f-a65b-82b7830e2d81",
    "_uuid": "33d895f238a3a916d29c0c267281d7bbde22d8ee"
   },
   "source": [
    "### Runs Across the Seasons"
   ]
  },
  {
   "cell_type": "code",
   "execution_count": 20,
   "metadata": {
    "_cell_guid": "0d6a39f0-dbdb-5792-4920-dd2a5e1832dd",
    "_execution_state": "idle",
    "_uuid": "94569b02d12c528a6609290d1708fa2d3352599a"
   },
   "outputs": [
    {
     "data": {
      "image/png": "[encoded data removed]",
      "text/plain": [
       "<matplotlib.figure.Figure at 0x7f28e8210d68>"
      ]
     },
     "metadata": {},
     "output_type": "display_data"
    }
   ],
   "source": [
    "mlt.subplots(figsize=(10,6))\n",
    "batsmen = matches[['id','season']].merge(delivery, left_on = 'id', right_on = 'match_id', how = 'left').drop('id', axis = 1)\n",
    "#merging the matches and delivery dataframe by referencing the id and match_id columns respectively\n",
    "season=batsmen.groupby(['season'])['total_runs'].sum().reset_index()\n",
    "season['total_runs'].plot(marker='o')\n",
    "mlt.show()"
   ]
  },
  {
   "cell_type": "markdown",
   "metadata": {
    "_cell_guid": "255b308f-af67-5f09-f6d7-99324a9ab0b4",
    "_uuid": "b58b14cfd1b47ebd118e839f7cbc7c47aead91bd"
   },
   "source": [
    "There was a decline in total runs from 2008 to 2009.But there after there was a substantial increase in runs in every season until 2013, but from next season there was a slump in the total runs. But the number of matches are not equal in all seasons. We should check the average runs per match in each season"
   ]
  },
  {
   "cell_type": "markdown",
   "metadata": {
    "_cell_guid": "579d4be6-fffb-1f0f-4c4a-313fdb0c2618",
    "_uuid": "462e648e887ef64895d2e69c0b11abb9c553342a"
   },
   "source": [
    "### Average runs per match in each Season"
   ]
  },
  {
   "cell_type": "code",
   "execution_count": 21,
   "metadata": {
    "_cell_guid": "bbe136ad-8a09-43a3-8c69-89188a982b2b",
    "_execution_state": "idle",
    "_uuid": "c9f555b6c2f6e02287e16e2cae478741fdb290de"
   },
   "outputs": [
    {
     "data": {
      "image/png": "[encoded data removed]",
      "text/plain": [
       "<matplotlib.figure.Figure at 0x7f28e8495668>"
      ]
     },
     "metadata": {},
     "output_type": "display_data"
    }
   ],
   "source": [
    "mlt.subplots(figsize=(10,6))\n",
    "avgruns_each_season=matches.groupby(['season']).count().id.reset_index()\n",
    "avgruns_each_season.rename(columns={'id':'matches'},inplace=1)\n",
    "avgruns_each_season['total_runs']=season['total_runs']\n",
    "avgruns_each_season['average_runs_per_match']=avgruns_each_season['total_runs']/avgruns_each_season['matches']\n",
    "avgruns_each_season['average_runs_per_match'].plot(marker='o')\n",
    "mlt.show()"
   ]
  },
  {
   "cell_type": "markdown",
   "metadata": {
    "_cell_guid": "9115dfc7-320e-5029-ba30-443ccc086bc6",
    "_uuid": "c104b239d588eb871bf4a1bbde504890e53bb144"
   },
   "source": [
    "### Sixes and Fours Across the Season"
   ]
  },
  {
   "cell_type": "code",
   "execution_count": 22,
   "metadata": {
    "_cell_guid": "42af0d4a-d8d1-9d00-b310-ef762385130b",
    "_execution_state": "idle",
    "_uuid": "038233d1a656ee54c7b7c0acfcd8a72b84d82544"
   },
   "outputs": [
    {
     "data": {
      "image/png": "[encoded data removed]",
      "text/plain": [
       "<matplotlib.figure.Figure at 0x7f28e84284e0>"
      ]
     },
     "metadata": {},
     "output_type": "display_data"
    }
   ],
   "source": [
    "Season_boundaries=batsmen.groupby(\"season\")[\"batsman_runs\"].agg(lambda x: (x==6).sum()).reset_index()\n",
    "a=batsmen.groupby(\"season\")[\"batsman_runs\"].agg(lambda x: (x==4).sum()).reset_index()\n",
    "Season_boundaries=Season_boundaries.merge(a,left_on='season',right_on='season',how='left')\n",
    "Season_boundaries=Season_boundaries.rename(columns={'batsman_runs_x':'6\"s','batsman_runs_y':'4\"s'})\n",
    "Season_boundaries[['6\"s','4\"s']].plot(marker='o')\n",
    "fig=mlt.gcf()\n",
    "fig.set_size_inches(10,6)\n",
    "mlt.show()"
   ]
  },
  {
   "cell_type": "markdown",
   "metadata": {
    "_cell_guid": "31f0779a-b5fc-5729-0de5-3e6b64eefe97",
    "_uuid": "804e006b1194843d1562fba9711acb87d095820f"
   },
   "source": [
    "### Runs Per Over By Teams Across Seasons"
   ]
  },
  {
   "cell_type": "code",
   "execution_count": 23,
   "metadata": {
    "_cell_guid": "626fea17-b1a5-8e05-4983-2f2ed7a6aa90",
    "_execution_state": "idle",
    "_uuid": "c28c706856e75867d658ed3e535d06ab3196803a"
   },
   "outputs": [
    {
     "data": {
      "image/png": "[encoded data removed]",
      "text/plain": [
       "<matplotlib.figure.Figure at 0x7f28e7753320>"
      ]
     },
     "metadata": {},
     "output_type": "display_data"
    }
   ],
   "source": [
    "runs_per_over = delivery.pivot_table(index=['over'],columns='batting_team',values='total_runs',aggfunc=sum)\n",
    "runs_per_over[(matches_played_byteams[matches_played_byteams['Total Matches']>50].index)].plot(color=[\"b\", \"r\", \"#Ffb6b2\", \"g\",'brown','y','#6666ff','black','#FFA500']) #plotting graphs for teams that have played more than 100 matches\n",
    "x=[1,2,3,4,5,6,7,8,9,10,11,12,13,14,15,16,17,18,19,20]\n",
    "mlt.xticks(x)\n",
    "mlt.ylabel('total runs scored')\n",
    "fig=mlt.gcf()\n",
    "fig.set_size_inches(16,8)\n",
    "mlt.show()"
   ]
  },
  {
   "cell_type": "markdown",
   "metadata": {
    "_cell_guid": "851449bd-d502-4b00-3b76-8af2e5b2aa39",
    "_uuid": "210b5911f441d90843f83e9341206f78a5210b98"
   },
   "source": [
    "Maximum runs are being scored in the last 5 overs of the match. MI and RCB have shown a incresing trend in the runs scored throughout the match. "
   ]
  },
  {
   "cell_type": "markdown",
   "metadata": {
    "_cell_guid": "1c07c824-e4a6-3a19-633a-ceca19de9e1d",
    "_uuid": "4ba2fc666c225705e2e0521f9629dd5347767846"
   },
   "source": [
    "### Favorite Grounds"
   ]
  },
  {
   "cell_type": "code",
   "execution_count": 85,
   "metadata": {
    "_cell_guid": "9052cdb5-5f79-2b57-a8a6-0739b73c79b3",
    "_execution_state": "idle",
    "_uuid": "b19d85cddfac025f1423f0ad752208d83e4c1737"
   },
   "outputs": [
    {
     "data": {
      "image/png": "[encoded data removed]",
      "text/plain": [
       "<matplotlib.figure.Figure at 0x7f28e76ee400>"
      ]
     },
     "metadata": {},
     "output_type": "display_data"
    }
   ],
   "source": [
    "mlt.subplots(figsize=(10,15))\n",
    "ax = matches['venue'].value_counts().sort_values(ascending=True).plot.barh(width=.8)\n",
    "ax.set_xlabel('Grounds')\n",
    "ax.set_ylabel('Count')\n",
    "mlt.title(\"Matches Played at Grounds\")\n",
    "mlt.show()"
   ]
  },
  {
   "cell_type": "markdown",
   "metadata": {
    "_cell_guid": "17d6335a-e89d-ec0f-3c18-042d3f52bed9",
    "_uuid": "3105069b7f09de3e490892f3a65e273d1dbb2825"
   },
   "source": [
    "## Maximum Man Of Matches"
   ]
  },
  {
   "cell_type": "code",
   "execution_count": 90,
   "metadata": {
    "_cell_guid": "668aaa98-8bb5-d306-bd58-a114766cfe94",
    "_execution_state": "idle",
    "_uuid": "03c58c573aa63d550e13f6e7978684c8908b7282"
   },
   "outputs": [
    {
     "data": {
      "image/png": "[encoded data removed]",
      "text/plain": [
       "<matplotlib.figure.Figure at 0x7f28e76ecc50>"
      ]
     },
     "metadata": {},
     "output_type": "display_data"
    }
   ],
   "source": [
    "mlt.subplots(figsize=(10,6))\n",
    "#the code used is very basic but gets the job done easily\n",
    "ax = matches['player_of_match'].value_counts().head(10).plot.bar(width=.8, color='#87CEFA')  #counts the values corresponding \n",
    "# to each batsman and then filters out the top 10 batsman and then plots a bargraph \n",
    "#ax.set_xlabel('player_of_match') \n",
    "#ax.set_ylabel('count')\n",
    "mlt.title(\"Most Awards for Player of the Match\")\n",
    "for p in ax.patches:\n",
    "    ax.annotate(format(p.get_height()), (p.get_x(), p.get_height()-1),color='white',fontsize=14, fontweight='bold')\n",
    "mlt.show()"
   ]
  },
  {
   "cell_type": "markdown",
   "metadata": {
    "_cell_guid": "e9dfc319-1c58-0002-cea7-6a33640f04f7",
    "_uuid": "5997b0bff2a15c11f2c8d8619c057b1fa3510738"
   },
   "source": [
    "## Winners by Year"
   ]
  },
  {
   "cell_type": "code",
   "execution_count": 26,
   "metadata": {
    "_cell_guid": "506442fe-9f65-6bfc-0ac5-f20d2c3e9af7",
    "_execution_state": "idle",
    "_uuid": "0a30caa5910597987ed069490cdb285aae8b673f"
   },
   "outputs": [
    {
     "name": "stdout",
     "output_type": "stream",
     "text": [
      "season    2008\n",
      "winner      RR\n",
      "Name: 116, dtype: object\n",
      "season    2009\n",
      "winner      DC\n",
      "Name: 173, dtype: object\n",
      "season    2010\n",
      "winner     CSK\n",
      "Name: 233, dtype: object\n",
      "season    2011\n",
      "winner     CSK\n",
      "Name: 306, dtype: object\n",
      "season    2012\n",
      "winner     KKR\n",
      "Name: 380, dtype: object\n",
      "season    2013\n",
      "winner      MI\n",
      "Name: 456, dtype: object\n",
      "season    2014\n",
      "winner     KKR\n",
      "Name: 516, dtype: object\n",
      "season    2015\n",
      "winner      MI\n",
      "Name: 575, dtype: object\n",
      "season    2016\n",
      "winner     SRH\n",
      "Name: 635, dtype: object\n"
     ]
    }
   ],
   "source": [
    "for i in range(2008,2017):\n",
    "    df=((matches[matches['season']==i]).iloc[-1]) \n",
    "    print(df[[1,10]])\n",
    "#getting the last match in every season since the last match will be the final match for the season"
   ]
  },
  {
   "cell_type": "markdown",
   "metadata": {
    "_cell_guid": "7791c6c6-52e8-1272-c95d-5f84c3b774d4",
    "_uuid": "98504d25ca5e803e3857380b381cfd91315bc8a0"
   },
   "source": [
    "### Super Over!"
   ]
  },
  {
   "cell_type": "code",
   "execution_count": 27,
   "metadata": {
    "_cell_guid": "e46410c1-cfd4-53a6-ca9b-683d4eaf5467",
    "_execution_state": "idle",
    "_uuid": "6dea593052bc4a47654d4e38136840db605c73d3"
   },
   "outputs": [
    {
     "name": "stdout",
     "output_type": "stream",
     "text": [
      "\n",
      " Total Matches with Super Overs: 7\n"
     ]
    }
   ],
   "source": [
    "print('\\n Total Matches with Super Overs:',delivery[delivery['is_super_over']==1].match_id.nunique())"
   ]
  },
  {
   "cell_type": "code",
   "execution_count": 28,
   "metadata": {
    "_cell_guid": "cff06a3b-f8d5-b5ee-f77a-31e4b1a30c2b",
    "_execution_state": "idle",
    "_uuid": "2ebaf8c3a77e2eea73bbfff0a16accd4df7b821a"
   },
   "outputs": [
    {
     "name": "stdout",
     "output_type": "stream",
     "text": [
      "Teams who haven\"t ever played a super over are: ['DC', 'RPS', 'KTK', 'PW']\n"
     ]
    }
   ],
   "source": [
    "teams=['MI','KKR','RCB','DC','CSK','RR','DD','GL','KXIP','SRH','RPS','KTK','PW']\n",
    "play=delivery[delivery['is_super_over']==1].batting_team.unique()\n",
    "play=list(play)\n",
    "print('Teams who haven\"t ever played a super over are:' ,list(set(teams)-set(play)))"
   ]
  },
  {
   "cell_type": "markdown",
   "metadata": {
    "_cell_guid": "621e8e75-deba-50d4-05f1-f41f076e40ce",
    "_uuid": "e97ecc918b789242d9671317e54dfa6edfe2c3c7"
   },
   "source": [
    "### Favorite Umpires"
   ]
  },
  {
   "cell_type": "code",
   "execution_count": 29,
   "metadata": {
    "_cell_guid": "fed77ff6-e116-baee-3ebd-d1c6abfb2e69",
    "_execution_state": "idle",
    "_uuid": "551a3cce101d1ef1d0b4f366e93bb76c865ab9a1"
   },
   "outputs": [
    {
     "data": {
      "image/png": "[encoded data removed]",
      "text/plain": [
       "<matplotlib.figure.Figure at 0x7f28e5468908>"
      ]
     },
     "metadata": {},
     "output_type": "display_data"
    }
   ],
   "source": [
    "mlt.subplots(figsize=(10,6))\n",
    "ump=pd.concat([matches['umpire1'],matches['umpire2']]) \n",
    "ax=ump.value_counts().head(10).plot.bar(width=0.8,color='Y')\n",
    "for p in ax.patches:\n",
    "    ax.annotate(format(p.get_height()), (p.get_x()+0.15, p.get_height()+0.25))\n",
    "mlt.show()"
   ]
  },
  {
   "cell_type": "markdown",
   "metadata": {
    "_cell_guid": "67557c22-b78b-8600-acc1-8afc1ebac9a9",
    "_uuid": "45908bc26439b9a40ba245b4865c318a1ac97f1e"
   },
   "source": [
    "## Team1 vs Team2\n",
    "\n",
    "Here we will check the matches played between 2 teams and which had won more matches each year"
   ]
  },
  {
   "cell_type": "markdown",
   "metadata": {
    "_cell_guid": "bd25c3a4-c75c-f075-05d2-bcc6549a4556",
    "_uuid": "8164ae6ab5a1a8a6ffba2d26fafd65836c11f418"
   },
   "source": [
    "### MI vs KKR"
   ]
  },
  {
   "cell_type": "code",
   "execution_count": 30,
   "metadata": {
    "_cell_guid": "8120da9f-59f1-faf6-049d-a38d89a9c23d",
    "_execution_state": "idle",
    "_uuid": "f9f6249e9d8d8af4142c7f21767070540ca531a5"
   },
   "outputs": [
    {
     "data": {
      "image/png": "[encoded data removed]",
      "text/plain": [
       "<matplotlib.figure.Figure at 0x7f28e544ada0>"
      ]
     },
     "metadata": {},
     "output_type": "display_data"
    }
   ],
   "source": [
    "def team1_vs_team2(team1,team2):\n",
    "    mt1=matches[((matches['team1']==team1)|(matches['team2']==team1))&((matches['team1']==team2)|(matches['team2']==team2))]\n",
    "    sns.countplot(x='season', hue='winner',data=mt1,palette='Set3')\n",
    "    mlt.xticks(rotation='vertical')\n",
    "    leg = mlt.legend( loc = 'upper center')\n",
    "    fig=mlt.gcf()\n",
    "    fig.set_size_inches(10,6)\n",
    "    mlt.show()\n",
    "team1_vs_team2('KKR','MI')\n"
   ]
  },
  {
   "cell_type": "markdown",
   "metadata": {
    "_cell_guid": "52799bbc-be9a-a40a-5946-7b3aa99fa539",
    "_uuid": "070c0a1daeac1f0345f0f429352fd80889c9b009"
   },
   "source": [
    "MI have defeated KKR in 13 out of 18 matches played between them.Only in the year 2014, KKR won both the matches.Thus in a MI vs KKR match, we know on whom should we bet upon. Similar comparisions can be done between any two teams, we just need to change the team names. \n",
    "\n",
    "One thing to notice is that MI and KKR have never played against each other in any qualifiers or finals as both of them have played only 2 matches every year, those being the group stage matches."
   ]
  },
  {
   "cell_type": "markdown",
   "metadata": {
    "_cell_guid": "994bd010-8229-bd73-3188-52a9b20dc5db",
    "_uuid": "551419e2599a0efa8ef664d875c6c54ef5c59f08"
   },
   "source": [
    "### MI vs CSK"
   ]
  },
  {
   "cell_type": "code",
   "execution_count": 31,
   "metadata": {
    "_cell_guid": "229f1d20-22cb-4e78-96b6-b3fb2de387e9",
    "_execution_state": "idle",
    "_uuid": "ee494b7b4cef84e89fa3aff88059559ede92159f"
   },
   "outputs": [
    {
     "data": {
      "image/png": "[encoded data removed]",
      "text/plain": [
       "<matplotlib.figure.Figure at 0x7f28e54dfdd8>"
      ]
     },
     "metadata": {},
     "output_type": "display_data"
    }
   ],
   "source": [
    "team1_vs_team2('CSK','MI')"
   ]
  },
  {
   "cell_type": "markdown",
   "metadata": {
    "_cell_guid": "ef98c7eb-787f-26bd-90df-81a1a00f8ec5",
    "_uuid": "7808c1443f0f8ad2f4d33eae87029988c6ab8c88"
   },
   "source": [
    "Here se can see that MI and CSK have played against each other in more than 2 matches in some seasons i.e they have played qualifiers too."
   ]
  },
  {
   "cell_type": "markdown",
   "metadata": {
    "_cell_guid": "457b0ce1-d065-40ef-9b5e-a3c5066aa4db",
    "_execution_state": "idle",
    "_uuid": "9d029d9a931a0227724c2d6bd32a4caf1264b1fb"
   },
   "source": [
    "### Matches Won By A Team Against Other Teams"
   ]
  },
  {
   "cell_type": "markdown",
   "metadata": {
    "_cell_guid": "4ba82e06-793e-41a1-a9df-5f9b2731c3ce",
    "_execution_state": "idle",
    "_uuid": "f0b2c5597a7f9ad9d18389c26188f2b9a1b6fe86"
   },
   "source": [
    "Now we will be checking the number of times a Team has won against other teams. This will give us an idea as which team has an upper hand over the others when they play head-to-head."
   ]
  },
  {
   "cell_type": "code",
   "execution_count": 32,
   "metadata": {
    "_cell_guid": "07f8a7d2-d040-436f-8682-a3fc8bfd144c",
    "_execution_state": "idle",
    "_uuid": "4b2f7efc66465c793d13d48acaac42a8f0a88197"
   },
   "outputs": [
    {
     "name": "stdout",
     "output_type": "stream",
     "text": [
      "        MI  KKR\n",
      "winner  16    5\n",
      "        MI  RCB\n",
      "winner  13    8\n",
      "        MI  DC\n",
      "winner   6   4\n",
      "        MI  CSK\n",
      "winner  12   10\n",
      "        MI  RR\n",
      "winner  10   6\n",
      "        MI  DD\n",
      "winner  11   9\n",
      "        MI  GL\n",
      "winner   2   2\n",
      "        MI  KXIP\n",
      "winner  10    10\n",
      "        MI  SRH\n",
      "winner   5    5\n",
      "        RPS  MI\n",
      "winner    4   2\n",
      "        KTK\n",
      "winner    1\n",
      "        MI  PW\n",
      "winner   5   1\n"
     ]
    }
   ],
   "source": [
    "def comparator(team1):\n",
    "    teams=['MI','KKR','RCB','DC','CSK','RR','DD','GL','KXIP','SRH','RPS','KTK','PW']\n",
    "    teams.remove(team1)\n",
    "    opponents=teams.copy()\n",
    "    mt1=matches[((matches['team1']==team1)|(matches['team2']==team1))]\n",
    "    for i in opponents:\n",
    "        mask = (((mt1['team1']==i)|(mt1['team2']==i)))&((mt1['team1']==team1)|(mt1['team2']==team1))\n",
    "        mt2 = mt1.loc[mask, 'winner'].value_counts().to_frame().T\n",
    "        print(mt2)\n",
    "    \n",
    "comparator('MI')"
   ]
  },
  {
   "cell_type": "markdown",
   "metadata": {
    "_cell_guid": "982f37cd-2565-701d-bb7a-9513805d134e",
    "_uuid": "d2bb88b3d21906e7aa5d954c10ad34296b3ebef7"
   },
   "source": [
    "### Score Distribution For Teams by Innings"
   ]
  },
  {
   "cell_type": "code",
   "execution_count": 33,
   "metadata": {
    "_cell_guid": "8eb586fa-1f0d-56a9-9bb4-bdf57a47ba9c",
    "_execution_state": "idle",
    "_uuid": "a55ceb37ac78074004c783c1839bbec5670fdd04"
   },
   "outputs": [
    {
     "data": {
      "image/png": "[encoded data removed]",
      "text/plain": [
       "<matplotlib.figure.Figure at 0x7f28dc04e320>"
      ]
     },
     "metadata": {},
     "output_type": "display_data"
    },
    {
     "data": {
      "image/png": "[encoded data removed]",
      "text/plain": [
       "<matplotlib.figure.Figure at 0x7f28e56480b8>"
      ]
     },
     "metadata": {},
     "output_type": "display_data"
    }
   ],
   "source": [
    "mlt.subplots(figsize=(12,6))\n",
    "xyz=delivery.groupby(['match_id','inning','batting_team'])['total_runs'].sum().reset_index()\n",
    "xyz.drop('match_id',axis=1,inplace=True)\n",
    "xyz=xyz.sort_values(by=['batting_team','total_runs'],ascending=True)\n",
    "score_1_inning=xyz[xyz['inning']==1]\n",
    "score_2_inning=xyz[xyz['inning']==2]\n",
    "sns.boxplot(x='batting_team',y='total_runs',data=score_1_inning).set_title('1st Innings')\n",
    "mlt.show()\n",
    "sns.boxplot(x='batting_team',y='total_runs',data=score_2_inning).set_title('2nd Innings')\n",
    "fig=mlt.gcf()\n",
    "fig.set_size_inches(12,6)"
   ]
  },
  {
   "cell_type": "markdown",
   "metadata": {
    "_cell_guid": "250c8307-ab26-5efa-7ac1-9438d15313bb",
    "_uuid": "337edcf45c395033886ca15d31fb56debfed91d5"
   },
   "source": [
    "According to Graph 1 the batting by CSK in innings 1 looks to be the best.  Graph 2 also conveys the same story.\n",
    "\n",
    "In Graph 2 we see a point near 0 which may seem to be outlier. But it is so because the match was disrupted. "
   ]
  },
  {
   "cell_type": "markdown",
   "metadata": {
    "_cell_guid": "ff111018-dae3-56ca-2762-f874099c9950",
    "_uuid": "4b8f81fe7e22599be72e7e610436eb5c88c9ad3e"
   },
   "source": [
    "## 200+ Scores"
   ]
  },
  {
   "cell_type": "code",
   "execution_count": 34,
   "metadata": {
    "_cell_guid": "4eaed9c6-e92d-e977-9c7b-087ad92bb9d9",
    "_execution_state": "idle",
    "_uuid": "bbc9d3a6a3d89f4882d55c5d0fe312d85285aab7"
   },
   "outputs": [
    {
     "data": {
      "text/html": [
       "<div>\n",
       "<style scoped>\n",
       "    .dataframe tbody tr th:only-of-type {\n",
       "        vertical-align: middle;\n",
       "    }\n",
       "\n",
       "    .dataframe tbody tr th {\n",
       "        vertical-align: top;\n",
       "    }\n",
       "\n",
       "    .dataframe thead th {\n",
       "        text-align: right;\n",
       "    }\n",
       "</style>\n",
       "<table border=\"1\" class=\"dataframe\">\n",
       "  <thead>\n",
       "    <tr style=\"text-align: right;\">\n",
       "      <th></th>\n",
       "      <th>match_id</th>\n",
       "      <th>inning</th>\n",
       "      <th>batting_team</th>\n",
       "      <th>bowling_team</th>\n",
       "      <th>total_runs</th>\n",
       "    </tr>\n",
       "  </thead>\n",
       "  <tbody>\n",
       "    <tr>\n",
       "      <th>829</th>\n",
       "      <td>411</td>\n",
       "      <td>1</td>\n",
       "      <td>RCB</td>\n",
       "      <td>PW</td>\n",
       "      <td>263</td>\n",
       "    </tr>\n",
       "    <tr>\n",
       "      <th>1250</th>\n",
       "      <td>620</td>\n",
       "      <td>1</td>\n",
       "      <td>RCB</td>\n",
       "      <td>GL</td>\n",
       "      <td>248</td>\n",
       "    </tr>\n",
       "    <tr>\n",
       "      <th>416</th>\n",
       "      <td>206</td>\n",
       "      <td>1</td>\n",
       "      <td>CSK</td>\n",
       "      <td>RR</td>\n",
       "      <td>246</td>\n",
       "    </tr>\n",
       "    <tr>\n",
       "      <th>122</th>\n",
       "      <td>61</td>\n",
       "      <td>1</td>\n",
       "      <td>CSK</td>\n",
       "      <td>KXIP</td>\n",
       "      <td>240</td>\n",
       "    </tr>\n",
       "    <tr>\n",
       "      <th>1134</th>\n",
       "      <td>562</td>\n",
       "      <td>1</td>\n",
       "      <td>RCB</td>\n",
       "      <td>MI</td>\n",
       "      <td>235</td>\n",
       "    </tr>\n",
       "    <tr>\n",
       "      <th>596</th>\n",
       "      <td>296</td>\n",
       "      <td>1</td>\n",
       "      <td>KXIP</td>\n",
       "      <td>RCB</td>\n",
       "      <td>232</td>\n",
       "    </tr>\n",
       "    <tr>\n",
       "      <th>522</th>\n",
       "      <td>259</td>\n",
       "      <td>1</td>\n",
       "      <td>DD</td>\n",
       "      <td>KXIP</td>\n",
       "      <td>231</td>\n",
       "    </tr>\n",
       "    <tr>\n",
       "      <th>981</th>\n",
       "      <td>486</td>\n",
       "      <td>1</td>\n",
       "      <td>KXIP</td>\n",
       "      <td>CSK</td>\n",
       "      <td>231</td>\n",
       "    </tr>\n",
       "    <tr>\n",
       "      <th>100</th>\n",
       "      <td>50</td>\n",
       "      <td>1</td>\n",
       "      <td>KXIP</td>\n",
       "      <td>MI</td>\n",
       "      <td>230</td>\n",
       "    </tr>\n",
       "    <tr>\n",
       "      <th>1170</th>\n",
       "      <td>580</td>\n",
       "      <td>1</td>\n",
       "      <td>RCB</td>\n",
       "      <td>SRH</td>\n",
       "      <td>227</td>\n",
       "    </tr>\n",
       "  </tbody>\n",
       "</table>\n",
       "</div>"
      ],
      "text/plain": [
       "      match_id  inning batting_team bowling_team  total_runs\n",
       "829        411       1          RCB           PW         263\n",
       "1250       620       1          RCB           GL         248\n",
       "416        206       1          CSK           RR         246\n",
       "122         61       1          CSK         KXIP         240\n",
       "1134       562       1          RCB           MI         235\n",
       "596        296       1         KXIP          RCB         232\n",
       "522        259       1           DD         KXIP         231\n",
       "981        486       1         KXIP          CSK         231\n",
       "100         50       1         KXIP           MI         230\n",
       "1170       580       1          RCB          SRH         227"
      ]
     },
     "execution_count": 34,
     "metadata": {},
     "output_type": "execute_result"
    }
   ],
   "source": [
    "high_scores=delivery.groupby(['match_id', 'inning','batting_team','bowling_team'])['total_runs'].sum().reset_index() \n",
    "#reset_index() converts the obtained series into a dataframe\n",
    "high_scores=high_scores[high_scores['total_runs']>=200]\n",
    "#nlargest is used to sort the given column\n",
    "high_scores.nlargest(10,'total_runs')"
   ]
  },
  {
   "cell_type": "code",
   "execution_count": 35,
   "metadata": {
    "_cell_guid": "0b3dbbd5-c81f-d7e1-9b2e-9a3188a9c642",
    "_execution_state": "idle",
    "_uuid": "50a87ce9de058377f77dfc4434c4a077d44b5111"
   },
   "outputs": [
    {
     "data": {
      "image/png": "[encoded data removed]",
      "text/plain": [
       "<matplotlib.figure.Figure at 0x7f28dc04e438>"
      ]
     },
     "metadata": {},
     "output_type": "display_data"
    }
   ],
   "source": [
    "fig, ax =mlt.subplots(1,2)\n",
    "sns.countplot(high_scores['batting_team'],ax=ax[0])\n",
    "sns.countplot(high_scores['bowling_team'],ax=ax[1])\n",
    "mlt.xticks(rotation=90)\n",
    "fig=mlt.gcf()\n",
    "fig.set_size_inches(18,6)\n",
    "mlt.show()"
   ]
  },
  {
   "cell_type": "markdown",
   "metadata": {
    "_cell_guid": "0c30d1fe-2dae-d3a8-0a81-72b06f6fa4d9",
    "_uuid": "a09941f4556414941e97bcf3cc94c36589ca106f"
   },
   "source": [
    "The graph on the left shows the number of times a team has scored above 200 runs. The graph on the right shows the number of times a bowling team has conceeded above 200 runs. "
   ]
  },
  {
   "cell_type": "code",
   "execution_count": 36,
   "metadata": {
    "_cell_guid": "91413329-2b92-7a81-835f-be2db69fdeac",
    "_execution_state": "idle",
    "_uuid": "124c814fa4f5b1fe3c6d7b3e971030af24b1b2ae"
   },
   "outputs": [
    {
     "name": "stdout",
     "output_type": "stream",
     "text": [
      "Teams who have\"nt ever scored 200 runs ['RPS', 'KTK', 'PW']\n",
      "Teams who haven\"t conceeded over 200 while bowling ['KTK']\n"
     ]
    }
   ],
   "source": [
    "print('Teams who have\"nt ever scored 200 runs',list(set(teams)-set(high_scores['batting_team'])))\n",
    "print('Teams who haven\"t conceeded over 200 while bowling',list(set(teams)-set(high_scores['bowling_team'])))"
   ]
  },
  {
   "cell_type": "code",
   "execution_count": 37,
   "metadata": {
    "_cell_guid": "baf2cbd7-3ce6-10ad-a10f-e5c2c44575f4",
    "_execution_state": "idle",
    "_uuid": "ec576c17e3b2839274da79a9c3502601eb496ccf"
   },
   "outputs": [
    {
     "data": {
      "text/html": [
       "<div>\n",
       "<style scoped>\n",
       "    .dataframe tbody tr th:only-of-type {\n",
       "        vertical-align: middle;\n",
       "    }\n",
       "\n",
       "    .dataframe tbody tr th {\n",
       "        vertical-align: top;\n",
       "    }\n",
       "\n",
       "    .dataframe thead th {\n",
       "        text-align: right;\n",
       "    }\n",
       "</style>\n",
       "<table border=\"1\" class=\"dataframe\">\n",
       "  <thead>\n",
       "    <tr style=\"text-align: right;\">\n",
       "      <th></th>\n",
       "      <th></th>\n",
       "      <th></th>\n",
       "      <th>count</th>\n",
       "    </tr>\n",
       "    <tr>\n",
       "      <th>inning</th>\n",
       "      <th>batting_team</th>\n",
       "      <th>bowling_team</th>\n",
       "      <th></th>\n",
       "    </tr>\n",
       "  </thead>\n",
       "  <tbody>\n",
       "    <tr>\n",
       "      <th rowspan=\"38\" valign=\"top\">1</th>\n",
       "      <th rowspan=\"7\" valign=\"top\">CSK</th>\n",
       "      <th>DD</th>\n",
       "      <td>1</td>\n",
       "    </tr>\n",
       "    <tr>\n",
       "      <th>KKR</th>\n",
       "      <td>1</td>\n",
       "    </tr>\n",
       "    <tr>\n",
       "      <th>KXIP</th>\n",
       "      <td>2</td>\n",
       "    </tr>\n",
       "    <tr>\n",
       "      <th>MI</th>\n",
       "      <td>1</td>\n",
       "    </tr>\n",
       "    <tr>\n",
       "      <th>RCB</th>\n",
       "      <td>1</td>\n",
       "    </tr>\n",
       "    <tr>\n",
       "      <th>RR</th>\n",
       "      <td>1</td>\n",
       "    </tr>\n",
       "    <tr>\n",
       "      <th>SRH</th>\n",
       "      <td>2</td>\n",
       "    </tr>\n",
       "    <tr>\n",
       "      <th>DC</th>\n",
       "      <th>RR</th>\n",
       "      <td>1</td>\n",
       "    </tr>\n",
       "    <tr>\n",
       "      <th rowspan=\"3\" valign=\"top\">DD</th>\n",
       "      <th>KXIP</th>\n",
       "      <td>1</td>\n",
       "    </tr>\n",
       "    <tr>\n",
       "      <th>MI</th>\n",
       "      <td>1</td>\n",
       "    </tr>\n",
       "    <tr>\n",
       "      <th>RPS</th>\n",
       "      <td>1</td>\n",
       "    </tr>\n",
       "    <tr>\n",
       "      <th>GL</th>\n",
       "      <th>DD</th>\n",
       "      <td>1</td>\n",
       "    </tr>\n",
       "    <tr>\n",
       "      <th rowspan=\"3\" valign=\"top\">KKR</th>\n",
       "      <th>DC</th>\n",
       "      <td>1</td>\n",
       "    </tr>\n",
       "    <tr>\n",
       "      <th>KXIP</th>\n",
       "      <td>1</td>\n",
       "    </tr>\n",
       "    <tr>\n",
       "      <th>RCB</th>\n",
       "      <td>1</td>\n",
       "    </tr>\n",
       "    <tr>\n",
       "      <th rowspan=\"4\" valign=\"top\">KXIP</th>\n",
       "      <th>CSK</th>\n",
       "      <td>2</td>\n",
       "    </tr>\n",
       "    <tr>\n",
       "      <th>MI</th>\n",
       "      <td>1</td>\n",
       "    </tr>\n",
       "    <tr>\n",
       "      <th>RCB</th>\n",
       "      <td>2</td>\n",
       "    </tr>\n",
       "    <tr>\n",
       "      <th>RR</th>\n",
       "      <td>1</td>\n",
       "    </tr>\n",
       "    <tr>\n",
       "      <th rowspan=\"4\" valign=\"top\">MI</th>\n",
       "      <th>CSK</th>\n",
       "      <td>1</td>\n",
       "    </tr>\n",
       "    <tr>\n",
       "      <th>DD</th>\n",
       "      <td>4</td>\n",
       "    </tr>\n",
       "    <tr>\n",
       "      <th>RCB</th>\n",
       "      <td>1</td>\n",
       "    </tr>\n",
       "    <tr>\n",
       "      <th>RR</th>\n",
       "      <td>1</td>\n",
       "    </tr>\n",
       "    <tr>\n",
       "      <th rowspan=\"8\" valign=\"top\">RCB</th>\n",
       "      <th>CSK</th>\n",
       "      <td>1</td>\n",
       "    </tr>\n",
       "    <tr>\n",
       "      <th>DD</th>\n",
       "      <td>1</td>\n",
       "    </tr>\n",
       "    <tr>\n",
       "      <th>GL</th>\n",
       "      <td>2</td>\n",
       "    </tr>\n",
       "    <tr>\n",
       "      <th>KXIP</th>\n",
       "      <td>3</td>\n",
       "    </tr>\n",
       "    <tr>\n",
       "      <th>MI</th>\n",
       "      <td>1</td>\n",
       "    </tr>\n",
       "    <tr>\n",
       "      <th>PW</th>\n",
       "      <td>1</td>\n",
       "    </tr>\n",
       "    <tr>\n",
       "      <th>RR</th>\n",
       "      <td>1</td>\n",
       "    </tr>\n",
       "    <tr>\n",
       "      <th>SRH</th>\n",
       "      <td>1</td>\n",
       "    </tr>\n",
       "    <tr>\n",
       "      <th rowspan=\"3\" valign=\"top\">RR</th>\n",
       "      <th>CSK</th>\n",
       "      <td>1</td>\n",
       "    </tr>\n",
       "    <tr>\n",
       "      <th>DD</th>\n",
       "      <td>1</td>\n",
       "    </tr>\n",
       "    <tr>\n",
       "      <th>KXIP</th>\n",
       "      <td>1</td>\n",
       "    </tr>\n",
       "    <tr>\n",
       "      <th rowspan=\"4\" valign=\"top\">SRH</th>\n",
       "      <th>KKR</th>\n",
       "      <td>1</td>\n",
       "    </tr>\n",
       "    <tr>\n",
       "      <th>KXIP</th>\n",
       "      <td>2</td>\n",
       "    </tr>\n",
       "    <tr>\n",
       "      <th>RCB</th>\n",
       "      <td>2</td>\n",
       "    </tr>\n",
       "    <tr>\n",
       "      <th>RR</th>\n",
       "      <td>1</td>\n",
       "    </tr>\n",
       "    <tr>\n",
       "      <th rowspan=\"16\" valign=\"top\">2</th>\n",
       "      <th rowspan=\"3\" valign=\"top\">CSK</th>\n",
       "      <th>KXIP</th>\n",
       "      <td>1</td>\n",
       "    </tr>\n",
       "    <tr>\n",
       "      <th>RCB</th>\n",
       "      <td>1</td>\n",
       "    </tr>\n",
       "    <tr>\n",
       "      <th>RR</th>\n",
       "      <td>1</td>\n",
       "    </tr>\n",
       "    <tr>\n",
       "      <th>DD</th>\n",
       "      <th>GL</th>\n",
       "      <td>1</td>\n",
       "    </tr>\n",
       "    <tr>\n",
       "      <th>KKR</th>\n",
       "      <th>KXIP</th>\n",
       "      <td>1</td>\n",
       "    </tr>\n",
       "    <tr>\n",
       "      <th rowspan=\"4\" valign=\"top\">KXIP</th>\n",
       "      <th>CSK</th>\n",
       "      <td>2</td>\n",
       "    </tr>\n",
       "    <tr>\n",
       "      <th>DD</th>\n",
       "      <td>1</td>\n",
       "    </tr>\n",
       "    <tr>\n",
       "      <th>KKR</th>\n",
       "      <td>1</td>\n",
       "    </tr>\n",
       "    <tr>\n",
       "      <th>SRH</th>\n",
       "      <td>1</td>\n",
       "    </tr>\n",
       "    <tr>\n",
       "      <th rowspan=\"2\" valign=\"top\">MI</th>\n",
       "      <th>CSK</th>\n",
       "      <td>1</td>\n",
       "    </tr>\n",
       "    <tr>\n",
       "      <th>KXIP</th>\n",
       "      <td>1</td>\n",
       "    </tr>\n",
       "    <tr>\n",
       "      <th rowspan=\"2\" valign=\"top\">RCB</th>\n",
       "      <th>KXIP</th>\n",
       "      <td>1</td>\n",
       "    </tr>\n",
       "    <tr>\n",
       "      <th>SRH</th>\n",
       "      <td>1</td>\n",
       "    </tr>\n",
       "    <tr>\n",
       "      <th rowspan=\"3\" valign=\"top\">RR</th>\n",
       "      <th>CSK</th>\n",
       "      <td>1</td>\n",
       "    </tr>\n",
       "    <tr>\n",
       "      <th>DC</th>\n",
       "      <td>1</td>\n",
       "    </tr>\n",
       "    <tr>\n",
       "      <th>MI</th>\n",
       "      <td>1</td>\n",
       "    </tr>\n",
       "  </tbody>\n",
       "</table>\n",
       "</div>"
      ],
      "text/plain": [
       "                                  count\n",
       "inning batting_team bowling_team       \n",
       "1      CSK          DD                1\n",
       "                    KKR               1\n",
       "                    KXIP              2\n",
       "                    MI                1\n",
       "                    RCB               1\n",
       "                    RR                1\n",
       "                    SRH               2\n",
       "       DC           RR                1\n",
       "       DD           KXIP              1\n",
       "                    MI                1\n",
       "                    RPS               1\n",
       "       GL           DD                1\n",
       "       KKR          DC                1\n",
       "                    KXIP              1\n",
       "                    RCB               1\n",
       "       KXIP         CSK               2\n",
       "                    MI                1\n",
       "                    RCB               2\n",
       "                    RR                1\n",
       "       MI           CSK               1\n",
       "                    DD                4\n",
       "                    RCB               1\n",
       "                    RR                1\n",
       "       RCB          CSK               1\n",
       "                    DD                1\n",
       "                    GL                2\n",
       "                    KXIP              3\n",
       "                    MI                1\n",
       "                    PW                1\n",
       "                    RR                1\n",
       "                    SRH               1\n",
       "       RR           CSK               1\n",
       "                    DD                1\n",
       "                    KXIP              1\n",
       "       SRH          KKR               1\n",
       "                    KXIP              2\n",
       "                    RCB               2\n",
       "                    RR                1\n",
       "2      CSK          KXIP              1\n",
       "                    RCB               1\n",
       "                    RR                1\n",
       "       DD           GL                1\n",
       "       KKR          KXIP              1\n",
       "       KXIP         CSK               2\n",
       "                    DD                1\n",
       "                    KKR               1\n",
       "                    SRH               1\n",
       "       MI           CSK               1\n",
       "                    KXIP              1\n",
       "       RCB          KXIP              1\n",
       "                    SRH               1\n",
       "       RR           CSK               1\n",
       "                    DC                1\n",
       "                    MI                1"
      ]
     },
     "execution_count": 37,
     "metadata": {},
     "output_type": "execute_result"
    }
   ],
   "source": [
    "high=delivery.groupby(['match_id', 'inning','batting_team','bowling_team'])['total_runs'].sum().reset_index()\n",
    "high.set_index(['match_id'],inplace=True)\n",
    "high['total_runs'].max()\n",
    "high.columns\n",
    "high=high.rename(columns={'total_runs':'count'})\n",
    "high=high[high['count']>=200].groupby(['inning','batting_team','bowling_team']).count()\n",
    "high"
   ]
  },
  {
   "cell_type": "markdown",
   "metadata": {
    "_cell_guid": "762d001c-1cd3-f22a-f0e5-ad242fc7f435",
    "_uuid": "8635fdb1869359b2fa30dd446851f04ad649125f"
   },
   "source": [
    "The above dataframe shows the number of times a team has scored above 200 runs against another team. Clearly MI has scored 200+ againt DD 3 times and similarly RCB has scored 200+ againt KXIP 3 times. Also the number of 200+ runs are higher in the 1st innings."
   ]
  },
  {
   "cell_type": "code",
   "execution_count": 38,
   "metadata": {
    "_cell_guid": "390603a6-ccca-1417-9cad-0999a9bbea8f",
    "_execution_state": "idle",
    "_uuid": "442f8f099520bd056fd7c61181cb128a09e34a3b"
   },
   "outputs": [
    {
     "data": {
      "text/html": [
       "<div>\n",
       "<style scoped>\n",
       "    .dataframe tbody tr th:only-of-type {\n",
       "        vertical-align: middle;\n",
       "    }\n",
       "\n",
       "    .dataframe tbody tr th {\n",
       "        vertical-align: top;\n",
       "    }\n",
       "\n",
       "    .dataframe thead th {\n",
       "        text-align: right;\n",
       "    }\n",
       "</style>\n",
       "<table border=\"1\" class=\"dataframe\">\n",
       "  <thead>\n",
       "    <tr style=\"text-align: right;\">\n",
       "      <th></th>\n",
       "      <th>match_id</th>\n",
       "      <th>inning_1</th>\n",
       "      <th>batting_team</th>\n",
       "      <th>bowling_team</th>\n",
       "      <th>inning1_runs</th>\n",
       "      <th>inning_2</th>\n",
       "      <th>inning2_runs</th>\n",
       "      <th>is_score_chased</th>\n",
       "    </tr>\n",
       "  </thead>\n",
       "  <tbody>\n",
       "    <tr>\n",
       "      <th>0</th>\n",
       "      <td>1</td>\n",
       "      <td>1</td>\n",
       "      <td>SRH</td>\n",
       "      <td>RCB</td>\n",
       "      <td>207</td>\n",
       "      <td>2</td>\n",
       "      <td>172</td>\n",
       "      <td>no</td>\n",
       "    </tr>\n",
       "    <tr>\n",
       "      <th>8</th>\n",
       "      <td>9</td>\n",
       "      <td>1</td>\n",
       "      <td>DD</td>\n",
       "      <td>RPS</td>\n",
       "      <td>205</td>\n",
       "      <td>2</td>\n",
       "      <td>108</td>\n",
       "      <td>no</td>\n",
       "    </tr>\n",
       "    <tr>\n",
       "      <th>19</th>\n",
       "      <td>20</td>\n",
       "      <td>1</td>\n",
       "      <td>RCB</td>\n",
       "      <td>GL</td>\n",
       "      <td>213</td>\n",
       "      <td>2</td>\n",
       "      <td>192</td>\n",
       "      <td>no</td>\n",
       "    </tr>\n",
       "    <tr>\n",
       "      <th>31</th>\n",
       "      <td>32</td>\n",
       "      <td>1</td>\n",
       "      <td>SRH</td>\n",
       "      <td>KXIP</td>\n",
       "      <td>207</td>\n",
       "      <td>2</td>\n",
       "      <td>181</td>\n",
       "      <td>no</td>\n",
       "    </tr>\n",
       "    <tr>\n",
       "      <th>35</th>\n",
       "      <td>36</td>\n",
       "      <td>1</td>\n",
       "      <td>SRH</td>\n",
       "      <td>KKR</td>\n",
       "      <td>209</td>\n",
       "      <td>2</td>\n",
       "      <td>161</td>\n",
       "      <td>no</td>\n",
       "    </tr>\n",
       "  </tbody>\n",
       "</table>\n",
       "</div>"
      ],
      "text/plain": [
       "    match_id  inning_1 batting_team bowling_team  inning1_runs  inning_2  \\\n",
       "0          1         1          SRH          RCB           207         2   \n",
       "8          9         1           DD          RPS           205         2   \n",
       "19        20         1          RCB           GL           213         2   \n",
       "31        32         1          SRH         KXIP           207         2   \n",
       "35        36         1          SRH          KKR           209         2   \n",
       "\n",
       "    inning2_runs is_score_chased  \n",
       "0            172              no  \n",
       "8            108              no  \n",
       "19           192              no  \n",
       "31           181              no  \n",
       "35           161              no  "
      ]
     },
     "execution_count": 38,
     "metadata": {},
     "output_type": "execute_result"
    }
   ],
   "source": [
    "high_scores=delivery.groupby(['match_id', 'inning','batting_team','bowling_team'])['total_runs'].sum().reset_index()\n",
    "high_scores1=high_scores[high_scores['inning']==1]\n",
    "high_scores2=high_scores[high_scores['inning']==2]\n",
    "high_scores1=high_scores1.merge(high_scores2[['match_id','inning', 'total_runs']], on='match_id')\n",
    "high_scores1.rename(columns={'inning_x':'inning_1','inning_y':'inning_2','total_runs_x':'inning1_runs','total_runs_y':'inning2_runs'},inplace=True)\n",
    "high_scores1=high_scores1[high_scores1['inning1_runs']>=200]\n",
    "high_scores1['is_score_chased']=1\n",
    "high_scores1['is_score_chased'] = np.where(high_scores1['inning1_runs']<=high_scores1['inning2_runs'], \n",
    "                                           'yes', 'no')\n",
    "high_scores1.head()"
   ]
  },
  {
   "cell_type": "markdown",
   "metadata": {
    "_cell_guid": "54db8fe5-2a9d-4954-5358-c17fafaae79f",
    "_uuid": "b4e47a66daef3d2090ef9621942ab5be12d67a08"
   },
   "source": [
    "### Chances of chasing 200+ target"
   ]
  },
  {
   "cell_type": "code",
   "execution_count": 39,
   "metadata": {
    "_cell_guid": "14f4ae72-3e21-7847-996f-ddb6094e3054",
    "_execution_state": "idle",
    "_uuid": "d4ba47f0f57e485a23cd22bed9cd29d1df3d4f53"
   },
   "outputs": [
    {
     "data": {
      "image/png": "[encoded data removed]",
      "text/plain": [
       "<matplotlib.figure.Figure at 0x7f28e54ae828>"
      ]
     },
     "metadata": {},
     "output_type": "display_data"
    }
   ],
   "source": [
    "slices=high_scores1['is_score_chased'].value_counts().reset_index().is_score_chased\n",
    "list(slices)\n",
    "labels=['target not chased','target chased']\n",
    "mlt.pie(slices,labels=labels,colors=['#1f2ff3', '#0fff00'],startangle=90,shadow=True,explode=(0,0.1),autopct='%1.1f%%')\n",
    "fig = mlt.gcf()\n",
    "fig.set_size_inches(6,6)\n",
    "mlt.show()"
   ]
  },
  {
   "cell_type": "markdown",
   "metadata": {
    "_cell_guid": "58e0723e-5860-a2f6-5d08-ab1c391b5b1c",
    "_uuid": "129709372dee18042c5721e9a9ad50acd3aa57db"
   },
   "source": [
    "It seems to be clear that team batting first and scoring 200+ runs, has a very high probablity of winning the match."
   ]
  },
  {
   "cell_type": "markdown",
   "metadata": {
    "_cell_guid": "4492ae4e-c623-45b3-ac15-ce00158c233d",
    "_execution_state": "idle",
    "_uuid": "14ab48073dc3fcac319d53dbb51207b7e3f3a25a"
   },
   "source": [
    "## Batsman Comparator"
   ]
  },
  {
   "cell_type": "markdown",
   "metadata": {
    "_cell_guid": "6b6a16f4-48b1-4fa4-921b-e3d1899d6252",
    "_execution_state": "idle",
    "_uuid": "8291caa79e77fb70935487608119b5386a435f61"
   },
   "source": [
    "I have created a function that compares 2 batsman based on their respective stats like runs or strike rate etc. First lets create a dataframe from where we will be taking all that values for comparison."
   ]
  },
  {
   "cell_type": "code",
   "execution_count": 41,
   "metadata": {},
   "outputs": [],
   "source": [
    "balls=delivery.groupby(['batsman'])['ball'].count().reset_index()\n",
    "runs=delivery.groupby(['batsman'])['batsman_runs'].sum().reset_index()\n",
    "balls=balls.merge(runs,left_on='batsman',right_on='batsman',how='outer')\n",
    "balls.columns=[['batsman','ball_x','ball_y']]\n",
    "sixes=delivery.groupby('batsman')['batsman_runs'].agg(lambda x: (x==4).sum()).reset_index()\n",
    "fours=delivery.groupby(['batsman'])['batsman_runs'].agg(lambda x: (x==6).sum()).reset_index()"
   ]
  },
  {
   "cell_type": "code",
   "execution_count": 72,
   "metadata": {},
   "outputs": [
    {
     "data": {
      "text/html": [
       "<div>\n",
       "<style scoped>\n",
       "    .dataframe tbody tr th:only-of-type {\n",
       "        vertical-align: middle;\n",
       "    }\n",
       "\n",
       "    .dataframe tbody tr th {\n",
       "        vertical-align: top;\n",
       "    }\n",
       "\n",
       "    .dataframe thead tr th {\n",
       "        text-align: left;\n",
       "    }\n",
       "</style>\n",
       "<table border=\"1\" class=\"dataframe\">\n",
       "  <thead>\n",
       "    <tr>\n",
       "      <th></th>\n",
       "      <th>batsman</th>\n",
       "      <th>ball_x</th>\n",
       "      <th>ball_y</th>\n",
       "    </tr>\n",
       "  </thead>\n",
       "  <tbody>\n",
       "    <tr>\n",
       "      <th>0</th>\n",
       "      <td>A Ashish Reddy</td>\n",
       "      <td>196</td>\n",
       "      <td>280</td>\n",
       "    </tr>\n",
       "    <tr>\n",
       "      <th>1</th>\n",
       "      <td>A Chandila</td>\n",
       "      <td>7</td>\n",
       "      <td>4</td>\n",
       "    </tr>\n",
       "    <tr>\n",
       "      <th>2</th>\n",
       "      <td>A Chopra</td>\n",
       "      <td>75</td>\n",
       "      <td>53</td>\n",
       "    </tr>\n",
       "    <tr>\n",
       "      <th>3</th>\n",
       "      <td>A Choudhary</td>\n",
       "      <td>20</td>\n",
       "      <td>25</td>\n",
       "    </tr>\n",
       "    <tr>\n",
       "      <th>4</th>\n",
       "      <td>A Flintoff</td>\n",
       "      <td>57</td>\n",
       "      <td>62</td>\n",
       "    </tr>\n",
       "  </tbody>\n",
       "</table>\n",
       "</div>"
      ],
      "text/plain": [
       "          batsman ball_x ball_y\n",
       "0  A Ashish Reddy    196    280\n",
       "1      A Chandila      7      4\n",
       "2        A Chopra     75     53\n",
       "3     A Choudhary     20     25\n",
       "4      A Flintoff     57     62"
      ]
     },
     "execution_count": 72,
     "metadata": {},
     "output_type": "execute_result"
    }
   ],
   "source": [
    "\n",
    "\n",
    "#balls['strike_rate']=(balls['ball_y']/balls['ball_x']*100)\n",
    "\n",
    "#balls.drop(['strike_rate'],axis=1,inplace=True)\n",
    "\n",
    "balls['strike_rate'] = 'abc'\n",
    "\n",
    "#balls['strike_rate'] = balls['ball_x']/balls['ball_y']\n",
    "\n",
    "#balls['ball_y'].head()\n",
    "balls.head()"
   ]
  },
  {
   "cell_type": "code",
   "execution_count": 42,
   "metadata": {
    "_cell_guid": "d6f40e9d-1f9a-473b-a827-5ded68db8007",
    "_execution_state": "idle",
    "_uuid": "e62ae7450d47ed043e22fbb0dee6a3ab487ddebe"
   },
   "outputs": [
    {
     "ename": "ValueError",
     "evalue": "Wrong number of items passed 2, placement implies 1",
     "output_type": "error",
     "traceback": [
      "\u001b[0;31m---------------------------------------------------------------------------\u001b[0m",
      "\u001b[0;31mKeyError\u001b[0m                                  Traceback (most recent call last)",
      "\u001b[0;32m~/anaconda3/envs/python3/lib/python3.6/site-packages/pandas/core/indexes/base.py\u001b[0m in \u001b[0;36mget_loc\u001b[0;34m(self, key, method, tolerance)\u001b[0m\n\u001b[1;32m   2524\u001b[0m             \u001b[0;32mtry\u001b[0m\u001b[0;34m:\u001b[0m\u001b[0;34m\u001b[0m\u001b[0m\n\u001b[0;32m-> 2525\u001b[0;31m                 \u001b[0;32mreturn\u001b[0m \u001b[0mself\u001b[0m\u001b[0;34m.\u001b[0m\u001b[0m_engine\u001b[0m\u001b[0;34m.\u001b[0m\u001b[0mget_loc\u001b[0m\u001b[0;34m(\u001b[0m\u001b[0mkey\u001b[0m\u001b[0;34m)\u001b[0m\u001b[0;34m\u001b[0m\u001b[0m\n\u001b[0m\u001b[1;32m   2526\u001b[0m             \u001b[0;32mexcept\u001b[0m \u001b[0mKeyError\u001b[0m\u001b[0;34m:\u001b[0m\u001b[0;34m\u001b[0m\u001b[0m\n",
      "\u001b[0;32mpandas/_libs/index.pyx\u001b[0m in \u001b[0;36mpandas._libs.index.IndexEngine.get_loc\u001b[0;34m()\u001b[0m\n",
      "\u001b[0;32mpandas/_libs/index.pyx\u001b[0m in \u001b[0;36mpandas._libs.index.IndexEngine.get_loc\u001b[0;34m()\u001b[0m\n",
      "\u001b[0;32mpandas/_libs/hashtable_class_helper.pxi\u001b[0m in \u001b[0;36mpandas._libs.hashtable.PyObjectHashTable.get_item\u001b[0;34m()\u001b[0m\n",
      "\u001b[0;32mpandas/_libs/hashtable_class_helper.pxi\u001b[0m in \u001b[0;36mpandas._libs.hashtable.PyObjectHashTable.get_item\u001b[0;34m()\u001b[0m\n",
      "\u001b[0;31mKeyError\u001b[0m: 'strike_rate'",
      "\nDuring handling of the above exception, another exception occurred:\n",
      "\u001b[0;31mKeyError\u001b[0m                                  Traceback (most recent call last)",
      "\u001b[0;32m~/anaconda3/envs/python3/lib/python3.6/site-packages/pandas/core/internals.py\u001b[0m in \u001b[0;36mset\u001b[0;34m(self, item, value, check)\u001b[0m\n\u001b[1;32m   3967\u001b[0m         \u001b[0;32mtry\u001b[0m\u001b[0;34m:\u001b[0m\u001b[0;34m\u001b[0m\u001b[0m\n\u001b[0;32m-> 3968\u001b[0;31m             \u001b[0mloc\u001b[0m \u001b[0;34m=\u001b[0m \u001b[0mself\u001b[0m\u001b[0;34m.\u001b[0m\u001b[0mitems\u001b[0m\u001b[0;34m.\u001b[0m\u001b[0mget_loc\u001b[0m\u001b[0;34m(\u001b[0m\u001b[0mitem\u001b[0m\u001b[0;34m)\u001b[0m\u001b[0;34m\u001b[0m\u001b[0m\n\u001b[0m\u001b[1;32m   3969\u001b[0m         \u001b[0;32mexcept\u001b[0m \u001b[0mKeyError\u001b[0m\u001b[0;34m:\u001b[0m\u001b[0;34m\u001b[0m\u001b[0m\n",
      "\u001b[0;32m~/anaconda3/envs/python3/lib/python3.6/site-packages/pandas/core/indexes/multi.py\u001b[0m in \u001b[0;36mget_loc\u001b[0;34m(self, key, method)\u001b[0m\n\u001b[1;32m   2071\u001b[0m         \u001b[0;32mif\u001b[0m \u001b[0;32mnot\u001b[0m \u001b[0misinstance\u001b[0m\u001b[0;34m(\u001b[0m\u001b[0mkey\u001b[0m\u001b[0;34m,\u001b[0m \u001b[0mtuple\u001b[0m\u001b[0;34m)\u001b[0m\u001b[0;34m:\u001b[0m\u001b[0;34m\u001b[0m\u001b[0m\n\u001b[0;32m-> 2072\u001b[0;31m             \u001b[0mloc\u001b[0m \u001b[0;34m=\u001b[0m \u001b[0mself\u001b[0m\u001b[0;34m.\u001b[0m\u001b[0m_get_level_indexer\u001b[0m\u001b[0;34m(\u001b[0m\u001b[0mkey\u001b[0m\u001b[0;34m,\u001b[0m \u001b[0mlevel\u001b[0m\u001b[0;34m=\u001b[0m\u001b[0;36m0\u001b[0m\u001b[0;34m)\u001b[0m\u001b[0;34m\u001b[0m\u001b[0m\n\u001b[0m\u001b[1;32m   2073\u001b[0m             \u001b[0;32mreturn\u001b[0m \u001b[0m_maybe_to_slice\u001b[0m\u001b[0;34m(\u001b[0m\u001b[0mloc\u001b[0m\u001b[0;34m)\u001b[0m\u001b[0;34m\u001b[0m\u001b[0m\n",
      "\u001b[0;32m~/anaconda3/envs/python3/lib/python3.6/site-packages/pandas/core/indexes/multi.py\u001b[0m in \u001b[0;36m_get_level_indexer\u001b[0;34m(self, key, level, indexer)\u001b[0m\n\u001b[1;32m   2361\u001b[0m \u001b[0;34m\u001b[0m\u001b[0m\n\u001b[0;32m-> 2362\u001b[0;31m             \u001b[0mloc\u001b[0m \u001b[0;34m=\u001b[0m \u001b[0mlevel_index\u001b[0m\u001b[0;34m.\u001b[0m\u001b[0mget_loc\u001b[0m\u001b[0;34m(\u001b[0m\u001b[0mkey\u001b[0m\u001b[0;34m)\u001b[0m\u001b[0;34m\u001b[0m\u001b[0m\n\u001b[0m\u001b[1;32m   2363\u001b[0m             \u001b[0;32mif\u001b[0m \u001b[0misinstance\u001b[0m\u001b[0;34m(\u001b[0m\u001b[0mloc\u001b[0m\u001b[0;34m,\u001b[0m \u001b[0mslice\u001b[0m\u001b[0;34m)\u001b[0m\u001b[0;34m:\u001b[0m\u001b[0;34m\u001b[0m\u001b[0m\n",
      "\u001b[0;32m~/anaconda3/envs/python3/lib/python3.6/site-packages/pandas/core/indexes/base.py\u001b[0m in \u001b[0;36mget_loc\u001b[0;34m(self, key, method, tolerance)\u001b[0m\n\u001b[1;32m   2526\u001b[0m             \u001b[0;32mexcept\u001b[0m \u001b[0mKeyError\u001b[0m\u001b[0;34m:\u001b[0m\u001b[0;34m\u001b[0m\u001b[0m\n\u001b[0;32m-> 2527\u001b[0;31m                 \u001b[0;32mreturn\u001b[0m \u001b[0mself\u001b[0m\u001b[0;34m.\u001b[0m\u001b[0m_engine\u001b[0m\u001b[0;34m.\u001b[0m\u001b[0mget_loc\u001b[0m\u001b[0;34m(\u001b[0m\u001b[0mself\u001b[0m\u001b[0;34m.\u001b[0m\u001b[0m_maybe_cast_indexer\u001b[0m\u001b[0;34m(\u001b[0m\u001b[0mkey\u001b[0m\u001b[0;34m)\u001b[0m\u001b[0;34m)\u001b[0m\u001b[0;34m\u001b[0m\u001b[0m\n\u001b[0m\u001b[1;32m   2528\u001b[0m \u001b[0;34m\u001b[0m\u001b[0m\n",
      "\u001b[0;32mpandas/_libs/index.pyx\u001b[0m in \u001b[0;36mpandas._libs.index.IndexEngine.get_loc\u001b[0;34m()\u001b[0m\n",
      "\u001b[0;32mpandas/_libs/index.pyx\u001b[0m in \u001b[0;36mpandas._libs.index.IndexEngine.get_loc\u001b[0;34m()\u001b[0m\n",
      "\u001b[0;32mpandas/_libs/hashtable_class_helper.pxi\u001b[0m in \u001b[0;36mpandas._libs.hashtable.PyObjectHashTable.get_item\u001b[0;34m()\u001b[0m\n",
      "\u001b[0;32mpandas/_libs/hashtable_class_helper.pxi\u001b[0m in \u001b[0;36mpandas._libs.hashtable.PyObjectHashTable.get_item\u001b[0;34m()\u001b[0m\n",
      "\u001b[0;31mKeyError\u001b[0m: 'strike_rate'",
      "\nDuring handling of the above exception, another exception occurred:\n",
      "\u001b[0;31mValueError\u001b[0m                                Traceback (most recent call last)",
      "\u001b[0;32m<ipython-input-42-59dc7c784b50>\u001b[0m in \u001b[0;36m<module>\u001b[0;34m()\u001b[0m\n\u001b[1;32m      1\u001b[0m \u001b[0;34m\u001b[0m\u001b[0m\n\u001b[0;32m----> 2\u001b[0;31m \u001b[0mballs\u001b[0m\u001b[0;34m[\u001b[0m\u001b[0;34m'strike_rate'\u001b[0m\u001b[0;34m]\u001b[0m\u001b[0;34m=\u001b[0m\u001b[0mballs\u001b[0m\u001b[0;34m[\u001b[0m\u001b[0;34m'ball_y'\u001b[0m\u001b[0;34m]\u001b[0m\u001b[0;34m/\u001b[0m\u001b[0mballs\u001b[0m\u001b[0;34m[\u001b[0m\u001b[0;34m'ball_x'\u001b[0m\u001b[0;34m]\u001b[0m\u001b[0;34m*\u001b[0m\u001b[0;36m100\u001b[0m\u001b[0;34m\u001b[0m\u001b[0m\n\u001b[0m\u001b[1;32m      3\u001b[0m \u001b[0mballs\u001b[0m\u001b[0;34m=\u001b[0m\u001b[0mballs\u001b[0m\u001b[0;34m.\u001b[0m\u001b[0mmerge\u001b[0m\u001b[0;34m(\u001b[0m\u001b[0msixes\u001b[0m\u001b[0;34m,\u001b[0m\u001b[0mleft_on\u001b[0m\u001b[0;34m=\u001b[0m\u001b[0;34m'batsman'\u001b[0m\u001b[0;34m,\u001b[0m\u001b[0mright_on\u001b[0m\u001b[0;34m=\u001b[0m\u001b[0;34m'batsman'\u001b[0m\u001b[0;34m,\u001b[0m\u001b[0mhow\u001b[0m\u001b[0;34m=\u001b[0m\u001b[0;34m'outer'\u001b[0m\u001b[0;34m)\u001b[0m\u001b[0;34m\u001b[0m\u001b[0m\n\u001b[1;32m      4\u001b[0m \u001b[0mballs\u001b[0m\u001b[0;34m=\u001b[0m\u001b[0mballs\u001b[0m\u001b[0;34m.\u001b[0m\u001b[0mmerge\u001b[0m\u001b[0;34m(\u001b[0m\u001b[0mfours\u001b[0m\u001b[0;34m,\u001b[0m\u001b[0mleft_on\u001b[0m\u001b[0;34m=\u001b[0m\u001b[0;34m'batsman'\u001b[0m\u001b[0;34m,\u001b[0m\u001b[0mright_on\u001b[0m\u001b[0;34m=\u001b[0m\u001b[0;34m'batsman'\u001b[0m\u001b[0;34m,\u001b[0m\u001b[0mhow\u001b[0m\u001b[0;34m=\u001b[0m\u001b[0;34m'outer'\u001b[0m\u001b[0;34m)\u001b[0m\u001b[0;34m\u001b[0m\u001b[0m\n\u001b[1;32m      5\u001b[0m \u001b[0mcompare\u001b[0m\u001b[0;34m=\u001b[0m\u001b[0mdelivery\u001b[0m\u001b[0;34m.\u001b[0m\u001b[0mgroupby\u001b[0m\u001b[0;34m(\u001b[0m\u001b[0;34m[\u001b[0m\u001b[0;34m\"match_id\"\u001b[0m\u001b[0;34m,\u001b[0m \u001b[0;34m\"batsman\"\u001b[0m\u001b[0;34m,\u001b[0m\u001b[0;34m\"batting_team\"\u001b[0m\u001b[0;34m]\u001b[0m\u001b[0;34m)\u001b[0m\u001b[0;34m[\u001b[0m\u001b[0;34m\"batsman_runs\"\u001b[0m\u001b[0;34m]\u001b[0m\u001b[0;34m.\u001b[0m\u001b[0msum\u001b[0m\u001b[0;34m(\u001b[0m\u001b[0;34m)\u001b[0m\u001b[0;34m.\u001b[0m\u001b[0mreset_index\u001b[0m\u001b[0;34m(\u001b[0m\u001b[0;34m)\u001b[0m\u001b[0;34m\u001b[0m\u001b[0m\n",
      "\u001b[0;32m~/anaconda3/envs/python3/lib/python3.6/site-packages/pandas/core/frame.py\u001b[0m in \u001b[0;36m__setitem__\u001b[0;34m(self, key, value)\u001b[0m\n\u001b[1;32m   2517\u001b[0m         \u001b[0;32melse\u001b[0m\u001b[0;34m:\u001b[0m\u001b[0;34m\u001b[0m\u001b[0m\n\u001b[1;32m   2518\u001b[0m             \u001b[0;31m# set column\u001b[0m\u001b[0;34m\u001b[0m\u001b[0;34m\u001b[0m\u001b[0m\n\u001b[0;32m-> 2519\u001b[0;31m             \u001b[0mself\u001b[0m\u001b[0;34m.\u001b[0m\u001b[0m_set_item\u001b[0m\u001b[0;34m(\u001b[0m\u001b[0mkey\u001b[0m\u001b[0;34m,\u001b[0m \u001b[0mvalue\u001b[0m\u001b[0;34m)\u001b[0m\u001b[0;34m\u001b[0m\u001b[0m\n\u001b[0m\u001b[1;32m   2520\u001b[0m \u001b[0;34m\u001b[0m\u001b[0m\n\u001b[1;32m   2521\u001b[0m     \u001b[0;32mdef\u001b[0m \u001b[0m_setitem_slice\u001b[0m\u001b[0;34m(\u001b[0m\u001b[0mself\u001b[0m\u001b[0;34m,\u001b[0m \u001b[0mkey\u001b[0m\u001b[0;34m,\u001b[0m \u001b[0mvalue\u001b[0m\u001b[0;34m)\u001b[0m\u001b[0;34m:\u001b[0m\u001b[0;34m\u001b[0m\u001b[0m\n",
      "\u001b[0;32m~/anaconda3/envs/python3/lib/python3.6/site-packages/pandas/core/frame.py\u001b[0m in \u001b[0;36m_set_item\u001b[0;34m(self, key, value)\u001b[0m\n\u001b[1;32m   2584\u001b[0m         \u001b[0mself\u001b[0m\u001b[0;34m.\u001b[0m\u001b[0m_ensure_valid_index\u001b[0m\u001b[0;34m(\u001b[0m\u001b[0mvalue\u001b[0m\u001b[0;34m)\u001b[0m\u001b[0;34m\u001b[0m\u001b[0m\n\u001b[1;32m   2585\u001b[0m         \u001b[0mvalue\u001b[0m \u001b[0;34m=\u001b[0m \u001b[0mself\u001b[0m\u001b[0;34m.\u001b[0m\u001b[0m_sanitize_column\u001b[0m\u001b[0;34m(\u001b[0m\u001b[0mkey\u001b[0m\u001b[0;34m,\u001b[0m \u001b[0mvalue\u001b[0m\u001b[0;34m)\u001b[0m\u001b[0;34m\u001b[0m\u001b[0m\n\u001b[0;32m-> 2586\u001b[0;31m         \u001b[0mNDFrame\u001b[0m\u001b[0;34m.\u001b[0m\u001b[0m_set_item\u001b[0m\u001b[0;34m(\u001b[0m\u001b[0mself\u001b[0m\u001b[0;34m,\u001b[0m \u001b[0mkey\u001b[0m\u001b[0;34m,\u001b[0m \u001b[0mvalue\u001b[0m\u001b[0;34m)\u001b[0m\u001b[0;34m\u001b[0m\u001b[0m\n\u001b[0m\u001b[1;32m   2587\u001b[0m \u001b[0;34m\u001b[0m\u001b[0m\n\u001b[1;32m   2588\u001b[0m         \u001b[0;31m# check if we are modifying a copy\u001b[0m\u001b[0;34m\u001b[0m\u001b[0;34m\u001b[0m\u001b[0m\n",
      "\u001b[0;32m~/anaconda3/envs/python3/lib/python3.6/site-packages/pandas/core/generic.py\u001b[0m in \u001b[0;36m_set_item\u001b[0;34m(self, key, value)\u001b[0m\n\u001b[1;32m   1952\u001b[0m \u001b[0;34m\u001b[0m\u001b[0m\n\u001b[1;32m   1953\u001b[0m     \u001b[0;32mdef\u001b[0m \u001b[0m_set_item\u001b[0m\u001b[0;34m(\u001b[0m\u001b[0mself\u001b[0m\u001b[0;34m,\u001b[0m \u001b[0mkey\u001b[0m\u001b[0;34m,\u001b[0m \u001b[0mvalue\u001b[0m\u001b[0;34m)\u001b[0m\u001b[0;34m:\u001b[0m\u001b[0;34m\u001b[0m\u001b[0m\n\u001b[0;32m-> 1954\u001b[0;31m         \u001b[0mself\u001b[0m\u001b[0;34m.\u001b[0m\u001b[0m_data\u001b[0m\u001b[0;34m.\u001b[0m\u001b[0mset\u001b[0m\u001b[0;34m(\u001b[0m\u001b[0mkey\u001b[0m\u001b[0;34m,\u001b[0m \u001b[0mvalue\u001b[0m\u001b[0;34m)\u001b[0m\u001b[0;34m\u001b[0m\u001b[0m\n\u001b[0m\u001b[1;32m   1955\u001b[0m         \u001b[0mself\u001b[0m\u001b[0;34m.\u001b[0m\u001b[0m_clear_item_cache\u001b[0m\u001b[0;34m(\u001b[0m\u001b[0;34m)\u001b[0m\u001b[0;34m\u001b[0m\u001b[0m\n\u001b[1;32m   1956\u001b[0m \u001b[0;34m\u001b[0m\u001b[0m\n",
      "\u001b[0;32m~/anaconda3/envs/python3/lib/python3.6/site-packages/pandas/core/internals.py\u001b[0m in \u001b[0;36mset\u001b[0;34m(self, item, value, check)\u001b[0m\n\u001b[1;32m   3969\u001b[0m         \u001b[0;32mexcept\u001b[0m \u001b[0mKeyError\u001b[0m\u001b[0;34m:\u001b[0m\u001b[0;34m\u001b[0m\u001b[0m\n\u001b[1;32m   3970\u001b[0m             \u001b[0;31m# This item wasn't present, just insert at end\u001b[0m\u001b[0;34m\u001b[0m\u001b[0;34m\u001b[0m\u001b[0m\n\u001b[0;32m-> 3971\u001b[0;31m             \u001b[0mself\u001b[0m\u001b[0;34m.\u001b[0m\u001b[0minsert\u001b[0m\u001b[0;34m(\u001b[0m\u001b[0mlen\u001b[0m\u001b[0;34m(\u001b[0m\u001b[0mself\u001b[0m\u001b[0;34m.\u001b[0m\u001b[0mitems\u001b[0m\u001b[0;34m)\u001b[0m\u001b[0;34m,\u001b[0m \u001b[0mitem\u001b[0m\u001b[0;34m,\u001b[0m \u001b[0mvalue\u001b[0m\u001b[0;34m)\u001b[0m\u001b[0;34m\u001b[0m\u001b[0m\n\u001b[0m\u001b[1;32m   3972\u001b[0m             \u001b[0;32mreturn\u001b[0m\u001b[0;34m\u001b[0m\u001b[0m\n\u001b[1;32m   3973\u001b[0m \u001b[0;34m\u001b[0m\u001b[0m\n",
      "\u001b[0;32m~/anaconda3/envs/python3/lib/python3.6/site-packages/pandas/core/internals.py\u001b[0m in \u001b[0;36minsert\u001b[0;34m(self, loc, item, value, allow_duplicates)\u001b[0m\n\u001b[1;32m   4070\u001b[0m \u001b[0;34m\u001b[0m\u001b[0m\n\u001b[1;32m   4071\u001b[0m         block = make_block(values=value, ndim=self.ndim,\n\u001b[0;32m-> 4072\u001b[0;31m                            placement=slice(loc, loc + 1))\n\u001b[0m\u001b[1;32m   4073\u001b[0m \u001b[0;34m\u001b[0m\u001b[0m\n\u001b[1;32m   4074\u001b[0m         \u001b[0;32mfor\u001b[0m \u001b[0mblkno\u001b[0m\u001b[0;34m,\u001b[0m \u001b[0mcount\u001b[0m \u001b[0;32min\u001b[0m \u001b[0m_fast_count_smallints\u001b[0m\u001b[0;34m(\u001b[0m\u001b[0mself\u001b[0m\u001b[0;34m.\u001b[0m\u001b[0m_blknos\u001b[0m\u001b[0;34m[\u001b[0m\u001b[0mloc\u001b[0m\u001b[0;34m:\u001b[0m\u001b[0;34m]\u001b[0m\u001b[0;34m)\u001b[0m\u001b[0;34m:\u001b[0m\u001b[0;34m\u001b[0m\u001b[0m\n",
      "\u001b[0;32m~/anaconda3/envs/python3/lib/python3.6/site-packages/pandas/core/internals.py\u001b[0m in \u001b[0;36mmake_block\u001b[0;34m(values, placement, klass, ndim, dtype, fastpath)\u001b[0m\n\u001b[1;32m   2955\u001b[0m                      placement=placement, dtype=dtype)\n\u001b[1;32m   2956\u001b[0m \u001b[0;34m\u001b[0m\u001b[0m\n\u001b[0;32m-> 2957\u001b[0;31m     \u001b[0;32mreturn\u001b[0m \u001b[0mklass\u001b[0m\u001b[0;34m(\u001b[0m\u001b[0mvalues\u001b[0m\u001b[0;34m,\u001b[0m \u001b[0mndim\u001b[0m\u001b[0;34m=\u001b[0m\u001b[0mndim\u001b[0m\u001b[0;34m,\u001b[0m \u001b[0mfastpath\u001b[0m\u001b[0;34m=\u001b[0m\u001b[0mfastpath\u001b[0m\u001b[0;34m,\u001b[0m \u001b[0mplacement\u001b[0m\u001b[0;34m=\u001b[0m\u001b[0mplacement\u001b[0m\u001b[0;34m)\u001b[0m\u001b[0;34m\u001b[0m\u001b[0m\n\u001b[0m\u001b[1;32m   2958\u001b[0m \u001b[0;34m\u001b[0m\u001b[0m\n\u001b[1;32m   2959\u001b[0m \u001b[0;31m# TODO: flexible with index=None and/or items=None\u001b[0m\u001b[0;34m\u001b[0m\u001b[0;34m\u001b[0m\u001b[0m\n",
      "\u001b[0;32m~/anaconda3/envs/python3/lib/python3.6/site-packages/pandas/core/internals.py\u001b[0m in \u001b[0;36m__init__\u001b[0;34m(self, values, placement, ndim, fastpath)\u001b[0m\n\u001b[1;32m    118\u001b[0m             raise ValueError('Wrong number of items passed %d, placement '\n\u001b[1;32m    119\u001b[0m                              'implies %d' % (len(self.values),\n\u001b[0;32m--> 120\u001b[0;31m                                              len(self.mgr_locs)))\n\u001b[0m\u001b[1;32m    121\u001b[0m \u001b[0;34m\u001b[0m\u001b[0m\n\u001b[1;32m    122\u001b[0m     \u001b[0;34m@\u001b[0m\u001b[0mproperty\u001b[0m\u001b[0;34m\u001b[0m\u001b[0m\n",
      "\u001b[0;31mValueError\u001b[0m: Wrong number of items passed 2, placement implies 1"
     ]
    }
   ],
   "source": [
    "\n",
    "\n",
    "balls=balls.merge(sixes,left_on='batsman',right_on='batsman',how='outer')\n",
    "balls=balls.merge(fours,left_on='batsman',right_on='batsman',how='outer')\n",
    "compare=delivery.groupby([\"match_id\", \"batsman\",\"batting_team\"])[\"batsman_runs\"].sum().reset_index()\n",
    "compare=compare.groupby(['batsman','batting_team'])['batsman_runs'].max().reset_index()\n",
    "balls=balls.merge(compare,left_on='batsman',right_on='batsman',how='outer')\n",
    "balls.columns=[['batsman','balls','runs','strike_rate',\"6's\",\"4's\",'Team','Highest_score']]\n",
    "balls.head()"
   ]
  },
  {
   "cell_type": "markdown",
   "metadata": {
    "_cell_guid": "068bbfb4-d2cf-4b14-9f7b-a8f85c8b7a0e",
    "_execution_state": "idle",
    "_uuid": "7c493eb23c242f896e622e443f8f7a833dec6622"
   },
   "source": [
    "Now using this dataframe, we can compare stats like the strike rate, or the number of 6's for 4's etc. We will be passing the names of 2 batsmen and two comparing measures for the comparision."
   ]
  },
  {
   "cell_type": "code",
   "execution_count": null,
   "metadata": {
    "_cell_guid": "de0a3c42-5eee-4b80-9568-3835d7c704bf",
    "_execution_state": "idle",
    "_uuid": "f111d6202f1a3d5daea4c2908ddcb57d1fe5922f"
   },
   "outputs": [],
   "source": [
    "def batsman_comparator(stat1,stat2,batsman1,batsman2):\n",
    "    sns.FacetGrid(balls,hue='Team',size=8).map(mlt.scatter, stat1,stat2, alpha=0.5).add_legend()\n",
    "    bats1=balls[balls['batsman'].str.contains(batsman1)].sort_values(by=stat1,ascending=False)\n",
    "    bats2=balls[balls['batsman'].str.contains(batsman2)].sort_values(by=stat1,ascending=False)\n",
    "    mlt.scatter(bats1[stat1],bats1[stat2]-1,s=75,c='#55ff33')\n",
    "    mlt.text(x=bats1[stat1].values[0],y=bats1[stat2].values[0],s=batsman1,\n",
    "            fontsize=10, weight='bold', color='#f46d43')\n",
    "    mlt.scatter(bats2[stat1],bats2[stat2],s=75,c='#f73545')\n",
    "    mlt.text(x=bats2[stat1].values[0],y=bats2[stat2].values[0]+1,s=batsman2, \n",
    "            fontsize=10, weight='bold', color='#ff58fd')\n",
    "    fig=mlt.gcf()\n",
    "    fig.set_size_inches(15,10)\n",
    "    mlt.title('Batsman Comparator',size=25)\n",
    "    mlt.show()\n",
    "\n",
    "batsman_comparator(\"6's\",\"4's\",'Gayle','Villiers') #comparing gayle and de-villiers based on their respective boundaries"
   ]
  },
  {
   "cell_type": "markdown",
   "metadata": {
    "_cell_guid": "64ce192b-e524-4afb-a06a-02e04507aabd",
    "_execution_state": "idle",
    "_uuid": "6e0f008771f4e6d24cad6b59759e3be73a8dfe0b"
   },
   "source": [
    "### Dhoni Vs Kohli"
   ]
  },
  {
   "cell_type": "code",
   "execution_count": null,
   "metadata": {
    "_cell_guid": "c85fbd7c-89ee-4713-bde1-357d39bccf5d",
    "_execution_state": "idle",
    "_uuid": "c8b9f51b5349d09339998053912a7569f736100a"
   },
   "outputs": [],
   "source": [
    "batsman_comparator(\"runs\",\"strike_rate\",'Dhoni','V Kohli')"
   ]
  },
  {
   "cell_type": "markdown",
   "metadata": {
    "_cell_guid": "9567d315-b6b7-c3b9-4cba-c1c7e8201351",
    "_uuid": "1282de842a052303e3763befa750fb2f51600d16"
   },
   "source": [
    "## Top Batsmen"
   ]
  },
  {
   "cell_type": "markdown",
   "metadata": {
    "_cell_guid": "de20aff6-d40a-00a0-44bf-23b56ebfb920",
    "_uuid": "d40ab620e1d672fce9d11af3dfdfb6fb5a7f2077"
   },
   "source": [
    "### Top 10 Batsman "
   ]
  },
  {
   "cell_type": "code",
   "execution_count": null,
   "metadata": {
    "_cell_guid": "41c46fd8-d3da-4247-623b-13caa8a7ef90",
    "_execution_state": "idle",
    "_uuid": "dbf9812b2d6d230da580c1c6c8a29d736b1837e1"
   },
   "outputs": [],
   "source": [
    "mlt.subplots(figsize=(10,6))\n",
    "max_runs=delivery.groupby(['batsman'])['batsman_runs'].sum()\n",
    "ax=max_runs.sort_values(ascending=False)[:10].plot.bar(width=0.8,color='R')\n",
    "for p in ax.patches:\n",
    "    ax.annotate(format(p.get_height()), (p.get_x()+0.1, p.get_height()+1),fontsize=13)\n",
    "mlt.show()"
   ]
  },
  {
   "cell_type": "markdown",
   "metadata": {
    "_cell_guid": "c887a385-d245-6991-36b2-75cd96b9e01d",
    "_uuid": "5b77bee2429b5607516ab9e14679fa3401b0b1f0"
   },
   "source": [
    "Virat Kohli has highest total runs across all seasons. Raina is just few runs behind with the second spot"
   ]
  },
  {
   "cell_type": "markdown",
   "metadata": {
    "_cell_guid": "effea8ee-67db-c55b-7997-a975eee0d721",
    "_uuid": "9d9c9efaa55415bd765dbf698fe425ba9d25c237"
   },
   "source": [
    "### Top Batsman's with 1's, 2's, 3's, 4's "
   ]
  },
  {
   "cell_type": "code",
   "execution_count": null,
   "metadata": {
    "_cell_guid": "61791bc3-6d35-489d-cac6-476d6ee8d13e",
    "_execution_state": "idle",
    "_uuid": "b2aa5e9f87b835f142752ebdd084478077e2a1a3"
   },
   "outputs": [],
   "source": [
    "toppers=delivery.groupby(['batsman','batsman_runs'])['total_runs'].count().reset_index()\n",
    "toppers=toppers.pivot('batsman','batsman_runs','total_runs')\n",
    "fig,ax=mlt.subplots(2,2,figsize=(18,12))\n",
    "toppers[1].sort_values(ascending=False)[:5].plot(kind='barh',ax=ax[0,0],color='#45ff45',width=0.8)\n",
    "ax[0,0].set_title(\"Most 1's\")\n",
    "ax[0,0].set_ylabel('')\n",
    "toppers[2].sort_values(ascending=False)[:5].plot(kind='barh',ax=ax[0,1],color='#df6dfd',width=0.8)\n",
    "ax[0,1].set_title(\"Most 2's\")\n",
    "ax[0,1].set_ylabel('')\n",
    "toppers[4].sort_values(ascending=False)[:5].plot(kind='barh',ax=ax[1,0],color='#fbca5f',width=0.8)\n",
    "ax[1,0].set_title(\"Most 4's\")\n",
    "ax[1,0].set_ylabel('')\n",
    "toppers[6].sort_values(ascending=False)[:5].plot(kind='barh',ax=ax[1,1],color='#ffff00',width=0.8)\n",
    "ax[1,1].set_title(\"Most 6's\")\n",
    "ax[1,1].set_ylabel('')\n",
    "mlt.show()"
   ]
  },
  {
   "cell_type": "markdown",
   "metadata": {
    "_cell_guid": "5d49b558-4764-1e14-c2f3-43753e7ba64e",
    "_uuid": "f7a16f399ea8eeb293679dbbb1074303390edd53"
   },
   "source": [
    "**Observations:**\n",
    "\n",
    " 1. Kohli has scored the maximum 1's\n",
    " 2. Dhoni has the maximum 2's . Those Strong Legs :p\n",
    " 3. Gambhir has the maximum 4's.\n",
    " 4. C Gayle has the maximum 6's  and he leads by a big margin."
   ]
  },
  {
   "cell_type": "markdown",
   "metadata": {
    "_cell_guid": "bb898766-b285-1b42-ca2d-e2f5c4b683f2",
    "_uuid": "6b88c74ba9c7ac665ffae55fbda9d2d7244fb81c"
   },
   "source": [
    "### Top Individual Scores"
   ]
  },
  {
   "cell_type": "code",
   "execution_count": null,
   "metadata": {
    "_cell_guid": "8f4f0056-d659-f275-6781-897b56294f19",
    "_execution_state": "idle",
    "_uuid": "92c24ad418d905b7d8dcac97d8c69cb9f140e29d"
   },
   "outputs": [],
   "source": [
    "top_scores = delivery.groupby([\"match_id\", \"batsman\",\"batting_team\"])[\"batsman_runs\"].sum().reset_index()\n",
    "#top_scores=top_scores[top_scores['batsman_runs']>100]\n",
    "top_scores.sort_values('batsman_runs', ascending=0).head(10)\n",
    "top_scores.nlargest(10,'batsman_runs')"
   ]
  },
  {
   "cell_type": "markdown",
   "metadata": {
    "_cell_guid": "5f872e2a-2f81-f64f-ec35-e3e6ea35d453",
    "_uuid": "5996a530f60020be7f1313156beb83e38eaba980"
   },
   "source": [
    "Here too the Jamaican leads the table. Not only Gayle but there are many RCB players on the top scores list. Looks like RCB is a very formidable batting side."
   ]
  },
  {
   "cell_type": "markdown",
   "metadata": {
    "_cell_guid": "f52ca69a-8fa9-4fb2-0cea-bc74582e69bd",
    "_uuid": "d8e8dc654d751d6c873e5cc96442232d0d6a0ee5"
   },
   "source": [
    "### Individual Scores By Top Batsman each Inning"
   ]
  },
  {
   "cell_type": "code",
   "execution_count": null,
   "metadata": {
    "_cell_guid": "e383ba38-3a37-403b-877a-2cd7aef59454",
    "_execution_state": "idle",
    "_uuid": "e347ca55b0887d2b0f57a062cdc9098f54abcb19"
   },
   "outputs": [],
   "source": [
    "swarm=['CH Gayle','V Kohli','G Gambhir','SK Raina','YK Pathan','MS Dhoni','AB de Villiers','DA Warner']\n",
    "scores = delivery.groupby([\"match_id\", \"batsman\",\"batting_team\"])[\"batsman_runs\"].sum().reset_index()\n",
    "scores=scores[top_scores['batsman'].isin(swarm)]\n",
    "sns.swarmplot(x='batsman',y='batsman_runs',data=scores,hue='batting_team',palette='Set1')\n",
    "fig=mlt.gcf()\n",
    "fig.set_size_inches(14,8)\n",
    "mlt.ylim(-10,200)\n",
    "mlt.show()"
   ]
  },
  {
   "cell_type": "markdown",
   "metadata": {
    "_cell_guid": "17139ab6-0c58-19a5-8c44-70c4a9f75c01",
    "_uuid": "3f9e43bdd178c9b191577d4188254dcad560a9ba"
   },
   "source": [
    "**Observations:**\n",
    "\n",
    " 1. **Chris Gayle** has the highest Individual Score of **175** and Highest Number of Centuries i.e **5**\n",
    " 2. **MS Dhoni** and **Gautam Gambhir** have never scored a Century.\n",
    " 3. **V Kohli** has played only for 1 IPL Team in all seasons i.e RCB"
   ]
  },
  {
   "cell_type": "markdown",
   "metadata": {
    "_cell_guid": "b617f954-5d22-3796-baa2-6da65bd78c3d",
    "_uuid": "a0a981cc0d173c982ead119c953fc22f7363b785"
   },
   "source": [
    "### Runs Scored By Batsman Across Seasons"
   ]
  },
  {
   "cell_type": "code",
   "execution_count": null,
   "metadata": {
    "_cell_guid": "8465d850-dbc4-82ed-72a6-0e3ba26fea82",
    "_execution_state": "idle",
    "_uuid": "335b1a77515a753ed2d89d8b67fe23e628331d87"
   },
   "outputs": [],
   "source": [
    "a=batsmen.groupby(['season','batsman'])['batsman_runs'].sum().reset_index()\n",
    "a=a.groupby(['season','batsman'])['batsman_runs'].sum().unstack().T\n",
    "a['Total']=a.sum(axis=1)\n",
    "a=a.sort_values(by='Total',ascending=0)[:5]\n",
    "a.drop('Total',axis=1,inplace=True)\n",
    "a.T.plot(color=['red','blue','#772272','green','#f0ff00'],marker='o')\n",
    "fig=mlt.gcf()\n",
    "fig.set_size_inches(12,6)\n",
    "mlt.show()"
   ]
  },
  {
   "cell_type": "markdown",
   "metadata": {
    "_cell_guid": "e19a631d-0515-9a17-307b-4733205fe838",
    "_uuid": "8d0474acdb17c80b49d53fe67da03bbc7fb7ffc3"
   },
   "source": [
    "David Warner's form looks to be improving season by season. There has been a sharp decline in Kohli's Runs in the last season."
   ]
  },
  {
   "cell_type": "markdown",
   "metadata": {
    "_cell_guid": "7f670a67-4a7f-b284-a742-2e4bb9187f0b",
    "_uuid": "29c0dca906c7dab0716a46ac33911b355bbf0373"
   },
   "source": [
    "### How do the top batsmen score? (INTERACTIVE)"
   ]
  },
  {
   "cell_type": "code",
   "execution_count": null,
   "metadata": {
    "_cell_guid": "2f3edcfb-746f-62d5-9b73-47f2d0b67a83",
    "_execution_state": "idle",
    "_uuid": "1fe56e6bcaa87cb381150a5db2a83c54138726ae"
   },
   "outputs": [],
   "source": [
    "a=batsmen.groupby(['batsman','batsman_runs'])['total_runs'].count().reset_index()\n",
    "b=max_runs.sort_values(ascending=False)[:10].reset_index()\n",
    "c=b.merge(a,left_on='batsman',right_on='batsman',how='left')\n",
    "c.drop('batsman_runs_x',axis=1,inplace=True)\n",
    "c.set_index('batsman',inplace=True)\n",
    "c.columns=['type','count']\n",
    "c=c[(c['type']==1)|(c['type']==2)|(c['type']==4)|(c['type']==6)]\n",
    "cols=['type','count']\n",
    "c.reset_index(inplace=True)\n",
    "c=c.pivot('batsman','type','count')\n",
    "\n",
    "trace1 = go.Bar(\n",
    "    y=c.index, x=c[6],\n",
    "    name=\"6's\",\n",
    "    orientation = 'h',\n",
    "    marker = dict(color = 'rgba(178, 78, 139, 0.6)',\n",
    "        line = dict(color = 'rgba(178, 78, 139, 1.0)',\n",
    "            width = 3)\n",
    "    )\n",
    ")\n",
    "trace2 = go.Bar(\n",
    "    y=c.index, x=c[4],\n",
    "    name=\"4's\",\n",
    "    orientation = 'h',\n",
    "    marker = dict(color = 'rgba(58, 71, 80, 0.6)',\n",
    "        line = dict(color = 'rgba(58, 71, 80, 1.0)',\n",
    "            width = 3)\n",
    "    )\n",
    ")\n",
    "\n",
    "trace3 = go.Bar(\n",
    "    y=c.index, x=c[2],\n",
    "    name=\"2's\",\n",
    "    orientation = 'h',\n",
    "    marker = dict(color = 'rgba(101, 178, 139, 0.6)',\n",
    "        line = dict(color = 'rgba(101, 178, 139, 1.0)',\n",
    "            width = 3)\n",
    "    )\n",
    ")\n",
    "trace4 = go.Bar(\n",
    "    y=c.index, x=c[1],\n",
    "    name=\"1's\",\n",
    "    orientation = 'h',\n",
    "    marker = dict(color = 'rgba(208, 105, 80, 0.6)',\n",
    "        line = dict(color = 'rgba(208, 105, 80, 1.0)',\n",
    "            width = 3)\n",
    "    )\n",
    ")\n",
    "\n",
    "data = [trace1, trace2,trace3,trace4]\n",
    "layout = go.Layout(\n",
    "    barmode='stack'\n",
    ")\n",
    "\n",
    "fig = go.Figure(data=data, layout=layout)\n",
    "py.iplot(fig, filename='marker-h-bar')"
   ]
  },
  {
   "cell_type": "markdown",
   "metadata": {
    "_cell_guid": "b462dbf6-d252-0958-ee69-fc97825db0c6",
    "_uuid": "22ad752e89e157ececa84988e1198886779b6dae"
   },
   "source": [
    "### Who Has Taken Most Wickets Of The Top Batsman"
   ]
  },
  {
   "cell_type": "code",
   "execution_count": null,
   "metadata": {
    "_cell_guid": "7e326c4d-b86a-39f6-fc1c-4368cf53ae78",
    "_execution_state": "idle",
    "_uuid": "01ffadfce7792b2891016cd5fb3f0a37757a89e8"
   },
   "outputs": [],
   "source": [
    "\n",
    "gayle=delivery[delivery['batsman']=='CH Gayle']\n",
    "gayle=gayle[gayle['dismissal_kind'].isin(['caught','lbw','bowled','stumped','caught and bowled',\"hit wicket\"])]\n",
    "gayle=gayle.groupby('bowler').count().sort_values(by='dismissal_kind',ascending=0).dismissal_kind[:1].reset_index()\n",
    "gayle['batsman']='CH Gayle'\n",
    "\n",
    "kohli=delivery[delivery['batsman']=='V Kohli']\n",
    "kohli=kohli[kohli['dismissal_kind'].isin(['caught','lbw','bowled','stumped','caught and bowled',\"hit wicket\"])]\n",
    "kohli=kohli.groupby('bowler').count().sort_values(by='dismissal_kind',ascending=0).dismissal_kind[:1].reset_index()\n",
    "kohli['batsman']='V Kohli'\n",
    "\n",
    "\n",
    "raina=delivery[delivery['batsman']=='SK Raina']\n",
    "raina=raina[raina['dismissal_kind'].isin(['caught','lbw','bowled','stumped','caught and bowled',\"hit wicket\"])]\n",
    "raina=raina.groupby('bowler').count().sort_values(by='dismissal_kind',ascending=0).dismissal_kind[:1].reset_index()\n",
    "raina['batsman']='SK Raina'\n",
    "\n",
    "abd=delivery[delivery['batsman']=='AB de Villiers']\n",
    "abd=abd[abd['dismissal_kind'].isin(['caught','lbw','bowled','stumped','caught and bowled',\"hit wicket\"])]\n",
    "abd=abd.groupby('bowler').count().sort_values(by='dismissal_kind',ascending=0).dismissal_kind[:1].reset_index()\n",
    "abd['batsman']='AB de Villiers'\n",
    "\n",
    "msd=delivery[delivery['batsman']=='MS Dhoni']\n",
    "msd=msd[msd['dismissal_kind'].isin(['caught','lbw','bowled','stumped','caught and bowled',\"hit wicket\"])]\n",
    "msd=msd.groupby('bowler').count().sort_values(by='dismissal_kind',ascending=0).dismissal_kind[:1].reset_index()\n",
    "msd['batsman']='MS Dhoni'\n",
    "\n",
    "\n",
    "gg=delivery[delivery['batsman']=='G Gambhir']\n",
    "gg=gg[gg['dismissal_kind'].isin(['caught','lbw','bowled','stumped','caught and bowled',\"hit wicket\"])]\n",
    "gg=gg.groupby('bowler').count().sort_values(by='dismissal_kind',ascending=0).dismissal_kind[:1].reset_index()\n",
    "gg['batsman']='G Gambhir'\n",
    "\n",
    "rohit=delivery[delivery['batsman']=='RG Sharma']\n",
    "rohit=rohit[rohit['dismissal_kind'].isin(['caught','lbw','bowled','stumped','caught and bowled',\"hit wicket\"])]\n",
    "rohit=rohit.groupby('bowler').count().sort_values(by='dismissal_kind',ascending=0).dismissal_kind[:1].reset_index()\n",
    "rohit['batsman']='RG Sharma'\n",
    "\n",
    "uthapa=delivery[delivery['batsman']=='RV Uthappa']\n",
    "uthapa=uthapa[uthapa['dismissal_kind'].isin(['caught','lbw','bowled','stumped','caught and bowled',\"hit wicket\"])]\n",
    "uthapa=uthapa.groupby('bowler').count().sort_values(by='dismissal_kind',ascending=0).dismissal_kind[:1].reset_index()\n",
    "uthapa['batsman']='RV Uthappa'\n",
    "\n",
    "dhawan=delivery[delivery['batsman']=='S Dhawan']\n",
    "dhawan=dhawan[dhawan['dismissal_kind'].isin(['caught','lbw','bowled','stumped','caught and bowled',\"hit wicket\"])]\n",
    "dhawan=dhawan.groupby('bowler').count().sort_values(by='dismissal_kind',ascending=0).dismissal_kind[:1].reset_index()\n",
    "dhawan['batsman']='S Dhawan'\n",
    "\n",
    "warn=delivery[delivery['batsman']=='DA Warner']\n",
    "warn=warn[warn['dismissal_kind'].isin(['caught','lbw','bowled','stumped','caught and bowled',\"hit wicket\"])]\n",
    "warn=warn.groupby('bowler').count().sort_values(by='dismissal_kind',ascending=0).dismissal_kind[:1].reset_index()\n",
    "warn['batsman']='DA Warner'\n",
    "\n",
    "new = gayle.append([kohli,raina,abd,msd,gg,rohit,uthapa,dhawan,warn])\n",
    "new = new[['batsman','bowler','dismissal_kind']]\n",
    "new.columns=['batsman','bowler','No_of_Dismissals']\n",
    "new"
   ]
  },
  {
   "cell_type": "markdown",
   "metadata": {
    "_cell_guid": "f3961d85-6b47-e477-31c7-b9aeb10473e1",
    "_uuid": "4fb68cce11a32e7222aae23ff3852ed2254bb600"
   },
   "source": [
    "### Frequency of Scores "
   ]
  },
  {
   "cell_type": "code",
   "execution_count": null,
   "metadata": {
    "_cell_guid": "7b0863e2-4fdb-7c9a-395b-171da14664e5",
    "_execution_state": "idle",
    "_uuid": "52d09987dc8d54f2d5daf8a18c9947e1cdfb3de0"
   },
   "outputs": [],
   "source": [
    "mlt.subplots(figsize=(10,6))\n",
    "bins=range(0,180,10)\n",
    "mlt.hist(top_scores[\"batsman_runs\"],bins,histtype=\"bar\",rwidth=1.2,color='#0ff0ff')\n",
    "mlt.xlabel('Runs')\n",
    "mlt.ylabel('Count')\n",
    "mlt.axvline(top_scores[\"batsman_runs\"].mean(), color='b', linestyle='dashed', linewidth=2)\n",
    "mlt.plot()\n",
    "mlt.show()"
   ]
  },
  {
   "cell_type": "markdown",
   "metadata": {
    "_cell_guid": "bedfafcb-b77c-fd80-ffc2-6d662a297c55",
    "_uuid": "fe415bd4412d0f6030f2023d6fd3f78a5b820489"
   },
   "source": [
    "The average score for a batsman is around 19-20. Also the number of single digit score is quite high and the number of centuries is low."
   ]
  },
  {
   "cell_type": "markdown",
   "metadata": {
    "_cell_guid": "c4a43d9b-7a0d-a148-c161-da0485a3ac84",
    "_uuid": "cb2586ec8352473e14f7935ba9c68d7b02098583"
   },
   "source": [
    "### Orange Caps Each Season(Highest Run Getter per Season) (INTERACTIVE)"
   ]
  },
  {
   "cell_type": "code",
   "execution_count": null,
   "metadata": {
    "_cell_guid": "f819528b-f755-6fc8-6a5a-ee919a0939f0",
    "_execution_state": "idle",
    "_uuid": "36cf52dec6a2dbe9961b3cc8dbe5236c16c48671"
   },
   "outputs": [],
   "source": [
    "orange=matches[['id','season']]\n",
    "orange=orange.merge(delivery,left_on='id',right_on='match_id',how='left')\n",
    "orange=orange.groupby(['season','batsman'])['batsman_runs'].sum().reset_index()\n",
    "orange=orange.sort_values('batsman_runs',ascending=0)\n",
    "orange=orange.drop_duplicates(subset=[\"season\"],keep=\"first\")\n",
    "orange.sort_values(by='season')\n",
    "\n",
    "trace1 = go.Bar(\n",
    "    x=orange['season'].values,\n",
    "    y=orange['batsman_runs'].values,\n",
    "    name='Total Matches',\n",
    "    text=orange['batsman'].values,\n",
    "    marker=dict(\n",
    "        color='rgb(255,140,0)',\n",
    "        line=dict(\n",
    "            color='rgb(8,48,107)',\n",
    "            width=1.5,\n",
    "        )\n",
    "    ),\n",
    "    opacity=1\n",
    ")\n",
    "\n",
    "\n",
    "layout = go.Layout(\n",
    "    title='Orange-Cap Holders',\n",
    ")\n",
    "data=[trace1]\n",
    "fig = go.Figure(data=data, layout=layout)\n",
    "py.iplot(fig, filename='stacked-bar')"
   ]
  },
  {
   "cell_type": "markdown",
   "metadata": {
    "_cell_guid": "4571ac5a-3969-ac15-0718-d39cd003286c",
    "_uuid": "aaf94a4d0ed16756ff5420ea3a895311b4a1c8d6"
   },
   "source": [
    "## Top Bowlers"
   ]
  },
  {
   "cell_type": "markdown",
   "metadata": {
    "_cell_guid": "cb75aae1-089b-9a99-31fa-a532fa43f8ac",
    "_uuid": "b8f12809544b93cdeb1126af08de0158e7ab164f"
   },
   "source": [
    "### Highest Wicket Taker"
   ]
  },
  {
   "cell_type": "code",
   "execution_count": null,
   "metadata": {
    "_cell_guid": "89dcb48d-a488-2079-9a10-c3138ae0ee66",
    "_execution_state": "idle",
    "_uuid": "eaa4c4dcdd4cacf23ee9940c814f5c68458cf154"
   },
   "outputs": [],
   "source": [
    "mlt.subplots(figsize=(10,6))\n",
    "dismissal_kinds = [\"bowled\", \"caught\", \"lbw\", \"stumped\", \"caught and bowled\", \"hit wicket\"]  #since run-out is not creditted to the bowler\n",
    "ct=delivery[delivery[\"dismissal_kind\"].isin(dismissal_kinds)]\n",
    "ax=ct['bowler'].value_counts()[:10].plot.bar(width=0.8,color='#1167a0')\n",
    "for p in ax.patches:\n",
    "    ax.annotate(format(p.get_height()), (p.get_x()+0.10, p.get_height()+1))\n",
    "mlt.show()"
   ]
  },
  {
   "cell_type": "markdown",
   "metadata": {
    "_cell_guid": "f6b06a4c-acfa-5aa2-99a5-0fac26361484",
    "_uuid": "a171163a973bca2b5fffbb4e5c3c8ab5cb051d8e"
   },
   "source": [
    "Lasith Malinga leads the chart, thanks to his unpredictable bowling action. Other bowlers have a very small wicket margin between them. "
   ]
  },
  {
   "cell_type": "markdown",
   "metadata": {
    "_cell_guid": "e41f8cfa-5da6-fdc8-be16-94c16601a6d3",
    "_uuid": "8566a95bb9ec7cdee60ad6ae80a61ae65bdd877c"
   },
   "source": [
    "### Maximum Overs"
   ]
  },
  {
   "cell_type": "code",
   "execution_count": null,
   "metadata": {
    "_cell_guid": "e06193b3-6423-5bca-deba-a8fecc370448",
    "_execution_state": "idle",
    "_uuid": "8dfde7edba29d4fc0885293f9a4d82d749ce2060"
   },
   "outputs": [],
   "source": [
    "eco=delivery.groupby(['bowler']).sum()\n",
    "eco['total balls']=delivery['bowler'].value_counts()\n",
    "eco['overs']=(eco['total balls']//6)\n",
    "eco[eco['overs']>200].sort_values(by='overs',ascending=0)['overs'].head(5).reset_index()\n"
   ]
  },
  {
   "cell_type": "markdown",
   "metadata": {
    "_cell_guid": "1d637d1e-1934-416f-a0f3-8fa93b5a7a7e",
    "_execution_state": "idle",
    "_uuid": "daecb966633bb9986d8782b8afb256897e33e77b"
   },
   "source": [
    "Most Economical Bowlers with 300+ overs"
   ]
  },
  {
   "cell_type": "code",
   "execution_count": null,
   "metadata": {
    "_cell_guid": "45f23bf5-3587-4d59-921f-e714d716819d",
    "_execution_state": "idle",
    "_uuid": "fa77c3dfb1323b3e1a8cd4beaa1eecd9febba7f0"
   },
   "outputs": [],
   "source": [
    "eco['economy']=(eco['total_runs']/(eco['overs']))\n",
    "eco[(eco['overs']>300)].sort_values('economy')[:10].economy.reset_index().T"
   ]
  },
  {
   "cell_type": "markdown",
   "metadata": {
    "_cell_guid": "681a6e82-827b-d2db-c278-c567b63b6eb5",
    "_uuid": "8b8222494483775eac6c183e4de881d415e1d574"
   },
   "source": [
    "### Top 20 Bowlers (INTERACTIVE)"
   ]
  },
  {
   "cell_type": "code",
   "execution_count": null,
   "metadata": {
    "_cell_guid": "b1a2c825-c656-bd08-5699-3f0209750441",
    "_execution_state": "idle",
    "_uuid": "1a104f2e6252a774d61fbf71ec65cd9c8f6d8686"
   },
   "outputs": [],
   "source": [
    "bowlers=delivery.groupby('bowler').sum().reset_index()\n",
    "bowl=delivery['bowler'].value_counts().reset_index()\n",
    "bowlers=bowlers.merge(bowl,left_on='bowler',right_on='index',how='left')\n",
    "bowlers=bowlers[['bowler_x','total_runs','bowler_y']]\n",
    "bowlers.columns=[['bowler','runs_given','balls']]\n",
    "bowlers['overs']=(bowlers['balls']//6)\n",
    "dismissal_kinds = [\"bowled\", \"caught\", \"lbw\", \"stumped\", \"caught and bowled\", \"hit wicket\"]  \n",
    "ct=delivery[delivery[\"dismissal_kind\"].isin(dismissal_kinds)]\n",
    "ct=ct['bowler'].value_counts()[:20].reset_index()\n",
    "bowlers=bowlers.merge(ct,left_on='bowler',right_on='index',how='left').dropna()\n",
    "bowlers=bowlers[['bowler_x','runs_given','overs','bowler_y']]\n",
    "bowlers.columns=[['bowler','runs_given','overs','wickets']]\n",
    "bowlers['economy']=(bowlers['runs_given']/bowlers['overs'])\n",
    "bowlers.head()"
   ]
  },
  {
   "cell_type": "code",
   "execution_count": null,
   "metadata": {
    "_cell_guid": "5a00b9ee-0f1c-414a-8aaa-092b60ffb31a",
    "_execution_state": "idle",
    "_uuid": "c423a1d0ed92f8129e400bdc9f29be8aa0e13e6c"
   },
   "outputs": [],
   "source": [
    "trace = go.Scatter(\n",
    "    y = bowlers['wickets'],\n",
    "    x = bowlers['bowler'],\n",
    "    mode='markers',\n",
    "    marker=dict(\n",
    "        size= bowlers['wickets'].values,\n",
    "        color = bowlers['economy'].values,\n",
    "        colorscale='Viridis',\n",
    "        showscale=True,\n",
    "        colorbar = dict(title = 'Economy'),\n",
    "    ),\n",
    "    text = bowlers['overs'].values\n",
    ")\n",
    "data = [(trace)]\n",
    "\n",
    "layout= go.Layout(\n",
    "    autosize= True,\n",
    "    title= 'Top 20 Wicket Taking Bowlers',\n",
    "    hovermode= 'closest',\n",
    "    xaxis=dict(\n",
    "        showgrid=False,\n",
    "        zeroline=False,\n",
    "        showline=False,\n",
    "        title='Bowlers'\n",
    "    ),\n",
    "    yaxis=dict(\n",
    "        title= 'Wickets Taken',\n",
    "        ticklen= 5,\n",
    "        gridwidth= 2,\n",
    "        showgrid=False,\n",
    "        zeroline=False,\n",
    "        showline=False\n",
    "    ),\n",
    "    showlegend= False\n",
    ")\n",
    "fig = go.Figure(data=data, layout=layout)\n",
    "py.iplot(fig,filename='scatterChol')"
   ]
  },
  {
   "cell_type": "markdown",
   "metadata": {
    "_cell_guid": "448de1d9-22ad-aa77-a4c6-92c2a479b755",
    "_uuid": "3536f294a6b4ea28ae26606087e0fdfe3bde5834"
   },
   "source": [
    "### Frequency Of Economy"
   ]
  },
  {
   "cell_type": "code",
   "execution_count": null,
   "metadata": {
    "_cell_guid": "5a565da1-7258-f880-7a56-1db1d25903a1",
    "_execution_state": "idle",
    "_uuid": "fd4bb2f0889aa4bc4d461ab80bd086fe626a924a"
   },
   "outputs": [],
   "source": [
    "mlt.subplots(figsize=(10,6))\n",
    "eco.replace([np.inf, -np.inf], np.nan,inplace=True)\n",
    "eco.fillna(0,inplace=True)\n",
    "bins=range(0,26)\n",
    "mlt.hist(eco['economy'],bins,histtype=\"bar\",rwidth=1.2,color='#0ff0ff')\n",
    "mlt.xlabel('Economy')\n",
    "mlt.ylabel('Count')\n",
    "mlt.axvline(eco[\"economy\"].mean(), color='b', linestyle='dashed', linewidth=2)\n",
    "mlt.plot()\n",
    "mlt.show()"
   ]
  },
  {
   "cell_type": "markdown",
   "metadata": {
    "_cell_guid": "54ee678e-f853-0029-e45f-d1ebc52fa9ee",
    "_uuid": "a403ef5554240ac67b132fa5d31ade2f4191f088"
   },
   "source": [
    "The average economy rate is between 8.5-9"
   ]
  },
  {
   "cell_type": "markdown",
   "metadata": {
    "_cell_guid": "3ca253eb-6f1e-56f9-f3c4-b789c9734303",
    "_uuid": "38effb63fc400948f9ccb16ddcc68873c0b39de4"
   },
   "source": [
    "### Purple Caps Each Season (Maximum Wickets By Bowler per Season) (INTERACTIVE)"
   ]
  },
  {
   "cell_type": "code",
   "execution_count": null,
   "metadata": {
    "_cell_guid": "6fd979fd-025e-1735-43e1-de422710a0e6",
    "_execution_state": "idle",
    "_uuid": "c34475e32c9685bf987db4c29cec2ac46be4cd26"
   },
   "outputs": [],
   "source": [
    "dismissal_kinds = [\"bowled\", \"caught\", \"lbw\", \"stumped\", \"caught and bowled\", \"hit wicket\"]  #since run-out is not creditted to the bowler\n",
    "purple=delivery[delivery[\"dismissal_kind\"].isin(dismissal_kinds)]\n",
    "purple=purple.merge(matches,left_on='match_id',right_on='id',how='outer')\n",
    "purple=purple.groupby(['season','bowler'])['dismissal_kind'].count().reset_index()\n",
    "purple=purple.sort_values('dismissal_kind',ascending=False)\n",
    "purple=purple.drop_duplicates('season',keep='first').sort_values(by='season')\n",
    "purple.columns=[['season','bowler','count_wickets']]\n",
    "\n",
    "trace1 = go.Bar(\n",
    "    x=purple['season'].values,\n",
    "    y=purple['count_wickets'].values,\n",
    "    name='Total Matches',\n",
    "    text=purple['bowler'].values,\n",
    "    marker=dict(\n",
    "        color='rgb(75,0,130)',\n",
    "        line=dict(\n",
    "            color='rgb(108,148,107)',\n",
    "            width=1.5,\n",
    "        )\n",
    "    ),\n",
    "    opacity=1\n",
    ")\n",
    "\n",
    "\n",
    "layout = go.Layout(\n",
    "    title='Purple-Cap Holders',\n",
    ")\n",
    "data=[trace1]\n",
    "fig = go.Figure(data=data, layout=layout)\n",
    "py.iplot(fig, filename='stacked-bar')"
   ]
  },
  {
   "cell_type": "markdown",
   "metadata": {
    "_cell_guid": "6c16461b-4d8b-d500-2619-99a79977d383",
    "_uuid": "d2bf97b11d0002104aed477ac94eb512ba94feb0"
   },
   "source": [
    "### Extras And Wickets (INTERACTIVE)"
   ]
  },
  {
   "cell_type": "code",
   "execution_count": null,
   "metadata": {
    "_cell_guid": "9f6460cc-cfd1-4551-870c-f0a0c86c9089",
    "_execution_state": "idle",
    "_uuid": "17c96727816dc6084f814884297871e95595e22a"
   },
   "outputs": [],
   "source": [
    "extras=['wide_runs','bye_runs','legbye_runs','noball_runs']\n",
    "sizes=[5161,680,3056,612]\n",
    "\n",
    "dismiss=[\"run out\",\"bowled\", \"caught\", \"lbw\", \"stumped\", \"caught and bowled\", \"hit wicket\"]\n",
    "ct=delivery[delivery[\"dismissal_kind\"].isin(dismiss)]\n",
    "bx=ct.dismissal_kind.value_counts()[:10]\n",
    "bx\n",
    "\n",
    "\n",
    "fig = {\n",
    "  \"data\": [\n",
    "    {\n",
    "      \"values\": sizes,\n",
    "      \"labels\": extras,\n",
    "      \"domain\": {\"x\": [0, .48]},\n",
    "      \"name\": \"Extra's\",\n",
    "      \"hoverinfo\":\"label+percent+name\",\n",
    "      \"hole\": .4,\n",
    "      \"type\": \"pie\"\n",
    "    },     \n",
    "    {\n",
    "      \"values\": bx.values ,\n",
    "      \"labels\": bx.index,\n",
    "      \"text\":\"CO2\",\n",
    "      \"textposition\":\"inside\",\n",
    "      \"domain\": {\"x\": [.54, 1]},\n",
    "      \"name\": \"Wickets\",\n",
    "      \"hoverinfo\":\"label+percent+name\",\n",
    "      \"hole\": .4,\n",
    "      \"type\": \"pie\"\n",
    "    }],\n",
    "  \"layout\": {\n",
    "        \"title\":\"Extras Distribution and Types Of Wickets\",\n",
    "        \"annotations\": [\n",
    "            {\n",
    "                \"font\": {\n",
    "                    \"size\": 15\n",
    "                },\n",
    "                \"showarrow\": False,\n",
    "                \"text\": \"EXTRA'S\",\n",
    "                \"x\": 0.18,\n",
    "                \"y\": 0.5\n",
    "            },\n",
    "            {\n",
    "                \"font\": {\n",
    "                    \"size\": 15\n",
    "                },\n",
    "                \"showarrow\": False,\n",
    "                \"text\": \"WICKETS\",\n",
    "                \"x\": 0.85,\n",
    "                \"y\": 0.5\n",
    "            }\n",
    "        ]\n",
    "    }\n",
    "}\n",
    "py.iplot(fig, filename='donut')"
   ]
  },
  {
   "cell_type": "markdown",
   "metadata": {
    "_cell_guid": "96e5af95-a0d5-be31-22ff-4470de1ac239",
    "_uuid": "04bd0535841323162a1e81d7e6eafb28550d8056"
   },
   "source": [
    "## Teams with maximum Boundaries (INTERACTIVE)"
   ]
  },
  {
   "cell_type": "code",
   "execution_count": null,
   "metadata": {
    "_cell_guid": "e3215927-50e8-bcb9-0ec3-3596f0adaa08",
    "_execution_state": "idle",
    "_uuid": "e483ac1ff8ed0c85e427339d0afab5f7cb20fd0d"
   },
   "outputs": [],
   "source": [
    "ax=delivery[delivery['batsman_runs']==6].batting_team.value_counts().reset_index()\n",
    "ax2=delivery[delivery['batsman_runs']==4].batting_team.value_counts().reset_index()\n",
    "ax=ax.merge(ax2,left_on='index',right_on='index',how='left')\n",
    "ax.columns=[['team',\"6's\",\"4's\"]]\n",
    "ax\n",
    "\n",
    "trace1 = go.Bar(\n",
    "    x=ax.team.values, y=ax[\"6's\"],\n",
    "    name=\"6's\",\n",
    "    orientation = 'v',\n",
    "    marker = dict(color = 'rgba(204,12,28, 0.6)',\n",
    "        line = dict(color = 'rgba(204,12,28, 0.6)',\n",
    "            width = 3)\n",
    "    )\n",
    ")\n",
    "trace2 = go.Bar(\n",
    "    x=ax.team.values, y=ax[\"4's\"],\n",
    "    name=\"4's\",\n",
    "    orientation = 'v',\n",
    "    marker = dict(color = 'rgba(9,234,227, 0.6)',\n",
    "        line = dict(color = 'rgba(9, 227, 227, 1.0)',\n",
    "            width = 3)\n",
    "    )\n",
    ")\n",
    "\n",
    "data = [trace1, trace2]\n",
    "layout = go.Layout(\n",
    "    barmode='stack'\n",
    ")\n",
    "\n",
    "fig = go.Figure(data=data, layout=layout)\n",
    "py.iplot(fig, filename='marker-h-bar')"
   ]
  },
  {
   "cell_type": "markdown",
   "metadata": {
    "_cell_guid": "d818dd44-ad6f-71f3-5653-932a2d9c892e",
    "_uuid": "b2c2f9718e38f28a20961130e0b91a603acf123a"
   },
   "source": [
    "RCB-RCB everywhere. Here too RCB leads with a big margin"
   ]
  },
  {
   "cell_type": "markdown",
   "metadata": {
    "_cell_guid": "d3482326-8d1b-6ea0-ed51-af12218a2d1b",
    "_uuid": "2efcc3832ea7f1890a7c77b875fc95676118b2e1"
   },
   "source": [
    "## How to win Finals??\n",
    "\n",
    "First let us see which teams have played and won the maximum finals"
   ]
  },
  {
   "cell_type": "code",
   "execution_count": null,
   "metadata": {
    "_cell_guid": "36fa7fb1-a759-6ab0-ed64-26553b77d2a5",
    "_execution_state": "idle",
    "_uuid": "1ffe24d5932f2b15ec4e15510cbced94c39ab175"
   },
   "outputs": [],
   "source": [
    "finals=matches.drop_duplicates(subset=['season'],keep='last')\n",
    "finals=finals[['id','season','city','team1','team2','toss_winner','toss_decision','winner']]\n",
    "most_finals=pd.concat([finals['team1'],finals['team2']]).value_counts().reset_index()\n",
    "most_finals.columns=[['team','count']]\n",
    "xyz=finals['winner'].value_counts().reset_index()\n",
    "most_finals=most_finals.merge(xyz,left_on='team',right_on='index',how='outer')\n",
    "most_finals=most_finals.replace(np.NaN,0)\n",
    "most_finals.drop('index',axis=1,inplace=True)\n",
    "most_finals.set_index('team',inplace=True)\n",
    "most_finals.columns=['finals_played','won_count']\n",
    "most_finals.plot.bar(width=0.8)\n",
    "fig=mlt.gcf()\n",
    "fig.set_size_inches(10,6)\n",
    "mlt.show()"
   ]
  },
  {
   "cell_type": "markdown",
   "metadata": {
    "_cell_guid": "cea717a7-846c-b510-bebd-d3c7ee076531",
    "_uuid": "8281c2d5cf15f06f51edd252b84388bf4c13553a"
   },
   "source": [
    "Wooh!! CSK has played 6 IPL finals(but could win only 2 :( ) followed by RCB with 3. CSK,MI,KKR have all won 2 titles each. Sadly RCB have never won a final even with 3 apperances.\n",
    "\n",
    "Looking at the graph we can say that next year too CSK has a high chance of featuring in the finals as it has featured in 6 out of their 8 seasons played. "
   ]
  },
  {
   "cell_type": "markdown",
   "metadata": {
    "_cell_guid": "5282c573-9e53-0777-1856-823712e8c467",
    "_uuid": "35133aeb04ec265cfa763f7e7b90726871af6808"
   },
   "source": [
    "### Do Toss Winners Win Finals??"
   ]
  },
  {
   "cell_type": "code",
   "execution_count": null,
   "metadata": {
    "_cell_guid": "c3c8bd8f-c8e4-daff-7bed-b49d6e21d367",
    "_execution_state": "idle",
    "_uuid": "6da2e36eacd02065c335d10438a1b54c2a3ababe"
   },
   "outputs": [],
   "source": [
    "df=finals[finals['toss_winner']==finals['winner']]\n",
    "slices=[len(finals),(9-len(df))]\n",
    "labels=['yes','no']\n",
    "mlt.pie(slices,labels=labels,startangle=90,shadow=True,colors=['G','R'],explode=(0,0.1),autopct='%1.1f%%')\n",
    "fig = mlt.gcf()\n",
    "fig.set_size_inches(5,5)\n",
    "mlt.show()"
   ]
  },
  {
   "cell_type": "markdown",
   "metadata": {
    "_cell_guid": "bedfb0aa-5dcb-cf77-297c-4cff2a9ea185",
    "_uuid": "1b2b6360527bfa3efc5b1b1d73a50aa379843bd7"
   },
   "source": [
    "75%!!! of chances is that the toss winning team wins the title. Thats a huge number and thus indication that winning the toss plays a great  role in match winning!! "
   ]
  },
  {
   "cell_type": "markdown",
   "metadata": {
    "_cell_guid": "c8beb3a1-aa5c-9ee9-3894-0a5c7b4df6be",
    "_uuid": "ecf2dc03c02e63b2d81cf5eec9e2a116e3d2d682"
   },
   "source": [
    "### Batting Or Fielding For Toss Winners"
   ]
  },
  {
   "cell_type": "code",
   "execution_count": null,
   "metadata": {
    "_cell_guid": "ed6e570a-6681-fbf5-2631-d7acab033ad3",
    "_execution_state": "idle",
    "_uuid": "98e905afcc3733514943980e7245455473a8a29f"
   },
   "outputs": [],
   "source": [
    "finals['is_tosswin_matchwin']=finals['toss_winner']==finals['winner']\n",
    "sns.countplot(x='toss_decision',hue='is_tosswin_matchwin',data=finals)\n",
    "mlt.show()"
   ]
  },
  {
   "cell_type": "markdown",
   "metadata": {
    "_cell_guid": "daf970dd-6eba-e4eb-f20f-fcbbb3dea95e",
    "_uuid": "84514bf2c9157f41193da11376e61d48fbae3854"
   },
   "source": [
    "Looks like after **Winning The Toss** team should opt for **Batting** as we can see that batting has proved to be match winning decision for 4/5 times out of 9 finals.\n",
    "\n",
    "Also the winner of IPL 10 chose to bat first on winning the toss. I know this as I saw The match :):):)"
   ]
  },
  {
   "cell_type": "markdown",
   "metadata": {
    "_cell_guid": "c7fb09d5-c97f-0624-9f43-9ce771b465ad",
    "_uuid": "045dbab66dda861a52f0a6cd422f829f1d074605"
   },
   "source": [
    "I will keep updating the notebook as and when I get a new question to be analysed.\n",
    "\n",
    "**Thank You For Having A Look At This Notebook**\n",
    "\n",
    "**Please Upvote if this was Helpful**"
   ]
  },
  {
   "cell_type": "code",
   "execution_count": null,
   "metadata": {
    "_cell_guid": "72108c5a-09b7-7699-58f1-ac9207fde00b",
    "_execution_state": "idle",
    "_uuid": "407f467305fc358ec7544f81a11737848039ac20"
   },
   "outputs": [],
   "source": []
  },
  {
   "cell_type": "code",
   "execution_count": null,
   "metadata": {
    "_cell_guid": "62709234-db82-cf38-afec-83965fc1d9fa",
    "_execution_state": "idle",
    "_uuid": "f5ea5a8ec8bef7f724e1e5bba1f39b357d354494"
   },
   "outputs": [],
   "source": []
  }
 ],
 "metadata": {
  "_change_revision": 0,
  "_is_fork": false,
  "kernelspec": {
   "display_name": "conda_python3",
   "language": "python",
   "name": "conda_python3"
  },
  "language_info": {
   "codemirror_mode": {
    "name": "ipython",
    "version": 3
   },
   "file_extension": ".py",
   "mimetype": "text/x-python",
   "name": "python",
   "nbconvert_exporter": "python",
   "pygments_lexer": "ipython3",
   "version": "3.6.4"
  }
 },
 "nbformat": 4,
 "nbformat_minor": 1
}
