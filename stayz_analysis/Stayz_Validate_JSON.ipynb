{
 "cells": [
  {
   "cell_type": "code",
   "execution_count": 1,
   "metadata": {},
   "outputs": [],
   "source": [
    "import sysconfig\n",
    "import os\n",
    "import numpy as np\n",
    "import pandas as pd\n",
    "import json\n",
    "import distutils\n",
    "import datetime\n",
    "import scrapy\n",
    "import requests\n",
    "import json\n",
    "import logging\n",
    "import string\n",
    "import re"
   ]
  },
  {
   "cell_type": "code",
   "execution_count": 2,
   "metadata": {},
   "outputs": [
    {
     "name": "stdout",
     "output_type": "stream",
     "text": [
      "Date: 2018-04-17\n"
     ]
    }
   ],
   "source": [
    "date_str = datetime.datetime.now().strftime(\"%Y-%m-%d\")\n",
    "\n",
    "date_str = '2018-04-17'\n",
    "print(\"Date: \" + date_str)"
   ]
  },
  {
   "cell_type": "code",
   "execution_count": 3,
   "metadata": {},
   "outputs": [
    {
     "ename": "ValueError",
     "evalue": "Expected object or value",
     "output_type": "error",
     "traceback": [
      "\u001b[0;31m---------------------------------------------------------------------------\u001b[0m",
      "\u001b[0;31mValueError\u001b[0m                                Traceback (most recent call last)",
      "\u001b[0;32m<ipython-input-3-92931d3d01fb>\u001b[0m in \u001b[0;36m<module>\u001b[0;34m()\u001b[0m\n\u001b[1;32m      1\u001b[0m \u001b[0;31m# Read the data file and display\u001b[0m\u001b[0;34m\u001b[0m\u001b[0;34m\u001b[0m\u001b[0m\n\u001b[0;32m----> 2\u001b[0;31m \u001b[0mtest_cal\u001b[0m \u001b[0;34m=\u001b[0m \u001b[0mpd\u001b[0m\u001b[0;34m.\u001b[0m\u001b[0mread_json\u001b[0m\u001b[0;34m(\u001b[0m\u001b[0;34m'/Users/taj/GitHub/scraping/stayz/WebData/nsw_calendar/stayz_calendar_'\u001b[0m \u001b[0;34m+\u001b[0m \u001b[0mdate_str\u001b[0m \u001b[0;34m+\u001b[0m \u001b[0;34m'.json'\u001b[0m\u001b[0;34m)\u001b[0m\u001b[0;34m\u001b[0m\u001b[0m\n\u001b[0m\u001b[1;32m      3\u001b[0m \u001b[0;34m\u001b[0m\u001b[0m\n\u001b[1;32m      4\u001b[0m \u001b[0mtest_cal\u001b[0m\u001b[0;34m.\u001b[0m\u001b[0mhead\u001b[0m\u001b[0;34m(\u001b[0m\u001b[0;34m)\u001b[0m\u001b[0;34m\u001b[0m\u001b[0m\n",
      "\u001b[0;32m~/anaconda3/lib/python3.6/site-packages/pandas/io/json/json.py\u001b[0m in \u001b[0;36mread_json\u001b[0;34m(path_or_buf, orient, typ, dtype, convert_axes, convert_dates, keep_default_dates, numpy, precise_float, date_unit, encoding, lines, chunksize, compression)\u001b[0m\n\u001b[1;32m    364\u001b[0m         \u001b[0;32mreturn\u001b[0m \u001b[0mjson_reader\u001b[0m\u001b[0;34m\u001b[0m\u001b[0m\n\u001b[1;32m    365\u001b[0m \u001b[0;34m\u001b[0m\u001b[0m\n\u001b[0;32m--> 366\u001b[0;31m     \u001b[0;32mreturn\u001b[0m \u001b[0mjson_reader\u001b[0m\u001b[0;34m.\u001b[0m\u001b[0mread\u001b[0m\u001b[0;34m(\u001b[0m\u001b[0;34m)\u001b[0m\u001b[0;34m\u001b[0m\u001b[0m\n\u001b[0m\u001b[1;32m    367\u001b[0m \u001b[0;34m\u001b[0m\u001b[0m\n\u001b[1;32m    368\u001b[0m \u001b[0;34m\u001b[0m\u001b[0m\n",
      "\u001b[0;32m~/anaconda3/lib/python3.6/site-packages/pandas/io/json/json.py\u001b[0m in \u001b[0;36mread\u001b[0;34m(self)\u001b[0m\n\u001b[1;32m    465\u001b[0m             )\n\u001b[1;32m    466\u001b[0m         \u001b[0;32melse\u001b[0m\u001b[0;34m:\u001b[0m\u001b[0;34m\u001b[0m\u001b[0m\n\u001b[0;32m--> 467\u001b[0;31m             \u001b[0mobj\u001b[0m \u001b[0;34m=\u001b[0m \u001b[0mself\u001b[0m\u001b[0;34m.\u001b[0m\u001b[0m_get_object_parser\u001b[0m\u001b[0;34m(\u001b[0m\u001b[0mself\u001b[0m\u001b[0;34m.\u001b[0m\u001b[0mdata\u001b[0m\u001b[0;34m)\u001b[0m\u001b[0;34m\u001b[0m\u001b[0m\n\u001b[0m\u001b[1;32m    468\u001b[0m         \u001b[0mself\u001b[0m\u001b[0;34m.\u001b[0m\u001b[0mclose\u001b[0m\u001b[0;34m(\u001b[0m\u001b[0;34m)\u001b[0m\u001b[0;34m\u001b[0m\u001b[0m\n\u001b[1;32m    469\u001b[0m         \u001b[0;32mreturn\u001b[0m \u001b[0mobj\u001b[0m\u001b[0;34m\u001b[0m\u001b[0m\n",
      "\u001b[0;32m~/anaconda3/lib/python3.6/site-packages/pandas/io/json/json.py\u001b[0m in \u001b[0;36m_get_object_parser\u001b[0;34m(self, json)\u001b[0m\n\u001b[1;32m    482\u001b[0m         \u001b[0mobj\u001b[0m \u001b[0;34m=\u001b[0m \u001b[0;32mNone\u001b[0m\u001b[0;34m\u001b[0m\u001b[0m\n\u001b[1;32m    483\u001b[0m         \u001b[0;32mif\u001b[0m \u001b[0mtyp\u001b[0m \u001b[0;34m==\u001b[0m \u001b[0;34m'frame'\u001b[0m\u001b[0;34m:\u001b[0m\u001b[0;34m\u001b[0m\u001b[0m\n\u001b[0;32m--> 484\u001b[0;31m             \u001b[0mobj\u001b[0m \u001b[0;34m=\u001b[0m \u001b[0mFrameParser\u001b[0m\u001b[0;34m(\u001b[0m\u001b[0mjson\u001b[0m\u001b[0;34m,\u001b[0m \u001b[0;34m**\u001b[0m\u001b[0mkwargs\u001b[0m\u001b[0;34m)\u001b[0m\u001b[0;34m.\u001b[0m\u001b[0mparse\u001b[0m\u001b[0;34m(\u001b[0m\u001b[0;34m)\u001b[0m\u001b[0;34m\u001b[0m\u001b[0m\n\u001b[0m\u001b[1;32m    485\u001b[0m \u001b[0;34m\u001b[0m\u001b[0m\n\u001b[1;32m    486\u001b[0m         \u001b[0;32mif\u001b[0m \u001b[0mtyp\u001b[0m \u001b[0;34m==\u001b[0m \u001b[0;34m'series'\u001b[0m \u001b[0;32mor\u001b[0m \u001b[0mobj\u001b[0m \u001b[0;32mis\u001b[0m \u001b[0;32mNone\u001b[0m\u001b[0;34m:\u001b[0m\u001b[0;34m\u001b[0m\u001b[0m\n",
      "\u001b[0;32m~/anaconda3/lib/python3.6/site-packages/pandas/io/json/json.py\u001b[0m in \u001b[0;36mparse\u001b[0;34m(self)\u001b[0m\n\u001b[1;32m    574\u001b[0m \u001b[0;34m\u001b[0m\u001b[0m\n\u001b[1;32m    575\u001b[0m         \u001b[0;32melse\u001b[0m\u001b[0;34m:\u001b[0m\u001b[0;34m\u001b[0m\u001b[0m\n\u001b[0;32m--> 576\u001b[0;31m             \u001b[0mself\u001b[0m\u001b[0;34m.\u001b[0m\u001b[0m_parse_no_numpy\u001b[0m\u001b[0;34m(\u001b[0m\u001b[0;34m)\u001b[0m\u001b[0;34m\u001b[0m\u001b[0m\n\u001b[0m\u001b[1;32m    577\u001b[0m \u001b[0;34m\u001b[0m\u001b[0m\n\u001b[1;32m    578\u001b[0m         \u001b[0;32mif\u001b[0m \u001b[0mself\u001b[0m\u001b[0;34m.\u001b[0m\u001b[0mobj\u001b[0m \u001b[0;32mis\u001b[0m \u001b[0;32mNone\u001b[0m\u001b[0;34m:\u001b[0m\u001b[0;34m\u001b[0m\u001b[0m\n",
      "\u001b[0;32m~/anaconda3/lib/python3.6/site-packages/pandas/io/json/json.py\u001b[0m in \u001b[0;36m_parse_no_numpy\u001b[0;34m(self)\u001b[0m\n\u001b[1;32m    791\u001b[0m         \u001b[0;32mif\u001b[0m \u001b[0morient\u001b[0m \u001b[0;34m==\u001b[0m \u001b[0;34m\"columns\"\u001b[0m\u001b[0;34m:\u001b[0m\u001b[0;34m\u001b[0m\u001b[0m\n\u001b[1;32m    792\u001b[0m             self.obj = DataFrame(\n\u001b[0;32m--> 793\u001b[0;31m                 loads(json, precise_float=self.precise_float), dtype=None)\n\u001b[0m\u001b[1;32m    794\u001b[0m         \u001b[0;32melif\u001b[0m \u001b[0morient\u001b[0m \u001b[0;34m==\u001b[0m \u001b[0;34m\"split\"\u001b[0m\u001b[0;34m:\u001b[0m\u001b[0;34m\u001b[0m\u001b[0m\n\u001b[1;32m    795\u001b[0m             decoded = dict((str(k), v)\n",
      "\u001b[0;31mValueError\u001b[0m: Expected object or value"
     ]
    }
   ],
   "source": [
    "# Read the data file and display\n",
    "test_cal = pd.read_json('/Users/taj/GitHub/scraping/stayz/WebData/nsw_calendar/stayz_calendar_' + date_str + '.json')\n",
    "\n",
    "test_cal.head()"
   ]
  },
  {
   "cell_type": "code",
   "execution_count": null,
   "metadata": {},
   "outputs": [],
   "source": [
    "# Read the data file and display\n",
    "test_proc = pd.read_json('/Users/taj/GitHub/scraping/stayz/WebData/nsw_processed_calendar/stayz_calendar_' + date_str + '.json.zip_proc.json')\n",
    "\n",
    "test_proc.head()"
   ]
  },
  {
   "cell_type": "code",
   "execution_count": 67,
   "metadata": {},
   "outputs": [
    {
     "name": "stdout",
     "output_type": "stream",
     "text": [
      "stayz_bookings_stayz_calendar_2018-02-22.json\n",
      "stayz_bookings_stayz_calendar_2018-02-22a.json\n",
      "stayz_bookings_stayz_calendar_2018-02-23.json\n",
      "stayz_bookings_stayz_calendar_2018-02-26.json\n",
      "stayz_bookings_stayz_calendar_2018-02-28.json\n",
      "stayz_bookings_stayz_calendar_2018-03-02.json\n",
      "stayz_bookings_stayz_calendar_2018-03-03.json\n",
      "stayz_bookings_stayz_calendar_2018-03-04.json\n",
      "stayz_bookings_stayz_calendar_2018-03-07.json\n",
      "stayz_bookings_stayz_calendar_2018-03-08.json\n",
      "stayz_bookings_stayz_calendar_2018-03-10.json\n",
      "stayz_bookings_stayz_calendar_2018-03-11.json\n",
      "stayz_bookings_stayz_calendar_2018-03-12.json\n",
      "stayz_bookings_stayz_calendar_2018-03-13.json\n",
      "stayz_bookings_stayz_calendar_2018-03-14.json\n",
      "stayz_bookings_stayz_calendar_2018-03-15.json\n",
      "stayz_bookings_stayz_calendar_2018-03-16.json\n",
      "stayz_bookings_stayz_calendar_2018-03-17.json\n",
      "stayz_bookings_stayz_calendar_2018-03-18.json\n",
      "stayz_bookings_stayz_calendar_2018-03-20.json\n",
      "stayz_bookings_stayz_calendar_2018-03-21.json\n",
      "stayz_bookings_stayz_calendar_2018-03-22.json\n",
      "stayz_bookings_stayz_calendar_2018-03-23.json\n",
      "stayz_bookings_stayz_calendar_2018-03-23a.json\n",
      "stayz_bookings_stayz_calendar_2018-03-24.json\n",
      "stayz_bookings_stayz_calendar_2018-03-25.json\n",
      "stayz_bookings_stayz_calendar_2018-03-26.json\n",
      "stayz_bookings_stayz_calendar_2018-03-27.json\n",
      "stayz_bookings_stayz_calendar_2018-03-28.json\n",
      "stayz_bookings_stayz_calendar_2018-03-29.json\n",
      "stayz_bookings_stayz_calendar_2018-03-30.json\n",
      "stayz_bookings_stayz_calendar_2018-03-31.json\n",
      "stayz_bookings_stayz_calendar_2018-04-01.json\n",
      "stayz_bookings_stayz_calendar_2018-04-02.json\n",
      "stayz_bookings_stayz_calendar_2018-04-03.json\n",
      "stayz_bookings_stayz_calendar_2018-04-04.json\n",
      "stayz_bookings_stayz_calendar_2018-04-04a.json\n",
      "stayz_bookings_stayz_calendar_2018-04-05.json\n",
      "stayz_bookings_stayz_calendar_2018-04-06.json\n",
      "stayz_bookings_stayz_calendar_2018-04-07.json\n",
      "stayz_bookings_stayz_calendar_2018-04-08.json\n",
      "stayz_bookings_stayz_calendar_2018-04-09.json\n",
      "stayz_bookings_stayz_calendar_2018-04-10.json\n",
      "stayz_bookings_stayz_calendar_2018-04-11.json\n",
      "stayz_bookings_stayz_calendar_2018-04-12.json\n",
      "stayz_bookings_stayz_calendar_2018-04-13.json\n",
      "stayz_bookings_stayz_calendar_2018-04-14.json\n",
      "stayz_bookings_stayz_calendar_2018-04-15.json\n",
      "stayz_bookings_stayz_calendar_2018-04-16.json\n",
      "stayz_bookings_stayz_calendar_2018-04-17.json\n",
      "test_book_2018-04-01.csv\n",
      "test_book_2018-04-02.csv\n",
      "test_book_2018-04-03.csv\n",
      "test_book_2018-04-04.csv\n",
      "test_book_2018-04-05.csv\n",
      "test_book_2018-04-06.csv\n",
      "test_book_2018-04-07.csv\n",
      "test_book_2018-04-08.csv\n",
      "test_book_2018-04-09.csv\n",
      "test_book_2018-04-10.csv\n",
      "test_book_2018-04-11.csv\n",
      "test_book_2018-04-12.csv\n",
      "test_book_2018-04-13.csv\n",
      "test_book_2018-04-14.csv\n",
      "test_book_2018-04-15.csv\n",
      "test_book_2018-04-16.csv\n",
      "test_book_2018-04-17.csv\n",
      "stayz_bookings_stayz_calendar_2018-04-17.json\n"
     ]
    }
   ],
   "source": [
    "!ls /Users/taj/GitHub/scraping/stayz/WebData/nsw_bookings/\n",
    "\n",
    "print('stayz_bookings_stayz_calendar_' + date_str + '.json')"
   ]
  },
  {
   "cell_type": "code",
   "execution_count": 66,
   "metadata": {},
   "outputs": [
    {
     "name": "stdout",
     "output_type": "stream",
     "text": [
      "Date: 2018-04-01\n"
     ]
    },
    {
     "data": {
      "text/html": [
       "<div>\n",
       "<style scoped>\n",
       "    .dataframe tbody tr th:only-of-type {\n",
       "        vertical-align: middle;\n",
       "    }\n",
       "\n",
       "    .dataframe tbody tr th {\n",
       "        vertical-align: top;\n",
       "    }\n",
       "\n",
       "    .dataframe thead th {\n",
       "        text-align: right;\n",
       "    }\n",
       "</style>\n",
       "<table border=\"1\" class=\"dataframe\">\n",
       "  <thead>\n",
       "    <tr style=\"text-align: right;\">\n",
       "      <th></th>\n",
       "      <th>arr_dt</th>\n",
       "      <th>book_days</th>\n",
       "      <th>dep_dt</th>\n",
       "      <th>ext_at</th>\n",
       "    </tr>\n",
       "    <tr>\n",
       "      <th>property_id</th>\n",
       "      <th></th>\n",
       "      <th></th>\n",
       "      <th></th>\n",
       "      <th></th>\n",
       "    </tr>\n",
       "  </thead>\n",
       "  <tbody>\n",
       "    <tr>\n",
       "      <th>9082944</th>\n",
       "      <td>2018-04-27</td>\n",
       "      <td>3</td>\n",
       "      <td>2018-04-29</td>\n",
       "      <td>2018-04-01 01:30:06</td>\n",
       "    </tr>\n",
       "    <tr>\n",
       "      <th>9082944</th>\n",
       "      <td>2018-05-04</td>\n",
       "      <td>4</td>\n",
       "      <td>2018-05-07</td>\n",
       "      <td>2018-04-01 01:30:06</td>\n",
       "    </tr>\n",
       "    <tr>\n",
       "      <th>9082944</th>\n",
       "      <td>2018-05-12</td>\n",
       "      <td>17</td>\n",
       "      <td>2018-05-28</td>\n",
       "      <td>2018-04-01 01:30:06</td>\n",
       "    </tr>\n",
       "    <tr>\n",
       "      <th>9082944</th>\n",
       "      <td>2018-06-01</td>\n",
       "      <td>4</td>\n",
       "      <td>2018-06-04</td>\n",
       "      <td>2018-04-01 01:30:06</td>\n",
       "    </tr>\n",
       "    <tr>\n",
       "      <th>9082944</th>\n",
       "      <td>2018-06-08</td>\n",
       "      <td>4</td>\n",
       "      <td>2018-06-11</td>\n",
       "      <td>2018-04-01 01:30:06</td>\n",
       "    </tr>\n",
       "  </tbody>\n",
       "</table>\n",
       "</div>"
      ],
      "text/plain": [
       "                 arr_dt  book_days      dep_dt              ext_at\n",
       "property_id                                                       \n",
       "9082944      2018-04-27          3  2018-04-29 2018-04-01 01:30:06\n",
       "9082944      2018-05-04          4  2018-05-07 2018-04-01 01:30:06\n",
       "9082944      2018-05-12         17  2018-05-28 2018-04-01 01:30:06\n",
       "9082944      2018-06-01          4  2018-06-04 2018-04-01 01:30:06\n",
       "9082944      2018-06-08          4  2018-06-11 2018-04-01 01:30:06"
      ]
     },
     "execution_count": 66,
     "metadata": {},
     "output_type": "execute_result"
    }
   ],
   "source": [
    "# Read the data file and display\n",
    "\n",
    "book_date_str = '2018-04-01'\n",
    "print(\"Date: \" + book_date_str)\n",
    "\n",
    "test_book = pd.read_json('/Users/taj/GitHub/scraping/stayz/WebData/nsw_bookings/stayz_bookings_stayz_calendar_' + book_date_str + '.json')\n",
    "\n",
    "# Fill any NaN values with defaults\n",
    "test_book = test_book.fillna(value={'dep_dt':'2999-12-31', 'book_days':0})\n",
    "\n",
    "test_book.set_index('property_id',inplace=True)\n",
    "\n",
    "\n",
    "# Load the data into postgres table after saving to CSV\n",
    "\n",
    "csv_out = test_book.to_csv(columns=['ext_at','arr_dt','dep_dt','book_days'])\n",
    "\n",
    "fh = open('/Users/taj/GitHub/scraping/stayz/WebData/nsw_bookings/test_book_' + book_date_str + '.csv', 'w')\n",
    "\n",
    "fh.write(csv_out)\n",
    "\n",
    "fh.close()\n",
    "\n",
    "\n",
    "\n",
    "test_book.head()"
   ]
  },
  {
   "cell_type": "markdown",
   "metadata": {},
   "source": [
    "Once the CSV file of bookings is generated we can run the Postgres import from pgadmin4 with the script 'pg_bookings_import.sql'\n",
    "\n",
    "Interesting houses:\n",
    "1. Mudgee - breathtaking escape (9202601)\n",
    "1. Tambac - 3 bookings April (806)\n",
    "1. Angourio Studio - Mudgee new (9136503)"
   ]
  }
 ],
 "metadata": {
  "kernelspec": {
   "display_name": "Python 3",
   "language": "python",
   "name": "python3"
  },
  "language_info": {
   "codemirror_mode": {
    "name": "ipython",
    "version": 3
   },
   "file_extension": ".py",
   "mimetype": "text/x-python",
   "name": "python",
   "nbconvert_exporter": "python",
   "pygments_lexer": "ipython3",
   "version": "3.6.5"
  }
 },
 "nbformat": 4,
 "nbformat_minor": 2
}
