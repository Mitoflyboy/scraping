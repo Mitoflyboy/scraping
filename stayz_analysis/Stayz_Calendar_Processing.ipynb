{
 "cells": [
  {
   "cell_type": "code",
   "execution_count": null,
   "metadata": {
    "collapsed": true
   },
   "outputs": [],
   "source": [
    "import pandas as pd\n",
    "import datetime"
   ]
  },
  {
   "cell_type": "code",
   "execution_count": null,
   "metadata": {},
   "outputs": [],
   "source": [
    "date_str = datetime.datetime.now().strftime(\"%Y-%m-%d\")\n",
    "\n",
    "js = pd.read_json('/Users/taj/GitHub/scraping/chrome_stayz_calendar/WebData/stayz_calendar_' + date_str + '.json')\n",
    "\n",
    "js.head()"
   ]
  },
  {
   "cell_type": "code",
   "execution_count": null,
   "metadata": {
    "collapsed": true
   },
   "outputs": [],
   "source": [
    "import datetime\n",
    "import re\n",
    "import lxml\n",
    "from bs4 import BeautifulSoup\n",
    "import json\n",
    "#import bs4 as BeautifulSoup\n",
    "from calendar import monthrange\n",
    "\n",
    "d = datetime.date.today()\n",
    "mr = monthrange(d.year, d.month )\n",
    "cur_month = d.month\n",
    "\n",
    "first_page = True\n",
    "\n",
    "\n",
    "\n",
    "fp = open('/Users/taj/GitHub/scraping/chrome_stayz_calendar/WebData/stayz_processed_calendar_' + run_ts + '.json', 'w')\n",
    "\n",
    "\n",
    "for index, row in js.iterrows():   \n",
    "    \n",
    "    all_months = {}\n",
    "    \n",
    "    cur_month = d.month\n",
    "\n",
    "    # Set all the six months\n",
    "    for i in range(cur_month,cur_month+6):\n",
    "\n",
    "        mr = monthrange( d.year, i )\n",
    "\n",
    "        max_day = mr[1]\n",
    "\n",
    "        all_months[i] = dict.fromkeys(range(1,max_day+1),'')\n",
    "\n",
    "    \n",
    "    raw_cal = \"<html><body><table>\" + row['calendar'] + \"</table></body></html>\"\n",
    "    \n",
    "    soup = BeautifulSoup(raw_cal, 'lxml') # Parse the HTML as a string\n",
    "    soup_tables = soup.find_all('tbody')# Grab the first table\n",
    "\n",
    "    for month_tb in soup_tables:\n",
    " \n",
    "        table = soup.find(\"table\")\n",
    "        \n",
    "        cells = table.findAll(\"td\")\n",
    "            \n",
    "        for td in cells:\n",
    "\n",
    "            try:\n",
    "                day_val = int(td.text)\n",
    "                \n",
    "                #----------------------------------------------------------\n",
    "                # Check if DEP and ARR can both be on the same day\n",
    "                # for consecutive bookings?\n",
    "\n",
    "                # If its an unavailable date then mark: \n",
    "                m = re.search('c-calendar--unavailable', str(td))\n",
    "\n",
    "                if m is not None:\n",
    "                    all_months[cur_month][day_val] = 'UVL' # Unavailable day\n",
    "\n",
    "                # If its an unavailable date then mark: \n",
    "                m = re.search('c-calendar--arrival-day', str(td))\n",
    "\n",
    "                if m is not None:\n",
    "                    all_months[cur_month][day_val] = 'ARR' # Arrival day\n",
    "\n",
    "                # If its an unavailable date then mark: \n",
    "                m = re.search('c-calendar--departure-day', str(td))\n",
    "\n",
    "                if m is not None:\n",
    "                    all_months[cur_month][day_val] = 'DEP' # Departure day\n",
    "\n",
    "                m = re.search('c-calendar--available', str(td))\n",
    "                \n",
    "                if m is not None:\n",
    "                    all_months[cur_month][day_val] = 'AVL' # Available day\n",
    "\n",
    "\n",
    "            except ValueError:\n",
    "                day_val = None\n",
    "\n",
    "        # Move to the next month\n",
    "        cur_month += 1\n",
    "\n",
    "    # Print the table to check\n",
    "    #print(all_months)\n",
    "    \n",
    "    cal_details = {}\n",
    "    cal_details['property_id'] = row['property_id']\n",
    "    cal_details['calendar'] = all_months\n",
    "    \n",
    "    # Write the data to JSON\n",
    "    json.dump(cal_details, fp)\n",
    "    \n",
    "    if first_page is True:\n",
    "        fp.write('[\\n')\n",
    "        first_page = False\n",
    "    else:\n",
    "        fp.write('\\n,')\n",
    "\n",
    "# Close out the JSON format\n",
    "fp.write('\\n]')    \n",
    "\n",
    "# Tidy up\n",
    "fp.close()"
   ]
  },
  {
   "cell_type": "code",
   "execution_count": null,
   "metadata": {},
   "outputs": [],
   "source": [
    "run_ts = '2018-02-26'\n",
    "print(run_ts)\n",
    "p = pd.read_json('/Users/taj/GitHub/scraping/chrome_stayz_calendar/WebData/stayz_processed_calendar' + run_ts + '.json')\n",
    "p.head()"
   ]
  },
  {
   "cell_type": "code",
   "execution_count": null,
   "metadata": {},
   "outputs": [],
   "source": [
    "c = p['calendar']\n",
    "c.head()"
   ]
  },
  {
   "cell_type": "code",
   "execution_count": null,
   "metadata": {
    "collapsed": true
   },
   "outputs": [],
   "source": []
  }
 ],
 "metadata": {
  "kernelspec": {
   "display_name": "Python 3",
   "language": "python",
   "name": "python3"
  },
  "language_info": {
   "codemirror_mode": {
    "name": "ipython",
    "version": 3
   },
   "file_extension": ".py",
   "mimetype": "text/x-python",
   "name": "python",
   "nbconvert_exporter": "python",
   "pygments_lexer": "ipython3",
   "version": "3.6.3"
  }
 },
 "nbformat": 4,
 "nbformat_minor": 2
}
