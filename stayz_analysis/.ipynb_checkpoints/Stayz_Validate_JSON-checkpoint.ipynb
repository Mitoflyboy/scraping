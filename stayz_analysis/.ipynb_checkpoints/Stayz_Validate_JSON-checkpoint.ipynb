{
 "cells": [
  {
   "cell_type": "code",
   "execution_count": 1,
   "metadata": {},
   "outputs": [],
   "source": [
    "import sysconfig\n",
    "import os\n",
    "import numpy as np\n",
    "import pandas as pd\n",
    "import json\n",
    "import distutils\n",
    "import datetime\n",
    "import scrapy\n",
    "import requests\n",
    "import json\n",
    "import logging\n",
    "import string\n",
    "import re\n",
    "import seaborn as sns\n",
    "import matplotlib.pyplot as plt\n",
    "\n",
    "from sklearn import model_selection\n",
    "from sklearn.model_selection import cross_val_score\n",
    "from sklearn.tree import DecisionTreeClassifier\n",
    "\n",
    "%matplotlib inline"
   ]
  },
  {
   "cell_type": "code",
   "execution_count": 8,
   "metadata": {},
   "outputs": [
    {
     "name": "stdout",
     "output_type": "stream",
     "text": [
      "Date: 2018-04-04a\n"
     ]
    }
   ],
   "source": [
    "date_str = datetime.datetime.now().strftime(\"%Y-%m-%d\")\n",
    "\n",
    "date_str = '2018-04-04a'\n",
    "print(\"Date: \" + date_str)"
   ]
  },
  {
   "cell_type": "code",
   "execution_count": 9,
   "metadata": {},
   "outputs": [
    {
     "data": {
      "text/html": [
       "<div>\n",
       "<style scoped>\n",
       "    .dataframe tbody tr th:only-of-type {\n",
       "        vertical-align: middle;\n",
       "    }\n",
       "\n",
       "    .dataframe tbody tr th {\n",
       "        vertical-align: top;\n",
       "    }\n",
       "\n",
       "    .dataframe thead th {\n",
       "        text-align: right;\n",
       "    }\n",
       "</style>\n",
       "<table border=\"1\" class=\"dataframe\">\n",
       "  <thead>\n",
       "    <tr style=\"text-align: right;\">\n",
       "      <th></th>\n",
       "      <th>calendar</th>\n",
       "      <th>ext_at</th>\n",
       "      <th>property_id</th>\n",
       "      <th>review_count</th>\n",
       "      <th>review_value</th>\n",
       "    </tr>\n",
       "  </thead>\n",
       "  <tbody>\n",
       "    <tr>\n",
       "      <th>0</th>\n",
       "      <td>&lt;thead&gt;&lt;tr&gt;&lt;th scope=\"col\"&gt;&lt;span title=\"Monday...</td>\n",
       "      <td>2018-04-04 01:30:08</td>\n",
       "      <td>9167523</td>\n",
       "      <td>20</td>\n",
       "      <td>5.0</td>\n",
       "    </tr>\n",
       "    <tr>\n",
       "      <th>1</th>\n",
       "      <td>&lt;thead&gt;&lt;tr&gt;&lt;th scope=\"col\"&gt;&lt;span title=\"Monday...</td>\n",
       "      <td>2018-04-04 01:30:10</td>\n",
       "      <td>9026665</td>\n",
       "      <td>15</td>\n",
       "      <td>4.9</td>\n",
       "    </tr>\n",
       "    <tr>\n",
       "      <th>2</th>\n",
       "      <td>&lt;thead&gt;&lt;tr&gt;&lt;th scope=\"col\"&gt;&lt;span title=\"Monday...</td>\n",
       "      <td>2018-04-04 01:30:12</td>\n",
       "      <td>9026337</td>\n",
       "      <td>45</td>\n",
       "      <td>4.8</td>\n",
       "    </tr>\n",
       "    <tr>\n",
       "      <th>3</th>\n",
       "      <td>&lt;thead&gt;&lt;tr&gt;&lt;th scope=\"col\"&gt;&lt;span title=\"Monday...</td>\n",
       "      <td>2018-04-04 01:30:15</td>\n",
       "      <td>9166132</td>\n",
       "      <td>9</td>\n",
       "      <td>5.0</td>\n",
       "    </tr>\n",
       "    <tr>\n",
       "      <th>4</th>\n",
       "      <td>&lt;thead&gt;&lt;tr&gt;&lt;th scope=\"col\"&gt;&lt;span title=\"Monday...</td>\n",
       "      <td>2018-04-04 01:30:18</td>\n",
       "      <td>9030183</td>\n",
       "      <td>93</td>\n",
       "      <td>-1.0</td>\n",
       "    </tr>\n",
       "  </tbody>\n",
       "</table>\n",
       "</div>"
      ],
      "text/plain": [
       "                                            calendar              ext_at  \\\n",
       "0  <thead><tr><th scope=\"col\"><span title=\"Monday... 2018-04-04 01:30:08   \n",
       "1  <thead><tr><th scope=\"col\"><span title=\"Monday... 2018-04-04 01:30:10   \n",
       "2  <thead><tr><th scope=\"col\"><span title=\"Monday... 2018-04-04 01:30:12   \n",
       "3  <thead><tr><th scope=\"col\"><span title=\"Monday... 2018-04-04 01:30:15   \n",
       "4  <thead><tr><th scope=\"col\"><span title=\"Monday... 2018-04-04 01:30:18   \n",
       "\n",
       "  property_id  review_count  review_value  \n",
       "0     9167523            20           5.0  \n",
       "1     9026665            15           4.9  \n",
       "2     9026337            45           4.8  \n",
       "3     9166132             9           5.0  \n",
       "4     9030183            93          -1.0  "
      ]
     },
     "execution_count": 9,
     "metadata": {},
     "output_type": "execute_result"
    }
   ],
   "source": [
    "# Read the data file and display\n",
    "test_file = pd.read_json('/Users/taj/GitHub/scraping/stayz/WebData/nsw_calendar/stayz_calendar_' + date_str + '.json.zip')\n",
    "\n",
    "test_file.head()"
   ]
  }
 ],
 "metadata": {
  "kernelspec": {
   "display_name": "Python 3",
   "language": "python",
   "name": "python3"
  },
  "language_info": {
   "codemirror_mode": {
    "name": "ipython",
    "version": 3
   },
   "file_extension": ".py",
   "mimetype": "text/x-python",
   "name": "python",
   "nbconvert_exporter": "python",
   "pygments_lexer": "ipython3",
   "version": "3.6.5"
  }
 },
 "nbformat": 4,
 "nbformat_minor": 2
}
